{
 "cells": [
  {
   "cell_type": "code",
   "execution_count": 44,
   "metadata": {
    "slideshow": {
     "slide_type": "skip"
    }
   },
   "outputs": [],
   "source": [
    "%matplotlib inline \n",
    "# this just tells the notebook to display images in the cells, rather than send it to a new window\n",
    "try:\n",
    "    # library for nicer visualizations\n",
    "    import seaborn\n",
    "    seaborn.set_context('poster')\n",
    "except ImportError:\n",
    "    pass"
   ]
  },
  {
   "cell_type": "markdown",
   "metadata": {
    "slideshow": {
     "slide_type": "slide"
    }
   },
   "source": [
    "# Pandas and Databases"
   ]
  },
  {
   "cell_type": "markdown",
   "metadata": {
    "slideshow": {
     "slide_type": "slide"
    }
   },
   "source": [
    "## *'If you torture the data long enough, it will confess.'*\n",
    "*– Master Turtle*"
   ]
  },
  {
   "cell_type": "markdown",
   "metadata": {
    "slideshow": {
     "slide_type": "notes"
    }
   },
   "source": [
    "Databases are collections of **tables**, organized into **columns** and **rows**, that allow us to store, select, and relate data to each other. The most common language is SQL, which comes in various forms.\n",
    "\n",
    "`pandas` is a library (i.e., a code collection) of useful functions and objects to work with data. It can read from a variety of formats (CSV, Excel, ...), including SQL databases, and has a load of nifty tools to analyze and visualize the data."
   ]
  },
  {
   "cell_type": "markdown",
   "metadata": {
    "slideshow": {
     "slide_type": "slide"
    }
   },
   "source": [
    "# Databases"
   ]
  },
  {
   "cell_type": "markdown",
   "metadata": {
    "slideshow": {
     "slide_type": "subslide"
    }
   },
   "source": [
    "## Selecting data"
   ]
  },
  {
   "cell_type": "markdown",
   "metadata": {
    "slideshow": {
     "slide_type": "-"
    }
   },
   "source": [
    "In SQL, keywords are typically written in CAPS, as to distinguish them from variable names. The general command to get data from a DB is\n",
    "\n",
    "```sql\n",
    "SELECT <columns> FROM <table>\n",
    "```\n",
    "\n",
    "`<columns>` is a comma separated list of the column names we want. If we want **all** columns, we can use the Kleene star `*`."
   ]
  },
  {
   "cell_type": "markdown",
   "metadata": {
    "slideshow": {
     "slide_type": "subslide"
    }
   },
   "source": [
    "### DISTINCT\n",
    "\n",
    "If we want unique entries, we can use the `DISTINCT` keyword:\n",
    "```sql\n",
    "SELECT DISTINCT <columns> FROM <table>\n",
    "```\n",
    "\n",
    "This automatically gets rid of duplicates."
   ]
  },
  {
   "cell_type": "markdown",
   "metadata": {
    "slideshow": {
     "slide_type": "subslide"
    }
   },
   "source": [
    "### WHERE\n",
    "\n",
    "If we want only entries that fulfill a certain condition, we can use the `WHERE` keyword:\n",
    "```sql\n",
    "SELECT <columns> FROM <table> WHERE <condition>\n",
    "```\n",
    "\n",
    "`<condition>` is similar to a boolean statement in Python, but you don't need double equals for comparison. \n",
    "\n",
    "```sql\n",
    "SELECT * FROM tweets WHERE followers > 100\n",
    "```\n",
    "\n",
    "You can also combine several conditions with `AND` and `OR`.\n",
    "\n",
    "```sql\n",
    "SELECT * FROM tweets WHERE followers > 100 AND is_retweet = 'False'\n",
    "```\n",
    "\n"
   ]
  },
  {
   "cell_type": "markdown",
   "metadata": {
    "slideshow": {
     "slide_type": "subslide"
    }
   },
   "source": [
    "### LIMIT\n",
    "\n",
    "Databases can be massive (that's kind of their point), so when you only want a bit to explore first, use the `LIMIT` keyword:\n",
    "```sql\n",
    "SELECT <columns> FROM <table> LIMIT <N>\n",
    "```\n",
    "\n",
    "`<N>` is the maximum number of entries you want"
   ]
  },
  {
   "cell_type": "markdown",
   "metadata": {
    "slideshow": {
     "slide_type": "subslide"
    }
   },
   "source": [
    "## Activity\n",
    "\n",
    "Suppose you have a table called `movies` with the following columns:\n",
    "\n",
    "<table>\n",
    "    <tr>\n",
    "        <th>name</th>\n",
    "        <th>director</th>\n",
    "        <th>year</th>\n",
    "        <th>cost</th> \n",
    "        <th>gain</th>\n",
    "    </tr>\n",
    "</table>\n",
    "\n",
    "How would you select\n",
    "* the unique names of all the directors?\n",
    "* all rows with films made in 1992?\n",
    "* all films made before 2010 that cost under 10M?\n",
    "* the top 10 films made in 2001 that made over 10M?"
   ]
  },
  {
   "cell_type": "markdown",
   "metadata": {
    "slideshow": {
     "slide_type": "subslide"
    }
   },
   "source": [
    "## Databases in Python\n",
    "\n",
    "In order to use SQL in Python, we need a library called `sqlite3`."
   ]
  },
  {
   "cell_type": "code",
   "execution_count": 45,
   "metadata": {},
   "outputs": [],
   "source": [
    "import sqlite3 # this library allows us to connect to a database"
   ]
  },
  {
   "cell_type": "markdown",
   "metadata": {},
   "source": [
    "First, we need to establish a connection to the database. We use the `connect()` function:"
   ]
  },
  {
   "cell_type": "code",
   "execution_count": 46,
   "metadata": {},
   "outputs": [],
   "source": [
    "con = sqlite3.connect('example.db')"
   ]
  },
  {
   "cell_type": "markdown",
   "metadata": {
    "slideshow": {
     "slide_type": "subslide"
    }
   },
   "source": [
    "Databases can contain several **tables**, so before we proceed, it's a good idea to check how many we have and how they are called. To do this, we first need a **cursor** (think of it as an iterator over the table), and then execute an **SQL command**:"
   ]
  },
  {
   "cell_type": "code",
   "execution_count": 47,
   "metadata": {},
   "outputs": [
    {
     "name": "stdout",
     "output_type": "stream",
     "text": [
      "[('twitter_data',)]\n"
     ]
    }
   ],
   "source": [
    "cursor = con.cursor()\n",
    "cursor.execute(\"SELECT name FROM sqlite_master WHERE type='table';\")\n",
    "print(cursor.fetchall())"
   ]
  },
  {
   "cell_type": "markdown",
   "metadata": {
    "slideshow": {
     "slide_type": "slide"
    }
   },
   "source": [
    "# `pandas`"
   ]
  },
  {
   "cell_type": "code",
   "execution_count": 48,
   "metadata": {},
   "outputs": [],
   "source": [
    "import pandas as pd # import pandas, but give it a shorthand name"
   ]
  },
  {
   "cell_type": "markdown",
   "metadata": {
    "slideshow": {
     "slide_type": "-"
    }
   },
   "source": [
    "`pandas` let's us read a table directly into Python. We just need a connection and a SQL command."
   ]
  },
  {
   "cell_type": "code",
   "execution_count": 49,
   "metadata": {},
   "outputs": [],
   "source": [
    "df = pd.read_sql(\"SELECT * FROM twitter_data\", con=con)"
   ]
  },
  {
   "cell_type": "markdown",
   "metadata": {},
   "source": [
    "The result of this process is a new object, called a **`DataFrame`**. You can think of it as a table on steroids.\n",
    "\n",
    "`pandas` can read all kinds of *X*-separated files (using `read_csv()`), as well as Excel (`read_excel`).\n",
    "\n",
    "By default, `read_csv()` uses commas `,` as separators, but we can tell it to use any other separator, for example tabs `\\t` instead."
   ]
  },
  {
   "cell_type": "markdown",
   "metadata": {
    "slideshow": {
     "slide_type": "subslide"
    }
   },
   "source": [
    "Now, we can look at the data. The file is rather big, so we will only look at the top 5 lines. We use the `head()` function for it.\n",
    "\n",
    "The top row contains the column names."
   ]
  },
  {
   "cell_type": "code",
   "execution_count": 51,
   "metadata": {},
   "outputs": [
    {
     "data": {
      "text/html": [
       "<div>\n",
       "<style scoped>\n",
       "    .dataframe tbody tr th:only-of-type {\n",
       "        vertical-align: middle;\n",
       "    }\n",
       "\n",
       "    .dataframe tbody tr th {\n",
       "        vertical-align: top;\n",
       "    }\n",
       "\n",
       "    .dataframe thead th {\n",
       "        text-align: right;\n",
       "    }\n",
       "</style>\n",
       "<table border=\"1\" class=\"dataframe\">\n",
       "  <thead>\n",
       "    <tr style=\"text-align: right;\">\n",
       "      <th></th>\n",
       "      <th>id</th>\n",
       "      <th>tweet</th>\n",
       "      <th>date</th>\n",
       "      <th>retweet</th>\n",
       "      <th>favorite</th>\n",
       "      <th>reply</th>\n",
       "      <th>brand</th>\n",
       "      <th>hashtags</th>\n",
       "      <th>links</th>\n",
       "      <th>media</th>\n",
       "    </tr>\n",
       "  </thead>\n",
       "  <tbody>\n",
       "    <tr>\n",
       "      <th>615</th>\n",
       "      <td>662658782393008128</td>\n",
       "      <td>Vi ricordate quando abbiamo detto che finalmen...</td>\n",
       "      <td>2015-11-06 15:52:19</td>\n",
       "      <td>4</td>\n",
       "      <td>5</td>\n",
       "      <td>None</td>\n",
       "      <td>Ceres</td>\n",
       "      <td>Halloween, CeresInvasion</td>\n",
       "      <td>https://amp.twimg.com/v/418886ad-98f3-42f9-96f...</td>\n",
       "      <td></td>\n",
       "    </tr>\n",
       "    <tr>\n",
       "      <th>616</th>\n",
       "      <td>662590520552775685</td>\n",
       "      <td>#FF @Finzioni per la loro TOP 10 di libri paur...</td>\n",
       "      <td>2015-11-06 11:21:05</td>\n",
       "      <td>0</td>\n",
       "      <td>1</td>\n",
       "      <td>None</td>\n",
       "      <td>Ceres</td>\n",
       "      <td>FF, CeresInvasion</td>\n",
       "      <td>https://twitter.com/Finzioni/status/6600433878...</td>\n",
       "      <td></td>\n",
       "    </tr>\n",
       "    <tr>\n",
       "      <th>617</th>\n",
       "      <td>662191543999143936</td>\n",
       "      <td>RT @NinjAcademy: Il Social Media Team di @Cere...</td>\n",
       "      <td>2015-11-05 08:55:41</td>\n",
       "      <td>7</td>\n",
       "      <td>0</td>\n",
       "      <td>None</td>\n",
       "      <td>Ceres</td>\n",
       "      <td></td>\n",
       "      <td>http://bit.ly/1GhGp6X</td>\n",
       "      <td>http://twitter.com/NinjAcademy/status/66217820...</td>\n",
       "    </tr>\n",
       "    <tr>\n",
       "      <th>618</th>\n",
       "      <td>661905866015264768</td>\n",
       "      <td>L’impegno contro lo #spreco secondo #Ceres. #s...</td>\n",
       "      <td>2015-11-04 14:00:30</td>\n",
       "      <td>4</td>\n",
       "      <td>16</td>\n",
       "      <td>None</td>\n",
       "      <td>Ceres</td>\n",
       "      <td>spreco, Ceres, sapevatelo, ovvio, buona</td>\n",
       "      <td></td>\n",
       "      <td>http://twitter.com/Ceres/status/66190586601526...</td>\n",
       "    </tr>\n",
       "    <tr>\n",
       "      <th>619</th>\n",
       "      <td>661864679078305792</td>\n",
       "      <td>Oggi faccio contento @matteosalvinimi. #4novem...</td>\n",
       "      <td>2015-11-04 11:16:51</td>\n",
       "      <td>22</td>\n",
       "      <td>42</td>\n",
       "      <td>None</td>\n",
       "      <td>Ceres</td>\n",
       "      <td>4novembre</td>\n",
       "      <td></td>\n",
       "      <td>http://twitter.com/Ceres/status/66186467907830...</td>\n",
       "    </tr>\n",
       "  </tbody>\n",
       "</table>\n",
       "</div>"
      ],
      "text/plain": [
       "                     id                                              tweet  \\\n",
       "615  662658782393008128  Vi ricordate quando abbiamo detto che finalmen...   \n",
       "616  662590520552775685  #FF @Finzioni per la loro TOP 10 di libri paur...   \n",
       "617  662191543999143936  RT @NinjAcademy: Il Social Media Team di @Cere...   \n",
       "618  661905866015264768  L’impegno contro lo #spreco secondo #Ceres. #s...   \n",
       "619  661864679078305792  Oggi faccio contento @matteosalvinimi. #4novem...   \n",
       "\n",
       "                    date  retweet  favorite reply  brand  \\\n",
       "615  2015-11-06 15:52:19        4         5  None  Ceres   \n",
       "616  2015-11-06 11:21:05        0         1  None  Ceres   \n",
       "617  2015-11-05 08:55:41        7         0  None  Ceres   \n",
       "618  2015-11-04 14:00:30        4        16  None  Ceres   \n",
       "619  2015-11-04 11:16:51       22        42  None  Ceres   \n",
       "\n",
       "                                    hashtags  \\\n",
       "615                 Halloween, CeresInvasion   \n",
       "616                        FF, CeresInvasion   \n",
       "617                                            \n",
       "618  spreco, Ceres, sapevatelo, ovvio, buona   \n",
       "619                                4novembre   \n",
       "\n",
       "                                                 links  \\\n",
       "615  https://amp.twimg.com/v/418886ad-98f3-42f9-96f...   \n",
       "616  https://twitter.com/Finzioni/status/6600433878...   \n",
       "617                              http://bit.ly/1GhGp6X   \n",
       "618                                                      \n",
       "619                                                      \n",
       "\n",
       "                                                 media  \n",
       "615                                                     \n",
       "616                                                     \n",
       "617  http://twitter.com/NinjAcademy/status/66217820...  \n",
       "618  http://twitter.com/Ceres/status/66190586601526...  \n",
       "619  http://twitter.com/Ceres/status/66186467907830...  "
      ]
     },
     "execution_count": 51,
     "metadata": {},
     "output_type": "execute_result"
    }
   ],
   "source": [
    "df.tail()"
   ]
  },
  {
   "cell_type": "markdown",
   "metadata": {},
   "source": [
    "If you want to look at more lines, you need to give that number to the function as argument."
   ]
  },
  {
   "cell_type": "markdown",
   "metadata": {},
   "source": [
    "We can also look at the bottom rows, with `tail()`"
   ]
  },
  {
   "cell_type": "markdown",
   "metadata": {
    "slideshow": {
     "slide_type": "subslide"
    }
   },
   "source": [
    "## Activity: Loading data\n",
    "\n",
    "* create a new variable, `tags`, and read in the distinct hashtags from the SQL table\n",
    "* look at the last 3 lines of `tags`"
   ]
  },
  {
   "cell_type": "code",
   "execution_count": 65,
   "metadata": {},
   "outputs": [
    {
     "data": {
      "text/html": [
       "<div>\n",
       "<style scoped>\n",
       "    .dataframe tbody tr th:only-of-type {\n",
       "        vertical-align: middle;\n",
       "    }\n",
       "\n",
       "    .dataframe tbody tr th {\n",
       "        vertical-align: top;\n",
       "    }\n",
       "\n",
       "    .dataframe thead th {\n",
       "        text-align: right;\n",
       "    }\n",
       "</style>\n",
       "<table border=\"1\" class=\"dataframe\">\n",
       "  <thead>\n",
       "    <tr style=\"text-align: right;\">\n",
       "      <th></th>\n",
       "      <th>hashtags</th>\n",
       "    </tr>\n",
       "  </thead>\n",
       "  <tbody>\n",
       "    <tr>\n",
       "      <th>53</th>\n",
       "      <td>FF, CeresInvasion</td>\n",
       "    </tr>\n",
       "    <tr>\n",
       "      <th>54</th>\n",
       "      <td>spreco, Ceres, sapevatelo, ovvio, buona</td>\n",
       "    </tr>\n",
       "    <tr>\n",
       "      <th>55</th>\n",
       "      <td>4novembre</td>\n",
       "    </tr>\n",
       "  </tbody>\n",
       "</table>\n",
       "</div>"
      ],
      "text/plain": [
       "                                   hashtags\n",
       "53                        FF, CeresInvasion\n",
       "54  spreco, Ceres, sapevatelo, ovvio, buona\n",
       "55                                4novembre"
      ]
     },
     "execution_count": 65,
     "metadata": {},
     "output_type": "execute_result"
    }
   ],
   "source": [
    "# your code here\n",
    "tags = pd.read_sql(\"SELECT DISTINCT hashtags FROM twitter_data WHERE hashtags!=''\", con=con)\n",
    "tags.tail(3)"
   ]
  },
  {
   "cell_type": "markdown",
   "metadata": {
    "slideshow": {
     "slide_type": "subslide"
    }
   },
   "source": [
    "# Indexing"
   ]
  },
  {
   "cell_type": "markdown",
   "metadata": {},
   "source": [
    "### Columns\n",
    "\n",
    "DataFrames, as well as databases, are organized in columns with names. To get an overview, use the `columns` attribute."
   ]
  },
  {
   "cell_type": "code",
   "execution_count": 66,
   "metadata": {},
   "outputs": [
    {
     "data": {
      "text/plain": [
       "Index(['id', 'tweet', 'date', 'retweet', 'favorite', 'reply', 'brand',\n",
       "       'hashtags', 'links', 'media'],\n",
       "      dtype='object')"
      ]
     },
     "execution_count": 66,
     "metadata": {},
     "output_type": "execute_result"
    }
   ],
   "source": [
    "df.columns"
   ]
  },
  {
   "cell_type": "markdown",
   "metadata": {
    "slideshow": {
     "slide_type": "subslide"
    }
   },
   "source": [
    "To see just one column, access it with the same square bracket notation as for lists `[]`. However, rather than a number, use the column name string.\n",
    "\n",
    "Alternatively, you can treat the name like an attribute of the `DataFrame`, and use a dot operator."
   ]
  },
  {
   "cell_type": "code",
   "execution_count": 67,
   "metadata": {},
   "outputs": [
    {
     "name": "stdout",
     "output_type": "stream",
     "text": [
      "True\n"
     ]
    }
   ],
   "source": [
    "# Dictionary-style indexing\n",
    "tweets1 = df['tweet']\n",
    "\n",
    "# Alternative syntax\n",
    "tweets2 = df.tweet\n",
    "\n",
    "# check whether the Series are the same\n",
    "print(tweets1 is tweets2)"
   ]
  },
  {
   "cell_type": "markdown",
   "metadata": {
    "slideshow": {
     "slide_type": "subslide"
    }
   },
   "source": [
    "The column returned from such an indexing is called a `Series` object.\n",
    "\n",
    "To select several columns, we need to use the first method, and give it a list of column names. This returns a new `DataFrame` object."
   ]
  },
  {
   "cell_type": "code",
   "execution_count": 70,
   "metadata": {},
   "outputs": [
    {
     "name": "stdout",
     "output_type": "stream",
     "text": [
      "<class 'pandas.core.series.Series'>\n",
      "<class 'pandas.core.frame.DataFrame'>\n"
     ]
    }
   ],
   "source": [
    "print(type(df['tweet']))\n",
    "print(type(df[['tweet', 'brand']]))"
   ]
  },
  {
   "cell_type": "markdown",
   "metadata": {
    "slideshow": {
     "slide_type": "subslide"
    }
   },
   "source": [
    "#### Series functions\n",
    "\n",
    "There are a lot of functions to analyze a `Series` object. One of the most useful is `describe()`, which gives us some descriptive statistics. Some of the ones used here, like `count()`, `mean()`, `max()`, and `min()` can be called by themselves."
   ]
  },
  {
   "cell_type": "code",
   "execution_count": 13,
   "metadata": {},
   "outputs": [
    {
     "data": {
      "text/plain": [
       "count    620.000000\n",
       "mean       3.466129\n",
       "std       30.322667\n",
       "min        0.000000\n",
       "25%        0.000000\n",
       "50%        0.500000\n",
       "75%        2.000000\n",
       "max      562.000000\n",
       "Name: retweet, dtype: float64"
      ]
     },
     "execution_count": 13,
     "metadata": {},
     "output_type": "execute_result"
    }
   ],
   "source": [
    "df.retweet.describe()"
   ]
  },
  {
   "cell_type": "markdown",
   "metadata": {
    "slideshow": {
     "slide_type": "subslide"
    }
   },
   "source": [
    "## Acticvity\n",
    "\n",
    "* what are the mean and median of the `favorite` column?\n",
    "* what do you get when you use describe on a column with strings, like `reply` or `hashtags`?"
   ]
  },
  {
   "cell_type": "code",
   "execution_count": 72,
   "metadata": {},
   "outputs": [
    {
     "name": "stdout",
     "output_type": "stream",
     "text": [
      "4.458064516129032 1.0\n"
     ]
    },
    {
     "data": {
      "text/html": [
       "<div>\n",
       "<style scoped>\n",
       "    .dataframe tbody tr th:only-of-type {\n",
       "        vertical-align: middle;\n",
       "    }\n",
       "\n",
       "    .dataframe tbody tr th {\n",
       "        vertical-align: top;\n",
       "    }\n",
       "\n",
       "    .dataframe thead th {\n",
       "        text-align: right;\n",
       "    }\n",
       "</style>\n",
       "<table border=\"1\" class=\"dataframe\">\n",
       "  <thead>\n",
       "    <tr style=\"text-align: right;\">\n",
       "      <th></th>\n",
       "      <th>reply</th>\n",
       "      <th>hashtags</th>\n",
       "    </tr>\n",
       "  </thead>\n",
       "  <tbody>\n",
       "    <tr>\n",
       "      <th>count</th>\n",
       "      <td>564</td>\n",
       "      <td>620</td>\n",
       "    </tr>\n",
       "    <tr>\n",
       "      <th>unique</th>\n",
       "      <td>508</td>\n",
       "      <td>57</td>\n",
       "    </tr>\n",
       "    <tr>\n",
       "      <th>top</th>\n",
       "      <td>OfficialGattara</td>\n",
       "      <td>ShareaCoke</td>\n",
       "    </tr>\n",
       "    <tr>\n",
       "      <th>freq</th>\n",
       "      <td>4</td>\n",
       "      <td>481</td>\n",
       "    </tr>\n",
       "  </tbody>\n",
       "</table>\n",
       "</div>"
      ],
      "text/plain": [
       "                  reply    hashtags\n",
       "count               564         620\n",
       "unique              508          57\n",
       "top     OfficialGattara  ShareaCoke\n",
       "freq                  4         481"
      ]
     },
     "execution_count": 72,
     "metadata": {},
     "output_type": "execute_result"
    }
   ],
   "source": [
    "# your code here\n",
    "print(df['favorite'].mean(), df['favorite'].median())\n",
    "df[['reply', 'hashtags']].describe()"
   ]
  },
  {
   "cell_type": "markdown",
   "metadata": {
    "slideshow": {
     "slide_type": "subslide"
    }
   },
   "source": [
    "### Rows\n",
    "\n",
    "Retrieving a row is also possible, but uses a different method, `iloc` (for **i**nteger **loc**ation), and the index of the row."
   ]
  },
  {
   "cell_type": "code",
   "execution_count": 73,
   "metadata": {},
   "outputs": [
    {
     "name": "stdout",
     "output_type": "stream",
     "text": [
      "id                                         681888466859364354\n",
      "tweet       @Lianne_Wan We’d like to help you, Lianne.  Co...\n",
      "date                                      2015-12-29 17:24:14\n",
      "retweet                                                     0\n",
      "favorite                                                    1\n",
      "reply                                              Lianne_Wan\n",
      "brand                                                CocaCola\n",
      "hashtags                                                     \n",
      "links                                http://CokeURL.com/vclnl\n",
      "media                                                        \n",
      "Name: 2, dtype: object\n"
     ]
    }
   ],
   "source": [
    "print(df.iloc[2])"
   ]
  },
  {
   "cell_type": "markdown",
   "metadata": {
    "slideshow": {
     "slide_type": "subslide"
    }
   },
   "source": [
    "As with lists, you can also use slices, and even lists of integers:"
   ]
  },
  {
   "cell_type": "code",
   "execution_count": 75,
   "metadata": {},
   "outputs": [
    {
     "name": "stdout",
     "output_type": "stream",
     "text": [
      "2\n",
      "5\n"
     ]
    }
   ],
   "source": [
    "print(len(df.tweet.iloc[2:4]))\n",
    "print(len(df.tweet.iloc[[1,1,5,11]]))"
   ]
  },
  {
   "cell_type": "markdown",
   "metadata": {
    "slideshow": {
     "slide_type": "subslide"
    }
   },
   "source": [
    "## Adding new columns\n",
    "\n",
    "Let's create a new column `ratio`, i.e., the ratio of favorites to retweets, based on the existing columns `retweet` and `favorite`."
   ]
  },
  {
   "cell_type": "code",
   "execution_count": 76,
   "metadata": {},
   "outputs": [
    {
     "data": {
      "text/plain": [
       "0    1.0\n",
       "1    inf\n",
       "2    inf\n",
       "3    0.5\n",
       "4    5.0\n",
       "Name: ratio, dtype: float64"
      ]
     },
     "execution_count": 76,
     "metadata": {},
     "output_type": "execute_result"
    }
   ],
   "source": [
    "df['ratio'] = (df.favorite / df.retweet)\n",
    "df.ratio.head()"
   ]
  },
  {
   "cell_type": "markdown",
   "metadata": {
    "slideshow": {
     "slide_type": "subslide"
    }
   },
   "source": [
    "## Getting rid of outliers\n",
    "\n",
    "## Masks\n",
    "\n",
    "Uh-oh: we get some weird behavior for `ratio` if one of the two values is `0`. Let's check that.\n",
    "\n",
    "In dataframes, we can select all the data that matches a certain condition, similar to an SQL table. We can do that with a simple boolean statement. The result is a `Series` object with boolean values, also called a **mask**:"
   ]
  },
  {
   "cell_type": "code",
   "execution_count": 77,
   "metadata": {},
   "outputs": [
    {
     "name": "stdout",
     "output_type": "stream",
     "text": [
      "0    False\n",
      "1     True\n",
      "2     True\n",
      "3    False\n",
      "4    False\n",
      "Name: retweet, dtype: bool\n",
      "<class 'pandas.core.series.Series'>\n"
     ]
    }
   ],
   "source": [
    "no_retweet = df.retweet == 0\n",
    "print(no_retweet.head())\n",
    "print(type(no_retweet))"
   ]
  },
  {
   "cell_type": "markdown",
   "metadata": {
    "slideshow": {
     "slide_type": "subslide"
    }
   },
   "source": [
    "## Activity\n",
    "\n",
    "* add another, boolean, column to `df`, that signals whether the entry has a `media` link. Call the new column `has_media`"
   ]
  },
  {
   "cell_type": "code",
   "execution_count": 19,
   "metadata": {},
   "outputs": [],
   "source": [
    "# your code here\n"
   ]
  },
  {
   "cell_type": "markdown",
   "metadata": {
    "slideshow": {
     "slide_type": "subslide"
    }
   },
   "source": [
    "We can combine several conditions with the `&` or `|` operators."
   ]
  },
  {
   "cell_type": "code",
   "execution_count": 20,
   "metadata": {},
   "outputs": [
    {
     "name": "stdout",
     "output_type": "stream",
     "text": [
      "620 407 179\n"
     ]
    }
   ],
   "source": [
    "no_favorite = df.favorite == 0\n",
    "\n",
    "print(len(df), \n",
    "      len(df[no_retweet | no_favorite]), \n",
    "      len(df[no_retweet & no_favorite]))"
   ]
  },
  {
   "cell_type": "markdown",
   "metadata": {
    "slideshow": {
     "slide_type": "subslide"
    }
   },
   "source": [
    "If we apply this mask to our DataFrame, we get *only* the rows where the condition is `True`"
   ]
  },
  {
   "cell_type": "code",
   "execution_count": 80,
   "metadata": {},
   "outputs": [
    {
     "data": {
      "text/html": [
       "<div>\n",
       "<style scoped>\n",
       "    .dataframe tbody tr th:only-of-type {\n",
       "        vertical-align: middle;\n",
       "    }\n",
       "\n",
       "    .dataframe tbody tr th {\n",
       "        vertical-align: top;\n",
       "    }\n",
       "\n",
       "    .dataframe thead th {\n",
       "        text-align: right;\n",
       "    }\n",
       "</style>\n",
       "<table border=\"1\" class=\"dataframe\">\n",
       "  <thead>\n",
       "    <tr style=\"text-align: right;\">\n",
       "      <th></th>\n",
       "      <th>id</th>\n",
       "      <th>tweet</th>\n",
       "      <th>date</th>\n",
       "      <th>retweet</th>\n",
       "      <th>favorite</th>\n",
       "      <th>reply</th>\n",
       "      <th>brand</th>\n",
       "      <th>hashtags</th>\n",
       "      <th>links</th>\n",
       "      <th>media</th>\n",
       "      <th>ratio</th>\n",
       "    </tr>\n",
       "  </thead>\n",
       "  <tbody>\n",
       "    <tr>\n",
       "      <th>2</th>\n",
       "      <td>681888466859364354</td>\n",
       "      <td>@Lianne_Wan We’d like to help you, Lianne.  Co...</td>\n",
       "      <td>2015-12-29 17:24:14</td>\n",
       "      <td>0</td>\n",
       "      <td>1</td>\n",
       "      <td>Lianne_Wan</td>\n",
       "      <td>CocaCola</td>\n",
       "      <td></td>\n",
       "      <td>http://CokeURL.com/vclnl</td>\n",
       "      <td></td>\n",
       "      <td>inf</td>\n",
       "    </tr>\n",
       "    <tr>\n",
       "      <th>29</th>\n",
       "      <td>680612115254673409</td>\n",
       "      <td>@kianabaybay Time to celebrate! Step up to the...</td>\n",
       "      <td>2015-12-26 04:52:28</td>\n",
       "      <td>0</td>\n",
       "      <td>0</td>\n",
       "      <td>kianabaybay</td>\n",
       "      <td>CocaCola</td>\n",
       "      <td>ShareaCoke</td>\n",
       "      <td>https://amp.twimg.com/v/d2f2791e-07db-47eb-ab7...</td>\n",
       "      <td></td>\n",
       "      <td>NaN</td>\n",
       "    </tr>\n",
       "  </tbody>\n",
       "</table>\n",
       "</div>"
      ],
      "text/plain": [
       "                    id                                              tweet  \\\n",
       "2   681888466859364354  @Lianne_Wan We’d like to help you, Lianne.  Co...   \n",
       "29  680612115254673409  @kianabaybay Time to celebrate! Step up to the...   \n",
       "\n",
       "                   date  retweet  favorite        reply     brand    hashtags  \\\n",
       "2   2015-12-29 17:24:14        0         1   Lianne_Wan  CocaCola               \n",
       "29  2015-12-26 04:52:28        0         0  kianabaybay  CocaCola  ShareaCoke   \n",
       "\n",
       "                                                links media  ratio  \n",
       "2                            http://CokeURL.com/vclnl          inf  \n",
       "29  https://amp.twimg.com/v/d2f2791e-07db-47eb-ab7...          NaN  "
      ]
     },
     "execution_count": 80,
     "metadata": {},
     "output_type": "execute_result"
    }
   ],
   "source": [
    "df[no_retweet | no_favorite].iloc[[1, 10]]"
   ]
  },
  {
   "cell_type": "markdown",
   "metadata": {
    "slideshow": {
     "slide_type": "subslide"
    }
   },
   "source": [
    "The value for `ratio`, `NaN`, stands for \"**N**ot **a** **N**umber\". Luckily, we can replace that value with `fillna()`"
   ]
  },
  {
   "cell_type": "code",
   "execution_count": 81,
   "metadata": {},
   "outputs": [
    {
     "data": {
      "text/html": [
       "<div>\n",
       "<style scoped>\n",
       "    .dataframe tbody tr th:only-of-type {\n",
       "        vertical-align: middle;\n",
       "    }\n",
       "\n",
       "    .dataframe tbody tr th {\n",
       "        vertical-align: top;\n",
       "    }\n",
       "\n",
       "    .dataframe thead th {\n",
       "        text-align: right;\n",
       "    }\n",
       "</style>\n",
       "<table border=\"1\" class=\"dataframe\">\n",
       "  <thead>\n",
       "    <tr style=\"text-align: right;\">\n",
       "      <th></th>\n",
       "      <th>id</th>\n",
       "      <th>tweet</th>\n",
       "      <th>date</th>\n",
       "      <th>retweet</th>\n",
       "      <th>favorite</th>\n",
       "      <th>reply</th>\n",
       "      <th>brand</th>\n",
       "      <th>hashtags</th>\n",
       "      <th>links</th>\n",
       "      <th>media</th>\n",
       "      <th>ratio</th>\n",
       "    </tr>\n",
       "  </thead>\n",
       "  <tbody>\n",
       "    <tr>\n",
       "      <th>2</th>\n",
       "      <td>681888466859364354</td>\n",
       "      <td>@Lianne_Wan We’d like to help you, Lianne.  Co...</td>\n",
       "      <td>2015-12-29 17:24:14</td>\n",
       "      <td>0</td>\n",
       "      <td>1</td>\n",
       "      <td>Lianne_Wan</td>\n",
       "      <td>CocaCola</td>\n",
       "      <td></td>\n",
       "      <td>http://CokeURL.com/vclnl</td>\n",
       "      <td></td>\n",
       "      <td>inf</td>\n",
       "    </tr>\n",
       "    <tr>\n",
       "      <th>29</th>\n",
       "      <td>680612115254673409</td>\n",
       "      <td>@kianabaybay Time to celebrate! Step up to the...</td>\n",
       "      <td>2015-12-26 04:52:28</td>\n",
       "      <td>0</td>\n",
       "      <td>0</td>\n",
       "      <td>kianabaybay</td>\n",
       "      <td>CocaCola</td>\n",
       "      <td>ShareaCoke</td>\n",
       "      <td>https://amp.twimg.com/v/d2f2791e-07db-47eb-ab7...</td>\n",
       "      <td></td>\n",
       "      <td>0.0</td>\n",
       "    </tr>\n",
       "  </tbody>\n",
       "</table>\n",
       "</div>"
      ],
      "text/plain": [
       "                    id                                              tweet  \\\n",
       "2   681888466859364354  @Lianne_Wan We’d like to help you, Lianne.  Co...   \n",
       "29  680612115254673409  @kianabaybay Time to celebrate! Step up to the...   \n",
       "\n",
       "                   date  retweet  favorite        reply     brand    hashtags  \\\n",
       "2   2015-12-29 17:24:14        0         1   Lianne_Wan  CocaCola               \n",
       "29  2015-12-26 04:52:28        0         0  kianabaybay  CocaCola  ShareaCoke   \n",
       "\n",
       "                                                links media  ratio  \n",
       "2                            http://CokeURL.com/vclnl          inf  \n",
       "29  https://amp.twimg.com/v/d2f2791e-07db-47eb-ab7...          0.0  "
      ]
     },
     "execution_count": 81,
     "metadata": {},
     "output_type": "execute_result"
    }
   ],
   "source": [
    "df_no_nan = df.fillna(0)\n",
    "df_no_nan[no_retweet | no_favorite].iloc[[1, 10]]"
   ]
  },
  {
   "cell_type": "markdown",
   "metadata": {
    "slideshow": {
     "slide_type": "subslide"
    }
   },
   "source": [
    "## apply()\n",
    "\n",
    "Let's also get rid of the `inf` values. We write a simple function that sets them to `0` and `apply` that function to our `Series`."
   ]
  },
  {
   "cell_type": "code",
   "execution_count": 82,
   "metadata": {},
   "outputs": [
    {
     "data": {
      "text/html": [
       "<div>\n",
       "<style scoped>\n",
       "    .dataframe tbody tr th:only-of-type {\n",
       "        vertical-align: middle;\n",
       "    }\n",
       "\n",
       "    .dataframe tbody tr th {\n",
       "        vertical-align: top;\n",
       "    }\n",
       "\n",
       "    .dataframe thead th {\n",
       "        text-align: right;\n",
       "    }\n",
       "</style>\n",
       "<table border=\"1\" class=\"dataframe\">\n",
       "  <thead>\n",
       "    <tr style=\"text-align: right;\">\n",
       "      <th></th>\n",
       "      <th>id</th>\n",
       "      <th>tweet</th>\n",
       "      <th>date</th>\n",
       "      <th>retweet</th>\n",
       "      <th>favorite</th>\n",
       "      <th>reply</th>\n",
       "      <th>brand</th>\n",
       "      <th>hashtags</th>\n",
       "      <th>links</th>\n",
       "      <th>media</th>\n",
       "      <th>ratio</th>\n",
       "    </tr>\n",
       "  </thead>\n",
       "  <tbody>\n",
       "    <tr>\n",
       "      <th>2</th>\n",
       "      <td>681888466859364354</td>\n",
       "      <td>@Lianne_Wan We’d like to help you, Lianne.  Co...</td>\n",
       "      <td>2015-12-29 17:24:14</td>\n",
       "      <td>0</td>\n",
       "      <td>1</td>\n",
       "      <td>Lianne_Wan</td>\n",
       "      <td>CocaCola</td>\n",
       "      <td></td>\n",
       "      <td>http://CokeURL.com/vclnl</td>\n",
       "      <td></td>\n",
       "      <td>0.0</td>\n",
       "    </tr>\n",
       "    <tr>\n",
       "      <th>29</th>\n",
       "      <td>680612115254673409</td>\n",
       "      <td>@kianabaybay Time to celebrate! Step up to the...</td>\n",
       "      <td>2015-12-26 04:52:28</td>\n",
       "      <td>0</td>\n",
       "      <td>0</td>\n",
       "      <td>kianabaybay</td>\n",
       "      <td>CocaCola</td>\n",
       "      <td>ShareaCoke</td>\n",
       "      <td>https://amp.twimg.com/v/d2f2791e-07db-47eb-ab7...</td>\n",
       "      <td></td>\n",
       "      <td>0.0</td>\n",
       "    </tr>\n",
       "  </tbody>\n",
       "</table>\n",
       "</div>"
      ],
      "text/plain": [
       "                    id                                              tweet  \\\n",
       "2   681888466859364354  @Lianne_Wan We’d like to help you, Lianne.  Co...   \n",
       "29  680612115254673409  @kianabaybay Time to celebrate! Step up to the...   \n",
       "\n",
       "                   date  retweet  favorite        reply     brand    hashtags  \\\n",
       "2   2015-12-29 17:24:14        0         1   Lianne_Wan  CocaCola               \n",
       "29  2015-12-26 04:52:28        0         0  kianabaybay  CocaCola  ShareaCoke   \n",
       "\n",
       "                                                links media  ratio  \n",
       "2                            http://CokeURL.com/vclnl          0.0  \n",
       "29  https://amp.twimg.com/v/d2f2791e-07db-47eb-ab7...          0.0  "
      ]
     },
     "execution_count": 82,
     "metadata": {},
     "output_type": "execute_result"
    }
   ],
   "source": [
    "def f(x):\n",
    "    if x == float('inf'):\n",
    "        return 0.0 \n",
    "    else:\n",
    "        return x\n",
    "    \n",
    "df_no_nan.ratio = df_no_nan.ratio.apply(f)\n",
    "df_no_nan[no_retweet | no_favorite].iloc[[1, 10]]"
   ]
  },
  {
   "cell_type": "markdown",
   "metadata": {
    "slideshow": {
     "slide_type": "subslide"
    }
   },
   "source": [
    "## Visualization"
   ]
  },
  {
   "cell_type": "markdown",
   "metadata": {},
   "source": [
    "### Histograms\n",
    "\n",
    "`pandas` `DataFrame`s have built-in visualization methods under the property `plot`. To get a histogram of the ratios, we can call `hist()`"
   ]
  },
  {
   "cell_type": "code",
   "execution_count": 92,
   "metadata": {},
   "outputs": [
    {
     "data": {
      "text/plain": [
       "<matplotlib.axes._subplots.AxesSubplot at 0x1a24bc7048>"
      ]
     },
     "execution_count": 92,
     "metadata": {},
     "output_type": "execute_result"
    },
    {
     "data": {
      "image/png": "[encoded data removed]",
      "text/plain": [
       "<Figure size 432x288 with 1 Axes>"
      ]
     },
     "metadata": {
      "needs_background": "light"
     },
     "output_type": "display_data"
    }
   ],
   "source": [
    "df_no_nan['ratio'].plot.hist()"
   ]
  },
  {
   "cell_type": "markdown",
   "metadata": {
    "slideshow": {
     "slide_type": "subslide"
    }
   },
   "source": [
    "In order to get a different representation, let's define the size of each `bin`. Adding `;` at the end of the line prevents the output of the `<matplotlib.axes._subplots.AxesSubplot at 0x118903320>` text."
   ]
  },
  {
   "cell_type": "code",
   "execution_count": 84,
   "metadata": {},
   "outputs": [
    {
     "data": {
      "image/png": "[encoded data removed]",
      "text/plain": [
       "<Figure size 432x288 with 1 Axes>"
      ]
     },
     "metadata": {
      "needs_background": "light"
     },
     "output_type": "display_data"
    }
   ],
   "source": [
    "df_no_nan.ratio.hist(bins=30);"
   ]
  },
  {
   "cell_type": "markdown",
   "metadata": {
    "slideshow": {
     "slide_type": "subslide"
    }
   },
   "source": [
    "We can even separate the plots by another column, for example `brand`, using the keyword `by`."
   ]
  },
  {
   "cell_type": "code",
   "execution_count": 93,
   "metadata": {},
   "outputs": [
    {
     "data": {
      "image/png": "[encoded data removed]",
      "text/plain": [
       "<Figure size 432x288 with 2 Axes>"
      ]
     },
     "metadata": {
      "needs_background": "light"
     },
     "output_type": "display_data"
    }
   ],
   "source": [
    "df_no_nan['ratio'].hist(by=df_no_nan.brand, bins=20);"
   ]
  },
  {
   "cell_type": "markdown",
   "metadata": {
    "slideshow": {
     "slide_type": "fragment"
    }
   },
   "source": [
    "Looks similar, but at different scales. To make the y-axis equivalent, use `sharey`"
   ]
  },
  {
   "cell_type": "code",
   "execution_count": 86,
   "metadata": {},
   "outputs": [
    {
     "data": {
      "image/png": "[encoded data removed]",
      "text/plain": [
       "<Figure size 432x288 with 2 Axes>"
      ]
     },
     "metadata": {
      "needs_background": "light"
     },
     "output_type": "display_data"
    }
   ],
   "source": [
    "df_no_nan.ratio.hist(by=df_no_nan.brand, \n",
    "                     bins=20, sharey=True);"
   ]
  },
  {
   "cell_type": "markdown",
   "metadata": {
    "slideshow": {
     "slide_type": "subslide"
    }
   },
   "source": [
    "### Scatterplotting\n",
    "\n",
    "If we are interested in more than one column, we might want to use the general `plot` method, and the `scatter` function. We need to define the `x` and `y` dimensions by giving a column name from our `DataFrame`."
   ]
  },
  {
   "cell_type": "code",
   "execution_count": 94,
   "metadata": {},
   "outputs": [
    {
     "data": {
      "image/png": "[encoded data removed]",
      "text/plain": [
       "<Figure size 432x288 with 1 Axes>"
      ]
     },
     "metadata": {
      "needs_background": "light"
     },
     "output_type": "display_data"
    }
   ],
   "source": [
    "df_no_nan.plot.scatter(x='retweet', \n",
    "                       y='favorite', \n",
    "                       s=100, alpha=0.3);"
   ]
  },
  {
   "cell_type": "markdown",
   "metadata": {
    "slideshow": {
     "slide_type": "notes"
    }
   },
   "source": [
    "To separate the two brands, you need to \n",
    "* make the first one a variable\n",
    "* pass the variable to the second via `ax`\n",
    "* set different colors"
   ]
  },
  {
   "cell_type": "code",
   "execution_count": 88,
   "metadata": {
    "slideshow": {
     "slide_type": "notes"
    }
   },
   "outputs": [
    {
     "data": {
      "image/png": "[encoded data removed]",
      "text/plain": [
       "<Figure size 432x288 with 1 Axes>"
      ]
     },
     "metadata": {
      "needs_background": "light"
     },
     "output_type": "display_data"
    }
   ],
   "source": [
    "axis = df_no_nan[df_no_nan.brand != 'CocaCola'].plot.scatter(x='retweet', y ='favorite', color='teal', s=100, alpha=0.5);\n",
    "df_no_nan[df_no_nan.brand == 'CocaCola'].plot.scatter(x='retweet', y ='favorite', color='darkred', ax=axis, s=100, alpha=0.5);"
   ]
  },
  {
   "cell_type": "markdown",
   "metadata": {},
   "source": [
    "For many more plotting options, see [https://pandas.pydata.org/pandas-docs/stable/visualization.html](https://pandas.pydata.org/pandas-docs/stable/visualization.html)\n",
    "\n",
    "For more on visualizations in general, see [http://serialmentor.com/dataviz/](http://serialmentor.com/dataviz/)"
   ]
  },
  {
   "cell_type": "markdown",
   "metadata": {
    "slideshow": {
     "slide_type": "subslide"
    }
   },
   "source": [
    "## Correlations\n",
    "\n",
    "The scatter plot suggested that there is some correlation in the data. Let's check. Luckily, there's a function for that: `corr()`."
   ]
  },
  {
   "cell_type": "code",
   "execution_count": 89,
   "metadata": {},
   "outputs": [
    {
     "data": {
      "text/html": [
       "<div>\n",
       "<style scoped>\n",
       "    .dataframe tbody tr th:only-of-type {\n",
       "        vertical-align: middle;\n",
       "    }\n",
       "\n",
       "    .dataframe tbody tr th {\n",
       "        vertical-align: top;\n",
       "    }\n",
       "\n",
       "    .dataframe thead th {\n",
       "        text-align: right;\n",
       "    }\n",
       "</style>\n",
       "<table border=\"1\" class=\"dataframe\">\n",
       "  <thead>\n",
       "    <tr style=\"text-align: right;\">\n",
       "      <th></th>\n",
       "      <th>retweet</th>\n",
       "      <th>favorite</th>\n",
       "      <th>ratio</th>\n",
       "    </tr>\n",
       "  </thead>\n",
       "  <tbody>\n",
       "    <tr>\n",
       "      <th>retweet</th>\n",
       "      <td>1.000000</td>\n",
       "      <td>0.942010</td>\n",
       "      <td>0.087671</td>\n",
       "    </tr>\n",
       "    <tr>\n",
       "      <th>favorite</th>\n",
       "      <td>0.942010</td>\n",
       "      <td>1.000000</td>\n",
       "      <td>0.214995</td>\n",
       "    </tr>\n",
       "    <tr>\n",
       "      <th>ratio</th>\n",
       "      <td>0.087671</td>\n",
       "      <td>0.214995</td>\n",
       "      <td>1.000000</td>\n",
       "    </tr>\n",
       "  </tbody>\n",
       "</table>\n",
       "</div>"
      ],
      "text/plain": [
       "           retweet  favorite     ratio\n",
       "retweet   1.000000  0.942010  0.087671\n",
       "favorite  0.942010  1.000000  0.214995\n",
       "ratio     0.087671  0.214995  1.000000"
      ]
     },
     "execution_count": 89,
     "metadata": {},
     "output_type": "execute_result"
    }
   ],
   "source": [
    "df_no_nan[['retweet', 'favorite', 'ratio']].corr()"
   ]
  },
  {
   "cell_type": "markdown",
   "metadata": {
    "slideshow": {
     "slide_type": "subslide"
    }
   },
   "source": [
    "## Views\n",
    "\n",
    "We can subselect a number of columns via slicing (a *view*) and put them in a new `DataFrame`by using `copy()`."
   ]
  },
  {
   "cell_type": "code",
   "execution_count": 90,
   "metadata": {},
   "outputs": [
    {
     "data": {
      "text/html": [
       "<div>\n",
       "<style scoped>\n",
       "    .dataframe tbody tr th:only-of-type {\n",
       "        vertical-align: middle;\n",
       "    }\n",
       "\n",
       "    .dataframe tbody tr th {\n",
       "        vertical-align: top;\n",
       "    }\n",
       "\n",
       "    .dataframe thead th {\n",
       "        text-align: right;\n",
       "    }\n",
       "</style>\n",
       "<table border=\"1\" class=\"dataframe\">\n",
       "  <thead>\n",
       "    <tr style=\"text-align: right;\">\n",
       "      <th></th>\n",
       "      <th>retweet</th>\n",
       "      <th>favorite</th>\n",
       "      <th>brand</th>\n",
       "      <th>ratio</th>\n",
       "      <th>reply</th>\n",
       "      <th>media</th>\n",
       "    </tr>\n",
       "  </thead>\n",
       "  <tbody>\n",
       "    <tr>\n",
       "      <th>0</th>\n",
       "      <td>3</td>\n",
       "      <td>3</td>\n",
       "      <td>CocaCola</td>\n",
       "      <td>1.0</td>\n",
       "      <td>KenShadewalker</td>\n",
       "      <td></td>\n",
       "    </tr>\n",
       "    <tr>\n",
       "      <th>1</th>\n",
       "      <td>0</td>\n",
       "      <td>2</td>\n",
       "      <td>CocaCola</td>\n",
       "      <td>0.0</td>\n",
       "      <td>dgingiss</td>\n",
       "      <td></td>\n",
       "    </tr>\n",
       "    <tr>\n",
       "      <th>2</th>\n",
       "      <td>0</td>\n",
       "      <td>1</td>\n",
       "      <td>CocaCola</td>\n",
       "      <td>0.0</td>\n",
       "      <td>Lianne_Wan</td>\n",
       "      <td></td>\n",
       "    </tr>\n",
       "    <tr>\n",
       "      <th>3</th>\n",
       "      <td>2</td>\n",
       "      <td>1</td>\n",
       "      <td>CocaCola</td>\n",
       "      <td>0.5</td>\n",
       "      <td>ayman_abduallah</td>\n",
       "      <td></td>\n",
       "    </tr>\n",
       "    <tr>\n",
       "      <th>4</th>\n",
       "      <td>1</td>\n",
       "      <td>5</td>\n",
       "      <td>CocaCola</td>\n",
       "      <td>5.0</td>\n",
       "      <td>Bunson8r</td>\n",
       "      <td></td>\n",
       "    </tr>\n",
       "  </tbody>\n",
       "</table>\n",
       "</div>"
      ],
      "text/plain": [
       "   retweet  favorite     brand  ratio            reply media\n",
       "0        3         3  CocaCola    1.0   KenShadewalker      \n",
       "1        0         2  CocaCola    0.0         dgingiss      \n",
       "2        0         1  CocaCola    0.0       Lianne_Wan      \n",
       "3        2         1  CocaCola    0.5  ayman_abduallah      \n",
       "4        1         5  CocaCola    5.0         Bunson8r      "
      ]
     },
     "execution_count": 90,
     "metadata": {},
     "output_type": "execute_result"
    }
   ],
   "source": [
    "new_view = df_no_nan[['retweet', 'favorite', 'brand', 'ratio', 'reply', 'media']].copy()\n",
    "new_view.head()"
   ]
  },
  {
   "cell_type": "markdown",
   "metadata": {
    "slideshow": {
     "slide_type": "subslide"
    }
   },
   "source": [
    "## Grouping\n",
    "\n",
    "We can group our data by columns. This is useful for example in visualization. Rather than showing two plots as before, we can overlay them (we use `alpha` to set the transparency):"
   ]
  },
  {
   "cell_type": "code",
   "execution_count": 95,
   "metadata": {},
   "outputs": [
    {
     "data": {
      "image/png": "[encoded data removed]",
      "text/plain": [
       "<Figure size 432x288 with 1 Axes>"
      ]
     },
     "metadata": {
      "needs_background": "light"
     },
     "output_type": "display_data"
    }
   ],
   "source": [
    "new_view.groupby('brand')['ratio'].hist(bins=20, alpha=0.3);"
   ]
  },
  {
   "cell_type": "markdown",
   "metadata": {
    "slideshow": {
     "slide_type": "subslide"
    }
   },
   "source": [
    "Let's check the correlation between `retweet` and `favorite` again, but for each brand:"
   ]
  },
  {
   "cell_type": "code",
   "execution_count": 34,
   "metadata": {},
   "outputs": [
    {
     "data": {
      "text/html": [
       "<div>\n",
       "<style scoped>\n",
       "    .dataframe tbody tr th:only-of-type {\n",
       "        vertical-align: middle;\n",
       "    }\n",
       "\n",
       "    .dataframe tbody tr th {\n",
       "        vertical-align: top;\n",
       "    }\n",
       "\n",
       "    .dataframe thead th {\n",
       "        text-align: right;\n",
       "    }\n",
       "</style>\n",
       "<table border=\"1\" class=\"dataframe\">\n",
       "  <thead>\n",
       "    <tr style=\"text-align: right;\">\n",
       "      <th></th>\n",
       "      <th></th>\n",
       "      <th>retweet</th>\n",
       "      <th>favorite</th>\n",
       "      <th>ratio</th>\n",
       "    </tr>\n",
       "    <tr>\n",
       "      <th>brand</th>\n",
       "      <th></th>\n",
       "      <th></th>\n",
       "      <th></th>\n",
       "      <th></th>\n",
       "    </tr>\n",
       "  </thead>\n",
       "  <tbody>\n",
       "    <tr>\n",
       "      <th rowspan=\"3\" valign=\"top\">Ceres</th>\n",
       "      <th>retweet</th>\n",
       "      <td>1.000000</td>\n",
       "      <td>0.944070</td>\n",
       "      <td>0.035802</td>\n",
       "    </tr>\n",
       "    <tr>\n",
       "      <th>favorite</th>\n",
       "      <td>0.944070</td>\n",
       "      <td>1.000000</td>\n",
       "      <td>0.162927</td>\n",
       "    </tr>\n",
       "    <tr>\n",
       "      <th>ratio</th>\n",
       "      <td>0.035802</td>\n",
       "      <td>0.162927</td>\n",
       "      <td>1.000000</td>\n",
       "    </tr>\n",
       "    <tr>\n",
       "      <th rowspan=\"3\" valign=\"top\">CocaCola</th>\n",
       "      <th>retweet</th>\n",
       "      <td>1.000000</td>\n",
       "      <td>0.555867</td>\n",
       "      <td>0.353034</td>\n",
       "    </tr>\n",
       "    <tr>\n",
       "      <th>favorite</th>\n",
       "      <td>0.555867</td>\n",
       "      <td>1.000000</td>\n",
       "      <td>0.556198</td>\n",
       "    </tr>\n",
       "    <tr>\n",
       "      <th>ratio</th>\n",
       "      <td>0.353034</td>\n",
       "      <td>0.556198</td>\n",
       "      <td>1.000000</td>\n",
       "    </tr>\n",
       "  </tbody>\n",
       "</table>\n",
       "</div>"
      ],
      "text/plain": [
       "                    retweet  favorite     ratio\n",
       "brand                                          \n",
       "Ceres    retweet   1.000000  0.944070  0.035802\n",
       "         favorite  0.944070  1.000000  0.162927\n",
       "         ratio     0.035802  0.162927  1.000000\n",
       "CocaCola retweet   1.000000  0.555867  0.353034\n",
       "         favorite  0.555867  1.000000  0.556198\n",
       "         ratio     0.353034  0.556198  1.000000"
      ]
     },
     "execution_count": 34,
     "metadata": {},
     "output_type": "execute_result"
    }
   ],
   "source": [
    "df_no_nan.groupby('brand')[['retweet', 'favorite', 'ratio']].corr()"
   ]
  },
  {
   "cell_type": "markdown",
   "metadata": {},
   "source": [
    "We can also get aggregate statistics for the groups. We use `groupby()`, and then specify how to aggregate the data. Possible aggregators are\n",
    "* `sum()`\n",
    "* `count()`\n",
    "* `min()`\n",
    "* `max()`\n",
    "* `mean()`\n",
    "* `median()`\n",
    "\n",
    "... and many more. See [https://www.shanelynn.ie/summarising-aggregation-and-grouping-data-in-python-pandas/](https://www.shanelynn.ie/summarising-aggregation-and-grouping-data-in-python-pandas/) for more examples"
   ]
  },
  {
   "cell_type": "code",
   "execution_count": 35,
   "metadata": {
    "slideshow": {
     "slide_type": "subslide"
    }
   },
   "outputs": [
    {
     "data": {
      "text/html": [
       "<div>\n",
       "<style scoped>\n",
       "    .dataframe tbody tr th:only-of-type {\n",
       "        vertical-align: middle;\n",
       "    }\n",
       "\n",
       "    .dataframe tbody tr th {\n",
       "        vertical-align: top;\n",
       "    }\n",
       "\n",
       "    .dataframe thead th {\n",
       "        text-align: right;\n",
       "    }\n",
       "</style>\n",
       "<table border=\"1\" class=\"dataframe\">\n",
       "  <thead>\n",
       "    <tr style=\"text-align: right;\">\n",
       "      <th></th>\n",
       "      <th>retweet</th>\n",
       "      <th>favorite</th>\n",
       "      <th>ratio</th>\n",
       "    </tr>\n",
       "    <tr>\n",
       "      <th>brand</th>\n",
       "      <th></th>\n",
       "      <th></th>\n",
       "      <th></th>\n",
       "    </tr>\n",
       "  </thead>\n",
       "  <tbody>\n",
       "    <tr>\n",
       "      <th>Ceres</th>\n",
       "      <td>1701</td>\n",
       "      <td>2380</td>\n",
       "      <td>138.969404</td>\n",
       "    </tr>\n",
       "    <tr>\n",
       "      <th>CocaCola</th>\n",
       "      <td>448</td>\n",
       "      <td>384</td>\n",
       "      <td>158.138462</td>\n",
       "    </tr>\n",
       "  </tbody>\n",
       "</table>\n",
       "</div>"
      ],
      "text/plain": [
       "          retweet  favorite       ratio\n",
       "brand                                  \n",
       "Ceres        1701      2380  138.969404\n",
       "CocaCola      448       384  158.138462"
      ]
     },
     "execution_count": 35,
     "metadata": {},
     "output_type": "execute_result"
    }
   ],
   "source": [
    "new_view.groupby('brand').sum()"
   ]
  },
  {
   "cell_type": "markdown",
   "metadata": {},
   "source": [
    "Note that his does not include the `reply` column, since its values are strings and cannot be summed!"
   ]
  },
  {
   "cell_type": "code",
   "execution_count": 36,
   "metadata": {
    "slideshow": {
     "slide_type": "subslide"
    }
   },
   "outputs": [
    {
     "data": {
      "text/html": [
       "<div>\n",
       "<style scoped>\n",
       "    .dataframe tbody tr th:only-of-type {\n",
       "        vertical-align: middle;\n",
       "    }\n",
       "\n",
       "    .dataframe tbody tr th {\n",
       "        vertical-align: top;\n",
       "    }\n",
       "\n",
       "    .dataframe thead tr th {\n",
       "        text-align: left;\n",
       "    }\n",
       "\n",
       "    .dataframe thead tr:last-of-type th {\n",
       "        text-align: right;\n",
       "    }\n",
       "</style>\n",
       "<table border=\"1\" class=\"dataframe\">\n",
       "  <thead>\n",
       "    <tr>\n",
       "      <th></th>\n",
       "      <th colspan=\"8\" halign=\"left\">retweet</th>\n",
       "      <th colspan=\"5\" halign=\"left\">favorite</th>\n",
       "      <th colspan=\"8\" halign=\"left\">ratio</th>\n",
       "    </tr>\n",
       "    <tr>\n",
       "      <th></th>\n",
       "      <th>count</th>\n",
       "      <th>mean</th>\n",
       "      <th>std</th>\n",
       "      <th>min</th>\n",
       "      <th>25%</th>\n",
       "      <th>50%</th>\n",
       "      <th>75%</th>\n",
       "      <th>max</th>\n",
       "      <th>count</th>\n",
       "      <th>mean</th>\n",
       "      <th>...</th>\n",
       "      <th>75%</th>\n",
       "      <th>max</th>\n",
       "      <th>count</th>\n",
       "      <th>mean</th>\n",
       "      <th>std</th>\n",
       "      <th>min</th>\n",
       "      <th>25%</th>\n",
       "      <th>50%</th>\n",
       "      <th>75%</th>\n",
       "      <th>max</th>\n",
       "    </tr>\n",
       "    <tr>\n",
       "      <th>brand</th>\n",
       "      <th></th>\n",
       "      <th></th>\n",
       "      <th></th>\n",
       "      <th></th>\n",
       "      <th></th>\n",
       "      <th></th>\n",
       "      <th></th>\n",
       "      <th></th>\n",
       "      <th></th>\n",
       "      <th></th>\n",
       "      <th></th>\n",
       "      <th></th>\n",
       "      <th></th>\n",
       "      <th></th>\n",
       "      <th></th>\n",
       "      <th></th>\n",
       "      <th></th>\n",
       "      <th></th>\n",
       "      <th></th>\n",
       "      <th></th>\n",
       "      <th></th>\n",
       "    </tr>\n",
       "  </thead>\n",
       "  <tbody>\n",
       "    <tr>\n",
       "      <th>Ceres</th>\n",
       "      <td>127.0</td>\n",
       "      <td>13.393701</td>\n",
       "      <td>66.230137</td>\n",
       "      <td>0.0</td>\n",
       "      <td>0.0</td>\n",
       "      <td>1.0</td>\n",
       "      <td>3.0</td>\n",
       "      <td>562.0</td>\n",
       "      <td>127.0</td>\n",
       "      <td>18.740157</td>\n",
       "      <td>...</td>\n",
       "      <td>7.5</td>\n",
       "      <td>469.0</td>\n",
       "      <td>127.0</td>\n",
       "      <td>1.094247</td>\n",
       "      <td>1.525215</td>\n",
       "      <td>0.0</td>\n",
       "      <td>0.0</td>\n",
       "      <td>0.0</td>\n",
       "      <td>2.061224</td>\n",
       "      <td>7.0</td>\n",
       "    </tr>\n",
       "    <tr>\n",
       "      <th>CocaCola</th>\n",
       "      <td>493.0</td>\n",
       "      <td>0.908722</td>\n",
       "      <td>1.207103</td>\n",
       "      <td>0.0</td>\n",
       "      <td>0.0</td>\n",
       "      <td>0.0</td>\n",
       "      <td>2.0</td>\n",
       "      <td>13.0</td>\n",
       "      <td>493.0</td>\n",
       "      <td>0.778905</td>\n",
       "      <td>...</td>\n",
       "      <td>1.0</td>\n",
       "      <td>33.0</td>\n",
       "      <td>493.0</td>\n",
       "      <td>0.320768</td>\n",
       "      <td>0.650066</td>\n",
       "      <td>0.0</td>\n",
       "      <td>0.0</td>\n",
       "      <td>0.0</td>\n",
       "      <td>0.500000</td>\n",
       "      <td>7.0</td>\n",
       "    </tr>\n",
       "  </tbody>\n",
       "</table>\n",
       "<p>2 rows × 24 columns</p>\n",
       "</div>"
      ],
      "text/plain": [
       "         retweet                                                  favorite  \\\n",
       "           count       mean        std  min  25%  50%  75%    max    count   \n",
       "brand                                                                        \n",
       "Ceres      127.0  13.393701  66.230137  0.0  0.0  1.0  3.0  562.0    127.0   \n",
       "CocaCola   493.0   0.908722   1.207103  0.0  0.0  0.0  2.0   13.0    493.0   \n",
       "\n",
       "                     ...              ratio                                \\\n",
       "               mean  ...  75%    max  count      mean       std  min  25%   \n",
       "brand                ...                                                    \n",
       "Ceres     18.740157  ...  7.5  469.0  127.0  1.094247  1.525215  0.0  0.0   \n",
       "CocaCola   0.778905  ...  1.0   33.0  493.0  0.320768  0.650066  0.0  0.0   \n",
       "\n",
       "                              \n",
       "          50%       75%  max  \n",
       "brand                         \n",
       "Ceres     0.0  2.061224  7.0  \n",
       "CocaCola  0.0  0.500000  7.0  \n",
       "\n",
       "[2 rows x 24 columns]"
      ]
     },
     "execution_count": 36,
     "metadata": {},
     "output_type": "execute_result"
    }
   ],
   "source": [
    "new_view.groupby('brand').describe()"
   ]
  },
  {
   "cell_type": "markdown",
   "metadata": {
    "slideshow": {
     "slide_type": "fragment"
    }
   },
   "source": [
    "Hmm, that's a bit much. Luckily, we can cutomize our aggregation for each column we want, even with our own functions:"
   ]
  },
  {
   "cell_type": "code",
   "execution_count": 38,
   "metadata": {},
   "outputs": [
    {
     "data": {
      "text/html": [
       "<div>\n",
       "<style scoped>\n",
       "    .dataframe tbody tr th:only-of-type {\n",
       "        vertical-align: middle;\n",
       "    }\n",
       "\n",
       "    .dataframe tbody tr th {\n",
       "        vertical-align: top;\n",
       "    }\n",
       "\n",
       "    .dataframe thead tr th {\n",
       "        text-align: left;\n",
       "    }\n",
       "\n",
       "    .dataframe thead tr:last-of-type th {\n",
       "        text-align: right;\n",
       "    }\n",
       "</style>\n",
       "<table border=\"1\" class=\"dataframe\">\n",
       "  <thead>\n",
       "    <tr>\n",
       "      <th></th>\n",
       "      <th colspan=\"2\" halign=\"left\">media</th>\n",
       "      <th>favorite</th>\n",
       "      <th>retweet</th>\n",
       "      <th>ratio</th>\n",
       "      <th>reply</th>\n",
       "    </tr>\n",
       "    <tr>\n",
       "      <th></th>\n",
       "      <th>sum</th>\n",
       "      <th>count</th>\n",
       "      <th>max</th>\n",
       "      <th>max</th>\n",
       "      <th>mean</th>\n",
       "      <th>unique_values</th>\n",
       "    </tr>\n",
       "    <tr>\n",
       "      <th>brand</th>\n",
       "      <th></th>\n",
       "      <th></th>\n",
       "      <th></th>\n",
       "      <th></th>\n",
       "      <th></th>\n",
       "      <th></th>\n",
       "    </tr>\n",
       "  </thead>\n",
       "  <tbody>\n",
       "    <tr>\n",
       "      <th>Ceres</th>\n",
       "      <td>http://twitter.com/Ceres/status/68105193695141...</td>\n",
       "      <td>127</td>\n",
       "      <td>469</td>\n",
       "      <td>562</td>\n",
       "      <td>1.094247</td>\n",
       "      <td>56</td>\n",
       "    </tr>\n",
       "    <tr>\n",
       "      <th>CocaCola</th>\n",
       "      <td></td>\n",
       "      <td>493</td>\n",
       "      <td>33</td>\n",
       "      <td>13</td>\n",
       "      <td>0.320768</td>\n",
       "      <td>453</td>\n",
       "    </tr>\n",
       "  </tbody>\n",
       "</table>\n",
       "</div>"
      ],
      "text/plain": [
       "                                                      media       favorite  \\\n",
       "                                                        sum count      max   \n",
       "brand                                                                        \n",
       "Ceres     http://twitter.com/Ceres/status/68105193695141...   127      469   \n",
       "CocaCola                                                      493       33   \n",
       "\n",
       "         retweet     ratio         reply  \n",
       "             max      mean unique_values  \n",
       "brand                                     \n",
       "Ceres        562  1.094247            56  \n",
       "CocaCola      13  0.320768           453  "
      ]
     },
     "execution_count": 38,
     "metadata": {},
     "output_type": "execute_result"
    }
   ],
   "source": [
    "def unique_values(series):\n",
    "    return len(set(series.values))\n",
    "\n",
    "new_view.groupby('brand').aggregate({'media': ['sum', 'count'],\n",
    "                                     'favorite': 'max',\n",
    "                                     'retweet': 'max',\n",
    "                                     'ratio': 'mean',\n",
    "                                     'reply': unique_values\n",
    "                                    })"
   ]
  },
  {
   "cell_type": "code",
   "execution_count": null,
   "metadata": {},
   "outputs": [],
   "source": []
  }
 ],
 "metadata": {
  "anaconda-cloud": {},
  "celltoolbar": "Slideshow",
  "kernelspec": {
   "display_name": "Python 3",
   "language": "python",
   "name": "python3"
  },
  "language_info": {
   "codemirror_mode": {
    "name": "ipython",
    "version": 3
   },
   "file_extension": ".py",
   "mimetype": "text/x-python",
   "name": "python",
   "nbconvert_exporter": "python",
   "pygments_lexer": "ipython3",
   "version": "3.7.3"
  },
  "livereveal": {
   "scroll": true,
   "start_slideshow_at": "selected",
   "transition": "none"
  }
 },
 "nbformat": 4,
 "nbformat_minor": 1
}
