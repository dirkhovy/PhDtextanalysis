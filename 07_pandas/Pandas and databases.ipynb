{
 "cells": [
  {
   "cell_type": "code",
   "execution_count": 108,
   "metadata": {
    "slideshow": {
     "slide_type": "skip"
    }
   },
   "outputs": [],
   "source": [
    "%matplotlib inline \n",
    "# this just tells the notebook to display images in the cells, rather than send it to a new window\n",
    "try:\n",
    "    # library for nicer visualizations\n",
    "    import seaborn\n",
    "    seaborn.set_context('notebook')\n",
    "except ImportError:\n",
    "    pass"
   ]
  },
  {
   "cell_type": "markdown",
   "metadata": {
    "slideshow": {
     "slide_type": "slide"
    }
   },
   "source": [
    "# Pandas and Databases"
   ]
  },
  {
   "cell_type": "markdown",
   "metadata": {
    "slideshow": {
     "slide_type": "slide"
    }
   },
   "source": [
    "## *'If you torture the data long enough, it will confess.'*\n",
    "*– Master Turtle*"
   ]
  },
  {
   "cell_type": "markdown",
   "metadata": {
    "slideshow": {
     "slide_type": "notes"
    }
   },
   "source": [
    "Databases are collections of **tables**, organized into **columns** and **rows**, that allow us to store, select, and relate data to each other. The most common language is SQL, which comes in various forms.\n",
    "\n",
    "`pandas` is a library (i.e., a code collection) of useful functions and objects to work with data. It can read from a variety of formats (CSV, Excel, ...), including SQL databases, and has a load of nifty tools to analyze and visualize the data."
   ]
  },
  {
   "cell_type": "markdown",
   "metadata": {
    "slideshow": {
     "slide_type": "slide"
    }
   },
   "source": [
    "# Databases"
   ]
  },
  {
   "cell_type": "markdown",
   "metadata": {
    "slideshow": {
     "slide_type": "subslide"
    }
   },
   "source": [
    "## Selecting data"
   ]
  },
  {
   "cell_type": "markdown",
   "metadata": {
    "slideshow": {
     "slide_type": "-"
    }
   },
   "source": [
    "In SQL, keywords are typically written in CAPS, as to distinguish them from variable names. The general command to get data from a DB is\n",
    "\n",
    "```sql\n",
    "SELECT <columns> FROM <table>\n",
    "```\n",
    "\n",
    "`<columns>` is a comma separated list of the column names we want. If we want **all** columns, we can use the Kleene star `*`."
   ]
  },
  {
   "cell_type": "markdown",
   "metadata": {
    "slideshow": {
     "slide_type": "subslide"
    }
   },
   "source": [
    "### DISTINCT\n",
    "\n",
    "If we want unique entries, we can use the `DISTINCT` keyword:\n",
    "```sql\n",
    "SELECT DISTINCT <columns> FROM <table>\n",
    "```\n",
    "\n",
    "This automatically gets rid of duplicates."
   ]
  },
  {
   "cell_type": "markdown",
   "metadata": {
    "slideshow": {
     "slide_type": "subslide"
    }
   },
   "source": [
    "### WHERE\n",
    "\n",
    "If we want only entries that fulfill a certain condition, we can use the `WHERE` keyword:\n",
    "```sql\n",
    "SELECT <columns> FROM <table> WHERE <condition>\n",
    "```\n",
    "\n",
    "`<condition>` is similar to a boolean statement in Python, but you don't need double equals for comparison. \n",
    "\n",
    "```sql\n",
    "SELECT * FROM tweets WHERE followers > 100\n",
    "```\n",
    "\n",
    "You can also combine several conditions with `AND` and `OR`.\n",
    "\n",
    "```sql\n",
    "SELECT * FROM tweets WHERE followers > 100 AND is_retweet = 'False'\n",
    "```\n",
    "\n"
   ]
  },
  {
   "cell_type": "markdown",
   "metadata": {
    "slideshow": {
     "slide_type": "subslide"
    }
   },
   "source": [
    "### LIMIT\n",
    "\n",
    "Databases can be massive (that's kind of their point), so when you only want a bit to explore first, use the `LIMIT` keyword:\n",
    "```sql\n",
    "SELECT <columns> FROM <table> LIMIT <N>\n",
    "```\n",
    "\n",
    "`<N>` is the maximum number of entries you want"
   ]
  },
  {
   "cell_type": "markdown",
   "metadata": {
    "slideshow": {
     "slide_type": "subslide"
    }
   },
   "source": [
    "## Activity\n",
    "\n",
    "Suppose you have a table called `movies` with the following columns:\n",
    "\n",
    "<table>\n",
    "    <tr>\n",
    "        <th>name</th>\n",
    "        <th>director</th>\n",
    "        <th>year</th>\n",
    "        <th>cost</th> \n",
    "        <th>gain</th>\n",
    "    </tr>\n",
    "</table>\n",
    "\n",
    "How would you select\n",
    "* the unique names of all the directors?\n",
    "* all rows with films made in 1992?\n",
    "* all films made before 2010 that cost under 10M?\n",
    "* the top 10 films made in 2001 that made over 10M?"
   ]
  },
  {
   "cell_type": "markdown",
   "metadata": {
    "slideshow": {
     "slide_type": "subslide"
    }
   },
   "source": [
    "## Databases in Python\n",
    "\n",
    "In order to use SQL in Python, we need a library called `sqlite3`."
   ]
  },
  {
   "cell_type": "code",
   "execution_count": 1,
   "metadata": {},
   "outputs": [],
   "source": [
    "import sqlite3 # this library allows us to connect to a database"
   ]
  },
  {
   "cell_type": "markdown",
   "metadata": {},
   "source": [
    "First, we need to establish a connection to the database. We use the `connect()` function:"
   ]
  },
  {
   "cell_type": "code",
   "execution_count": 10,
   "metadata": {},
   "outputs": [],
   "source": [
    "connection_to_db = sqlite3.connect('../data/example.db')"
   ]
  },
  {
   "cell_type": "markdown",
   "metadata": {
    "slideshow": {
     "slide_type": "subslide"
    }
   },
   "source": [
    "Databases can contain several **tables**, so before we proceed, it's a good idea to check how many we have and how they are called. To do this, we first need a **cursor** (think of it as an iterator over the table), and then execute an **SQL command**:"
   ]
  },
  {
   "cell_type": "code",
   "execution_count": 11,
   "metadata": {},
   "outputs": [
    {
     "name": "stdout",
     "output_type": "stream",
     "text": [
      "[('reviews',)]\n"
     ]
    }
   ],
   "source": [
    "cursor = connection_to_db.cursor()\n",
    "cursor.execute(\"SELECT name FROM sqlite_master WHERE type='table';\")\n",
    "print(cursor.fetchall())"
   ]
  },
  {
   "cell_type": "markdown",
   "metadata": {
    "slideshow": {
     "slide_type": "slide"
    }
   },
   "source": [
    "# `pandas`"
   ]
  },
  {
   "cell_type": "code",
   "execution_count": 7,
   "metadata": {},
   "outputs": [],
   "source": [
    "import pandas as pd # import pandas, but give it a shorthand name"
   ]
  },
  {
   "cell_type": "markdown",
   "metadata": {
    "slideshow": {
     "slide_type": "-"
    }
   },
   "source": [
    "`pandas` let's us read a table directly into Python. We just need a connection and a SQL command."
   ]
  },
  {
   "cell_type": "code",
   "execution_count": 12,
   "metadata": {},
   "outputs": [],
   "source": [
    "df = pd.read_sql(\"SELECT * FROM reviews\", con=connection_to_db)"
   ]
  },
  {
   "cell_type": "markdown",
   "metadata": {},
   "source": [
    "The result of this process is a new object, called a **`DataFrame`**. You can think of it as a table on steroids.\n",
    "\n",
    "`pandas` can read all kinds of *X*-separated files (using `read_csv()`), as well as Excel (`read_excel`).\n",
    "\n",
    "By default, `read_csv()` uses commas `,` as separators, but we can tell it to use any other separator, for example tabs `\\t` instead."
   ]
  },
  {
   "cell_type": "markdown",
   "metadata": {
    "slideshow": {
     "slide_type": "subslide"
    }
   },
   "source": [
    "Now, we can look at the data. The file is rather big, so we will only look at the top 5 lines. We use the `head()` function for it.\n",
    "\n",
    "The top row contains the column names."
   ]
  },
  {
   "cell_type": "code",
   "execution_count": 15,
   "metadata": {},
   "outputs": [
    {
     "data": {
      "text/html": [
       "<div>\n",
       "<style scoped>\n",
       "    .dataframe tbody tr th:only-of-type {\n",
       "        vertical-align: middle;\n",
       "    }\n",
       "\n",
       "    .dataframe tbody tr th {\n",
       "        vertical-align: top;\n",
       "    }\n",
       "\n",
       "    .dataframe thead th {\n",
       "        text-align: right;\n",
       "    }\n",
       "</style>\n",
       "<table border=\"1\" class=\"dataframe\">\n",
       "  <thead>\n",
       "    <tr style=\"text-align: right;\">\n",
       "      <th></th>\n",
       "      <th>index</th>\n",
       "      <th>score</th>\n",
       "      <th>category</th>\n",
       "      <th>uid</th>\n",
       "      <th>gender</th>\n",
       "      <th>age</th>\n",
       "      <th>text</th>\n",
       "    </tr>\n",
       "  </thead>\n",
       "  <tbody>\n",
       "    <tr>\n",
       "      <th>117070</th>\n",
       "      <td>117070</td>\n",
       "      <td>2</td>\n",
       "      <td>Bathroom</td>\n",
       "      <td>7854275</td>\n",
       "      <td>M</td>\n",
       "      <td>57</td>\n",
       "      <td>Ordered a basin waste ten days ago with a deli...</td>\n",
       "    </tr>\n",
       "    <tr>\n",
       "      <th>117071</th>\n",
       "      <td>117071</td>\n",
       "      <td>1</td>\n",
       "      <td>Hospital Equipment</td>\n",
       "      <td>8241333</td>\n",
       "      <td>M</td>\n",
       "      <td>37</td>\n",
       "      <td>I bought a mobility scooter for my elderly mot...</td>\n",
       "    </tr>\n",
       "    <tr>\n",
       "      <th>117072</th>\n",
       "      <td>117072</td>\n",
       "      <td>5</td>\n",
       "      <td>Domestic Appliances</td>\n",
       "      <td>2686431</td>\n",
       "      <td>M</td>\n",
       "      <td>32</td>\n",
       "      <td>Very nice clear website , good prices and fast...</td>\n",
       "    </tr>\n",
       "    <tr>\n",
       "      <th>117073</th>\n",
       "      <td>117073</td>\n",
       "      <td>5</td>\n",
       "      <td>Fragrances</td>\n",
       "      <td>2365806</td>\n",
       "      <td>F</td>\n",
       "      <td>56</td>\n",
       "      <td>Good Prices , easy to use website , quick deli...</td>\n",
       "    </tr>\n",
       "    <tr>\n",
       "      <th>117074</th>\n",
       "      <td>117074</td>\n",
       "      <td>5</td>\n",
       "      <td>Hotels</td>\n",
       "      <td>2365806</td>\n",
       "      <td>F</td>\n",
       "      <td>55</td>\n",
       "      <td>Booked London Hotel from hidden gems - Doublet...</td>\n",
       "    </tr>\n",
       "  </tbody>\n",
       "</table>\n",
       "</div>"
      ],
      "text/plain": [
       "         index  score             category      uid gender  age  \\\n",
       "117070  117070      2             Bathroom  7854275      M   57   \n",
       "117071  117071      1   Hospital Equipment  8241333      M   37   \n",
       "117072  117072      5  Domestic Appliances  2686431      M   32   \n",
       "117073  117073      5           Fragrances  2365806      F   56   \n",
       "117074  117074      5               Hotels  2365806      F   55   \n",
       "\n",
       "                                                     text  \n",
       "117070  Ordered a basin waste ten days ago with a deli...  \n",
       "117071  I bought a mobility scooter for my elderly mot...  \n",
       "117072  Very nice clear website , good prices and fast...  \n",
       "117073  Good Prices , easy to use website , quick deli...  \n",
       "117074  Booked London Hotel from hidden gems - Doublet...  "
      ]
     },
     "execution_count": 15,
     "metadata": {},
     "output_type": "execute_result"
    }
   ],
   "source": [
    "df.tail()"
   ]
  },
  {
   "cell_type": "markdown",
   "metadata": {},
   "source": [
    "If you want to look at more lines, you need to give that number to the function as argument."
   ]
  },
  {
   "cell_type": "markdown",
   "metadata": {},
   "source": [
    "We can also look at the bottom rows, with `tail()`"
   ]
  },
  {
   "cell_type": "markdown",
   "metadata": {
    "slideshow": {
     "slide_type": "subslide"
    }
   },
   "source": [
    "## Activity: Loading data\n",
    "\n",
    "* create a new variable, `scores`, and read in the distinct scores from the SQL table\n",
    "* look at the last 3 lines of `scores`"
   ]
  },
  {
   "cell_type": "code",
   "execution_count": 22,
   "metadata": {},
   "outputs": [
    {
     "name": "stdout",
     "output_type": "stream",
     "text": [
      "   score\n",
      "0      5\n",
      "1      4\n",
      "2      1\n",
      "3      2\n",
      "4      3\n"
     ]
    }
   ],
   "source": [
    "# your code here\n",
    "scores = pd.read_sql(\"SELECT DISTINCT score FROM reviews\", con=connection_to_db)\n",
    "print(scores.tail())"
   ]
  },
  {
   "cell_type": "markdown",
   "metadata": {
    "slideshow": {
     "slide_type": "subslide"
    }
   },
   "source": [
    "# Indexing"
   ]
  },
  {
   "cell_type": "markdown",
   "metadata": {},
   "source": [
    "### Columns\n",
    "\n",
    "DataFrames, as well as databases, are organized in columns with names. To get an overview, use the `columns` attribute."
   ]
  },
  {
   "cell_type": "code",
   "execution_count": 26,
   "metadata": {},
   "outputs": [
    {
     "data": {
      "text/plain": [
       "Index(['index', 'score', 'category', 'uid', 'gender', 'age', 'text'], dtype='object')"
      ]
     },
     "execution_count": 26,
     "metadata": {},
     "output_type": "execute_result"
    }
   ],
   "source": [
    "df.columns"
   ]
  },
  {
   "cell_type": "markdown",
   "metadata": {
    "slideshow": {
     "slide_type": "subslide"
    }
   },
   "source": [
    "To see just one column, access it with the same square bracket notation as for lists `[]`. However, rather than a number, use the column name string.\n",
    "\n",
    "Alternatively, you can treat the name like an attribute of the `DataFrame`, and use a dot operator."
   ]
  },
  {
   "cell_type": "code",
   "execution_count": 28,
   "metadata": {},
   "outputs": [
    {
     "name": "stdout",
     "output_type": "stream",
     "text": [
      "True\n",
      "0         Prices change daily and if you want to really ...\n",
      "1         and the fact that they will match other compan...\n",
      "2         Used Paypal for my buying and selling for the ...\n",
      "3         I ' ve made two purchases on CJ ' s for Fallou...\n",
      "4         I was very happy with the diamond that I order...\n",
      "5         I signed up with front point security 0 months...\n",
      "6         First off I usually never get extended warrant...\n",
      "7         The games come , no worries , they are reputab...\n",
      "8         We worked hard to send out email invitations f...\n",
      "9         I am in love with all the free movies and show...\n",
      "10        I ordered two pieces for a halloween party in ...\n",
      "11        Everything about this site is pleasing , from ...\n",
      "12        As soon as you make your claim , they are on i...\n",
      "13        Excellent service , I have only found a cheape...\n",
      "14        I always appreciate a dealer that takes the ti...\n",
      "15        I ' ve used Supplement Warehouse several times...\n",
      "16        Prices are way better than GNC even with shipp...\n",
      "17        the service was 0nd to non and the fact that y...\n",
      "18        We ' ve used Priceline probably 0 times for ho...\n",
      "19        I have used the website twice now to order my ...\n",
      "20        when i buy something from lightinthebox i alwa...\n",
      "21        Purchased 00 days WoW gametime , received my c...\n",
      "22        No hassle easy way to buy a diamond if you do ...\n",
      "23        fantastic website , i ' ve bought 0 games from...\n",
      "24        In my opinion the shop was very nice and clean...\n",
      "25        Since August 0000 i bought 0 bags for 0 . 000 ...\n",
      "26        Using the 0 % off price match tool is addictive !\n",
      "27        I cannot do without my EltaMD UV SPF 00 Tinted...\n",
      "28        Easy to navigate the website , and lots of fre...\n",
      "29        For those of you who have had bad experience w...\n",
      "                                ...                        \n",
      "117045    The website itself is a poor experience - does...\n",
      "117046    The course material got right to the point on ...\n",
      "117047    I ' ve found Viovet to be competitively priced...\n",
      "117048    Everyone have to try this because this softwar...\n",
      "117049    It was nearly 0pm on valentines day and still ...\n",
      "117050    On an extended trip abroad and having elderly ...\n",
      "117051    I have just received my delivery of 0 pair of ...\n",
      "117052    I did a scan on mt friend ' s pc using Belarc ...\n",
      "117053    got a email stating they would be delivered on...\n",
      "117054    great service answer my all questions and I am...\n",
      "117055    Items always in stock , & despatched very quic...\n",
      "117056    Didn ' t have original printer in stock but of...\n",
      "117057    it was my first time to ask about unlock throu...\n",
      "117058    Good choice of items plus free delivery which ...\n",
      "117059    I have been using hostelbookers . com for year...\n",
      "117060    Agreed postage is a tad high , I used to visit...\n",
      "117061    it was very easy to place my order , i was kep...\n",
      "117062    I need to thank my bridesmaid and Funktion for...\n",
      "117063    Whatever I want I just check Amazon , brillian...\n",
      "117064    Very fast and reliable service , don ' waste y...\n",
      "117065    I have been using national tyres for a few yea...\n",
      "117066    We found the website easy to browse to find th...\n",
      "117067    Whenever I require batteries , battery Force i...\n",
      "117068    Moved into a new property and after a previous...\n",
      "117069    Found Arma 0 for the cheapest here , don ' t u...\n",
      "117070    Ordered a basin waste ten days ago with a deli...\n",
      "117071    I bought a mobility scooter for my elderly mot...\n",
      "117072    Very nice clear website , good prices and fast...\n",
      "117073    Good Prices , easy to use website , quick deli...\n",
      "117074    Booked London Hotel from hidden gems - Doublet...\n",
      "Name: text, Length: 117075, dtype: object\n"
     ]
    }
   ],
   "source": [
    "# Dictionary-style indexing\n",
    "texts1 = df['text']\n",
    "\n",
    "# Alternative syntax\n",
    "texts2 = df.text\n",
    "\n",
    "# check whether the Series are the same\n",
    "print(texts1 is texts2)\n",
    "print(texts1)"
   ]
  },
  {
   "cell_type": "markdown",
   "metadata": {
    "slideshow": {
     "slide_type": "subslide"
    }
   },
   "source": [
    "The column returned from such an indexing is called a `Series` object.\n",
    "\n",
    "To select several columns, we need to use the first method, and give it a list of column names. This returns a new `DataFrame` object."
   ]
  },
  {
   "cell_type": "code",
   "execution_count": 31,
   "metadata": {},
   "outputs": [
    {
     "name": "stdout",
     "output_type": "stream",
     "text": [
      "<class 'pandas.core.series.Series'>\n",
      "<class 'pandas.core.frame.DataFrame'>\n"
     ]
    },
    {
     "data": {
      "text/html": [
       "<div>\n",
       "<style scoped>\n",
       "    .dataframe tbody tr th:only-of-type {\n",
       "        vertical-align: middle;\n",
       "    }\n",
       "\n",
       "    .dataframe tbody tr th {\n",
       "        vertical-align: top;\n",
       "    }\n",
       "\n",
       "    .dataframe thead th {\n",
       "        text-align: right;\n",
       "    }\n",
       "</style>\n",
       "<table border=\"1\" class=\"dataframe\">\n",
       "  <thead>\n",
       "    <tr style=\"text-align: right;\">\n",
       "      <th></th>\n",
       "      <th>text</th>\n",
       "      <th>score</th>\n",
       "    </tr>\n",
       "  </thead>\n",
       "  <tbody>\n",
       "    <tr>\n",
       "      <th>0</th>\n",
       "      <td>Prices change daily and if you want to really ...</td>\n",
       "      <td>5</td>\n",
       "    </tr>\n",
       "    <tr>\n",
       "      <th>1</th>\n",
       "      <td>and the fact that they will match other compan...</td>\n",
       "      <td>5</td>\n",
       "    </tr>\n",
       "    <tr>\n",
       "      <th>2</th>\n",
       "      <td>Used Paypal for my buying and selling for the ...</td>\n",
       "      <td>5</td>\n",
       "    </tr>\n",
       "    <tr>\n",
       "      <th>3</th>\n",
       "      <td>I ' ve made two purchases on CJ ' s for Fallou...</td>\n",
       "      <td>5</td>\n",
       "    </tr>\n",
       "    <tr>\n",
       "      <th>4</th>\n",
       "      <td>I was very happy with the diamond that I order...</td>\n",
       "      <td>4</td>\n",
       "    </tr>\n",
       "    <tr>\n",
       "      <th>5</th>\n",
       "      <td>I signed up with front point security 0 months...</td>\n",
       "      <td>5</td>\n",
       "    </tr>\n",
       "    <tr>\n",
       "      <th>6</th>\n",
       "      <td>First off I usually never get extended warrant...</td>\n",
       "      <td>5</td>\n",
       "    </tr>\n",
       "    <tr>\n",
       "      <th>7</th>\n",
       "      <td>The games come , no worries , they are reputab...</td>\n",
       "      <td>5</td>\n",
       "    </tr>\n",
       "    <tr>\n",
       "      <th>8</th>\n",
       "      <td>We worked hard to send out email invitations f...</td>\n",
       "      <td>1</td>\n",
       "    </tr>\n",
       "    <tr>\n",
       "      <th>9</th>\n",
       "      <td>I am in love with all the free movies and show...</td>\n",
       "      <td>4</td>\n",
       "    </tr>\n",
       "    <tr>\n",
       "      <th>10</th>\n",
       "      <td>I ordered two pieces for a halloween party in ...</td>\n",
       "      <td>1</td>\n",
       "    </tr>\n",
       "    <tr>\n",
       "      <th>11</th>\n",
       "      <td>Everything about this site is pleasing , from ...</td>\n",
       "      <td>5</td>\n",
       "    </tr>\n",
       "    <tr>\n",
       "      <th>12</th>\n",
       "      <td>As soon as you make your claim , they are on i...</td>\n",
       "      <td>5</td>\n",
       "    </tr>\n",
       "    <tr>\n",
       "      <th>13</th>\n",
       "      <td>Excellent service , I have only found a cheape...</td>\n",
       "      <td>5</td>\n",
       "    </tr>\n",
       "    <tr>\n",
       "      <th>14</th>\n",
       "      <td>I always appreciate a dealer that takes the ti...</td>\n",
       "      <td>5</td>\n",
       "    </tr>\n",
       "    <tr>\n",
       "      <th>15</th>\n",
       "      <td>I ' ve used Supplement Warehouse several times...</td>\n",
       "      <td>4</td>\n",
       "    </tr>\n",
       "    <tr>\n",
       "      <th>16</th>\n",
       "      <td>Prices are way better than GNC even with shipp...</td>\n",
       "      <td>5</td>\n",
       "    </tr>\n",
       "    <tr>\n",
       "      <th>17</th>\n",
       "      <td>the service was 0nd to non and the fact that y...</td>\n",
       "      <td>5</td>\n",
       "    </tr>\n",
       "    <tr>\n",
       "      <th>18</th>\n",
       "      <td>We ' ve used Priceline probably 0 times for ho...</td>\n",
       "      <td>5</td>\n",
       "    </tr>\n",
       "    <tr>\n",
       "      <th>19</th>\n",
       "      <td>I have used the website twice now to order my ...</td>\n",
       "      <td>5</td>\n",
       "    </tr>\n",
       "    <tr>\n",
       "      <th>20</th>\n",
       "      <td>when i buy something from lightinthebox i alwa...</td>\n",
       "      <td>5</td>\n",
       "    </tr>\n",
       "    <tr>\n",
       "      <th>21</th>\n",
       "      <td>Purchased 00 days WoW gametime , received my c...</td>\n",
       "      <td>5</td>\n",
       "    </tr>\n",
       "    <tr>\n",
       "      <th>22</th>\n",
       "      <td>No hassle easy way to buy a diamond if you do ...</td>\n",
       "      <td>4</td>\n",
       "    </tr>\n",
       "    <tr>\n",
       "      <th>23</th>\n",
       "      <td>fantastic website , i ' ve bought 0 games from...</td>\n",
       "      <td>5</td>\n",
       "    </tr>\n",
       "    <tr>\n",
       "      <th>24</th>\n",
       "      <td>In my opinion the shop was very nice and clean...</td>\n",
       "      <td>5</td>\n",
       "    </tr>\n",
       "    <tr>\n",
       "      <th>25</th>\n",
       "      <td>Since August 0000 i bought 0 bags for 0 . 000 ...</td>\n",
       "      <td>1</td>\n",
       "    </tr>\n",
       "    <tr>\n",
       "      <th>26</th>\n",
       "      <td>Using the 0 % off price match tool is addictive !</td>\n",
       "      <td>5</td>\n",
       "    </tr>\n",
       "    <tr>\n",
       "      <th>27</th>\n",
       "      <td>I cannot do without my EltaMD UV SPF 00 Tinted...</td>\n",
       "      <td>5</td>\n",
       "    </tr>\n",
       "    <tr>\n",
       "      <th>28</th>\n",
       "      <td>Easy to navigate the website , and lots of fre...</td>\n",
       "      <td>4</td>\n",
       "    </tr>\n",
       "    <tr>\n",
       "      <th>29</th>\n",
       "      <td>For those of you who have had bad experience w...</td>\n",
       "      <td>2</td>\n",
       "    </tr>\n",
       "    <tr>\n",
       "      <th>...</th>\n",
       "      <td>...</td>\n",
       "      <td>...</td>\n",
       "    </tr>\n",
       "    <tr>\n",
       "      <th>117045</th>\n",
       "      <td>The website itself is a poor experience - does...</td>\n",
       "      <td>4</td>\n",
       "    </tr>\n",
       "    <tr>\n",
       "      <th>117046</th>\n",
       "      <td>The course material got right to the point on ...</td>\n",
       "      <td>5</td>\n",
       "    </tr>\n",
       "    <tr>\n",
       "      <th>117047</th>\n",
       "      <td>I ' ve found Viovet to be competitively priced...</td>\n",
       "      <td>5</td>\n",
       "    </tr>\n",
       "    <tr>\n",
       "      <th>117048</th>\n",
       "      <td>Everyone have to try this because this softwar...</td>\n",
       "      <td>5</td>\n",
       "    </tr>\n",
       "    <tr>\n",
       "      <th>117049</th>\n",
       "      <td>It was nearly 0pm on valentines day and still ...</td>\n",
       "      <td>1</td>\n",
       "    </tr>\n",
       "    <tr>\n",
       "      <th>117050</th>\n",
       "      <td>On an extended trip abroad and having elderly ...</td>\n",
       "      <td>5</td>\n",
       "    </tr>\n",
       "    <tr>\n",
       "      <th>117051</th>\n",
       "      <td>I have just received my delivery of 0 pair of ...</td>\n",
       "      <td>5</td>\n",
       "    </tr>\n",
       "    <tr>\n",
       "      <th>117052</th>\n",
       "      <td>I did a scan on mt friend ' s pc using Belarc ...</td>\n",
       "      <td>5</td>\n",
       "    </tr>\n",
       "    <tr>\n",
       "      <th>117053</th>\n",
       "      <td>got a email stating they would be delivered on...</td>\n",
       "      <td>1</td>\n",
       "    </tr>\n",
       "    <tr>\n",
       "      <th>117054</th>\n",
       "      <td>great service answer my all questions and I am...</td>\n",
       "      <td>5</td>\n",
       "    </tr>\n",
       "    <tr>\n",
       "      <th>117055</th>\n",
       "      <td>Items always in stock , &amp; despatched very quic...</td>\n",
       "      <td>5</td>\n",
       "    </tr>\n",
       "    <tr>\n",
       "      <th>117056</th>\n",
       "      <td>Didn ' t have original printer in stock but of...</td>\n",
       "      <td>5</td>\n",
       "    </tr>\n",
       "    <tr>\n",
       "      <th>117057</th>\n",
       "      <td>it was my first time to ask about unlock throu...</td>\n",
       "      <td>4</td>\n",
       "    </tr>\n",
       "    <tr>\n",
       "      <th>117058</th>\n",
       "      <td>Good choice of items plus free delivery which ...</td>\n",
       "      <td>4</td>\n",
       "    </tr>\n",
       "    <tr>\n",
       "      <th>117059</th>\n",
       "      <td>I have been using hostelbookers . com for year...</td>\n",
       "      <td>5</td>\n",
       "    </tr>\n",
       "    <tr>\n",
       "      <th>117060</th>\n",
       "      <td>Agreed postage is a tad high , I used to visit...</td>\n",
       "      <td>4</td>\n",
       "    </tr>\n",
       "    <tr>\n",
       "      <th>117061</th>\n",
       "      <td>it was very easy to place my order , i was kep...</td>\n",
       "      <td>5</td>\n",
       "    </tr>\n",
       "    <tr>\n",
       "      <th>117062</th>\n",
       "      <td>I need to thank my bridesmaid and Funktion for...</td>\n",
       "      <td>5</td>\n",
       "    </tr>\n",
       "    <tr>\n",
       "      <th>117063</th>\n",
       "      <td>Whatever I want I just check Amazon , brillian...</td>\n",
       "      <td>5</td>\n",
       "    </tr>\n",
       "    <tr>\n",
       "      <th>117064</th>\n",
       "      <td>Very fast and reliable service , don ' waste y...</td>\n",
       "      <td>5</td>\n",
       "    </tr>\n",
       "    <tr>\n",
       "      <th>117065</th>\n",
       "      <td>I have been using national tyres for a few yea...</td>\n",
       "      <td>5</td>\n",
       "    </tr>\n",
       "    <tr>\n",
       "      <th>117066</th>\n",
       "      <td>We found the website easy to browse to find th...</td>\n",
       "      <td>5</td>\n",
       "    </tr>\n",
       "    <tr>\n",
       "      <th>117067</th>\n",
       "      <td>Whenever I require batteries , battery Force i...</td>\n",
       "      <td>5</td>\n",
       "    </tr>\n",
       "    <tr>\n",
       "      <th>117068</th>\n",
       "      <td>Moved into a new property and after a previous...</td>\n",
       "      <td>1</td>\n",
       "    </tr>\n",
       "    <tr>\n",
       "      <th>117069</th>\n",
       "      <td>Found Arma 0 for the cheapest here , don ' t u...</td>\n",
       "      <td>5</td>\n",
       "    </tr>\n",
       "    <tr>\n",
       "      <th>117070</th>\n",
       "      <td>Ordered a basin waste ten days ago with a deli...</td>\n",
       "      <td>2</td>\n",
       "    </tr>\n",
       "    <tr>\n",
       "      <th>117071</th>\n",
       "      <td>I bought a mobility scooter for my elderly mot...</td>\n",
       "      <td>1</td>\n",
       "    </tr>\n",
       "    <tr>\n",
       "      <th>117072</th>\n",
       "      <td>Very nice clear website , good prices and fast...</td>\n",
       "      <td>5</td>\n",
       "    </tr>\n",
       "    <tr>\n",
       "      <th>117073</th>\n",
       "      <td>Good Prices , easy to use website , quick deli...</td>\n",
       "      <td>5</td>\n",
       "    </tr>\n",
       "    <tr>\n",
       "      <th>117074</th>\n",
       "      <td>Booked London Hotel from hidden gems - Doublet...</td>\n",
       "      <td>5</td>\n",
       "    </tr>\n",
       "  </tbody>\n",
       "</table>\n",
       "<p>117075 rows × 2 columns</p>\n",
       "</div>"
      ],
      "text/plain": [
       "                                                     text  score\n",
       "0       Prices change daily and if you want to really ...      5\n",
       "1       and the fact that they will match other compan...      5\n",
       "2       Used Paypal for my buying and selling for the ...      5\n",
       "3       I ' ve made two purchases on CJ ' s for Fallou...      5\n",
       "4       I was very happy with the diamond that I order...      4\n",
       "5       I signed up with front point security 0 months...      5\n",
       "6       First off I usually never get extended warrant...      5\n",
       "7       The games come , no worries , they are reputab...      5\n",
       "8       We worked hard to send out email invitations f...      1\n",
       "9       I am in love with all the free movies and show...      4\n",
       "10      I ordered two pieces for a halloween party in ...      1\n",
       "11      Everything about this site is pleasing , from ...      5\n",
       "12      As soon as you make your claim , they are on i...      5\n",
       "13      Excellent service , I have only found a cheape...      5\n",
       "14      I always appreciate a dealer that takes the ti...      5\n",
       "15      I ' ve used Supplement Warehouse several times...      4\n",
       "16      Prices are way better than GNC even with shipp...      5\n",
       "17      the service was 0nd to non and the fact that y...      5\n",
       "18      We ' ve used Priceline probably 0 times for ho...      5\n",
       "19      I have used the website twice now to order my ...      5\n",
       "20      when i buy something from lightinthebox i alwa...      5\n",
       "21      Purchased 00 days WoW gametime , received my c...      5\n",
       "22      No hassle easy way to buy a diamond if you do ...      4\n",
       "23      fantastic website , i ' ve bought 0 games from...      5\n",
       "24      In my opinion the shop was very nice and clean...      5\n",
       "25      Since August 0000 i bought 0 bags for 0 . 000 ...      1\n",
       "26      Using the 0 % off price match tool is addictive !      5\n",
       "27      I cannot do without my EltaMD UV SPF 00 Tinted...      5\n",
       "28      Easy to navigate the website , and lots of fre...      4\n",
       "29      For those of you who have had bad experience w...      2\n",
       "...                                                   ...    ...\n",
       "117045  The website itself is a poor experience - does...      4\n",
       "117046  The course material got right to the point on ...      5\n",
       "117047  I ' ve found Viovet to be competitively priced...      5\n",
       "117048  Everyone have to try this because this softwar...      5\n",
       "117049  It was nearly 0pm on valentines day and still ...      1\n",
       "117050  On an extended trip abroad and having elderly ...      5\n",
       "117051  I have just received my delivery of 0 pair of ...      5\n",
       "117052  I did a scan on mt friend ' s pc using Belarc ...      5\n",
       "117053  got a email stating they would be delivered on...      1\n",
       "117054  great service answer my all questions and I am...      5\n",
       "117055  Items always in stock , & despatched very quic...      5\n",
       "117056  Didn ' t have original printer in stock but of...      5\n",
       "117057  it was my first time to ask about unlock throu...      4\n",
       "117058  Good choice of items plus free delivery which ...      4\n",
       "117059  I have been using hostelbookers . com for year...      5\n",
       "117060  Agreed postage is a tad high , I used to visit...      4\n",
       "117061  it was very easy to place my order , i was kep...      5\n",
       "117062  I need to thank my bridesmaid and Funktion for...      5\n",
       "117063  Whatever I want I just check Amazon , brillian...      5\n",
       "117064  Very fast and reliable service , don ' waste y...      5\n",
       "117065  I have been using national tyres for a few yea...      5\n",
       "117066  We found the website easy to browse to find th...      5\n",
       "117067  Whenever I require batteries , battery Force i...      5\n",
       "117068  Moved into a new property and after a previous...      1\n",
       "117069  Found Arma 0 for the cheapest here , don ' t u...      5\n",
       "117070  Ordered a basin waste ten days ago with a deli...      2\n",
       "117071  I bought a mobility scooter for my elderly mot...      1\n",
       "117072  Very nice clear website , good prices and fast...      5\n",
       "117073  Good Prices , easy to use website , quick deli...      5\n",
       "117074  Booked London Hotel from hidden gems - Doublet...      5\n",
       "\n",
       "[117075 rows x 2 columns]"
      ]
     },
     "execution_count": 31,
     "metadata": {},
     "output_type": "execute_result"
    }
   ],
   "source": [
    "print(type(df.text))\n",
    "print(type(df[['text', 'score']]))\n",
    "df[['text', 'score']]"
   ]
  },
  {
   "cell_type": "markdown",
   "metadata": {
    "slideshow": {
     "slide_type": "subslide"
    }
   },
   "source": [
    "#### Series functions\n",
    "\n",
    "There are a lot of functions to analyze a `Series` object. One of the most useful is `describe()`, which gives us some descriptive statistics. Some of the ones used here, like `count()`, `mean()`, `max()`, and `min()` can be called by themselves."
   ]
  },
  {
   "cell_type": "code",
   "execution_count": 35,
   "metadata": {},
   "outputs": [
    {
     "data": {
      "text/plain": [
       "count    117075.000000\n",
       "mean          4.495939\n",
       "std           1.151152\n",
       "min           1.000000\n",
       "25%           5.000000\n",
       "50%           5.000000\n",
       "75%           5.000000\n",
       "max           5.000000\n",
       "Name: score, dtype: float64"
      ]
     },
     "execution_count": 35,
     "metadata": {},
     "output_type": "execute_result"
    }
   ],
   "source": [
    "df.score.describe()"
   ]
  },
  {
   "cell_type": "markdown",
   "metadata": {
    "slideshow": {
     "slide_type": "subslide"
    }
   },
   "source": [
    "## Activity\n",
    "\n",
    "* what are the mean and median of the `age` column?\n",
    "* what do you get when you use describe on a column with strings, like `text` or `gender`?"
   ]
  },
  {
   "cell_type": "code",
   "execution_count": 41,
   "metadata": {},
   "outputs": [
    {
     "name": "stdout",
     "output_type": "stream",
     "text": [
      "mean=41.550800768737986, median=41.0\n"
     ]
    },
    {
     "data": {
      "text/plain": [
       "count                                                117075\n",
       "unique                                               116992\n",
       "top       The item arrived the day after I ordered it ! ...\n",
       "freq                                                     15\n",
       "Name: text, dtype: object"
      ]
     },
     "execution_count": 41,
     "metadata": {},
     "output_type": "execute_result"
    }
   ],
   "source": [
    "# your code here\n",
    "print('mean={}, median={}'.format(df['age'].mean(), df['age'].median()))\n",
    "df['text'].apply(str).describe()"
   ]
  },
  {
   "cell_type": "markdown",
   "metadata": {
    "slideshow": {
     "slide_type": "subslide"
    }
   },
   "source": [
    "### Adding new columns\n",
    "\n",
    "Let's create a new column `ratio`, i.e., the amount of score per year of age, based on the existing columns `score` and `age`."
   ]
  },
  {
   "cell_type": "code",
   "execution_count": 51,
   "metadata": {},
   "outputs": [
    {
     "data": {
      "text/html": [
       "<div>\n",
       "<style scoped>\n",
       "    .dataframe tbody tr th:only-of-type {\n",
       "        vertical-align: middle;\n",
       "    }\n",
       "\n",
       "    .dataframe tbody tr th {\n",
       "        vertical-align: top;\n",
       "    }\n",
       "\n",
       "    .dataframe thead th {\n",
       "        text-align: right;\n",
       "    }\n",
       "</style>\n",
       "<table border=\"1\" class=\"dataframe\">\n",
       "  <thead>\n",
       "    <tr style=\"text-align: right;\">\n",
       "      <th></th>\n",
       "      <th>index</th>\n",
       "      <th>score</th>\n",
       "      <th>category</th>\n",
       "      <th>uid</th>\n",
       "      <th>gender</th>\n",
       "      <th>age</th>\n",
       "      <th>text</th>\n",
       "      <th>ratio</th>\n",
       "    </tr>\n",
       "  </thead>\n",
       "  <tbody>\n",
       "    <tr>\n",
       "      <th>0</th>\n",
       "      <td>0</td>\n",
       "      <td>5</td>\n",
       "      <td>Car Rental</td>\n",
       "      <td>899881</td>\n",
       "      <td>F</td>\n",
       "      <td>50</td>\n",
       "      <td>Prices change daily and if you want to really ...</td>\n",
       "      <td>0.100000</td>\n",
       "    </tr>\n",
       "    <tr>\n",
       "      <th>1</th>\n",
       "      <td>1</td>\n",
       "      <td>5</td>\n",
       "      <td>Fitness &amp; Nutrition</td>\n",
       "      <td>828184</td>\n",
       "      <td>M</td>\n",
       "      <td>32</td>\n",
       "      <td>and the fact that they will match other compan...</td>\n",
       "      <td>0.156250</td>\n",
       "    </tr>\n",
       "    <tr>\n",
       "      <th>2</th>\n",
       "      <td>2</td>\n",
       "      <td>5</td>\n",
       "      <td>Electronic Payment</td>\n",
       "      <td>1698375</td>\n",
       "      <td>M</td>\n",
       "      <td>48</td>\n",
       "      <td>Used Paypal for my buying and selling for the ...</td>\n",
       "      <td>0.104167</td>\n",
       "    </tr>\n",
       "    <tr>\n",
       "      <th>3</th>\n",
       "      <td>3</td>\n",
       "      <td>5</td>\n",
       "      <td>Gaming</td>\n",
       "      <td>3324079</td>\n",
       "      <td>M</td>\n",
       "      <td>29</td>\n",
       "      <td>I ' ve made two purchases on CJ ' s for Fallou...</td>\n",
       "      <td>0.172414</td>\n",
       "    </tr>\n",
       "    <tr>\n",
       "      <th>4</th>\n",
       "      <td>4</td>\n",
       "      <td>4</td>\n",
       "      <td>Jewelry</td>\n",
       "      <td>719816</td>\n",
       "      <td>F</td>\n",
       "      <td>29</td>\n",
       "      <td>I was very happy with the diamond that I order...</td>\n",
       "      <td>0.137931</td>\n",
       "    </tr>\n",
       "  </tbody>\n",
       "</table>\n",
       "</div>"
      ],
      "text/plain": [
       "   index  score             category      uid gender  age  \\\n",
       "0      0      5           Car Rental   899881      F   50   \n",
       "1      1      5  Fitness & Nutrition   828184      M   32   \n",
       "2      2      5   Electronic Payment  1698375      M   48   \n",
       "3      3      5               Gaming  3324079      M   29   \n",
       "4      4      4              Jewelry   719816      F   29   \n",
       "\n",
       "                                                text     ratio  \n",
       "0  Prices change daily and if you want to really ...  0.100000  \n",
       "1  and the fact that they will match other compan...  0.156250  \n",
       "2  Used Paypal for my buying and selling for the ...  0.104167  \n",
       "3  I ' ve made two purchases on CJ ' s for Fallou...  0.172414  \n",
       "4  I was very happy with the diamond that I order...  0.137931  "
      ]
     },
     "execution_count": 51,
     "metadata": {},
     "output_type": "execute_result"
    }
   ],
   "source": [
    "df['ratio'] = (df.score / df.age)\n",
    "df.head()\n",
    "# df.ratio.describe()"
   ]
  },
  {
   "cell_type": "markdown",
   "metadata": {},
   "source": [
    "This new column is listed in the `df` object (but not added to the database we read in):"
   ]
  },
  {
   "cell_type": "code",
   "execution_count": 54,
   "metadata": {},
   "outputs": [
    {
     "data": {
      "text/plain": [
       "Index(['index', 'score', 'category', 'uid', 'gender', 'age', 'text', 'ratio'], dtype='object')"
      ]
     },
     "execution_count": 54,
     "metadata": {},
     "output_type": "execute_result"
    }
   ],
   "source": [
    "df.columns"
   ]
  },
  {
   "cell_type": "markdown",
   "metadata": {
    "slideshow": {
     "slide_type": "subslide"
    }
   },
   "source": [
    "## Correlations\n",
    "\n",
    "Since we used two exsitng qunatities, there is now some correlation in the data. Let's check. Luckily, there's a function for that: `corr()`."
   ]
  },
  {
   "cell_type": "code",
   "execution_count": 95,
   "metadata": {},
   "outputs": [
    {
     "data": {
      "text/html": [
       "<div>\n",
       "<style scoped>\n",
       "    .dataframe tbody tr th:only-of-type {\n",
       "        vertical-align: middle;\n",
       "    }\n",
       "\n",
       "    .dataframe tbody tr th {\n",
       "        vertical-align: top;\n",
       "    }\n",
       "\n",
       "    .dataframe thead th {\n",
       "        text-align: right;\n",
       "    }\n",
       "</style>\n",
       "<table border=\"1\" class=\"dataframe\">\n",
       "  <thead>\n",
       "    <tr style=\"text-align: right;\">\n",
       "      <th></th>\n",
       "      <th>age</th>\n",
       "      <th>score</th>\n",
       "      <th>ratio</th>\n",
       "    </tr>\n",
       "  </thead>\n",
       "  <tbody>\n",
       "    <tr>\n",
       "      <th>age</th>\n",
       "      <td>1.000000</td>\n",
       "      <td>0.061826</td>\n",
       "      <td>-0.737078</td>\n",
       "    </tr>\n",
       "    <tr>\n",
       "      <th>score</th>\n",
       "      <td>0.061826</td>\n",
       "      <td>1.000000</td>\n",
       "      <td>0.535871</td>\n",
       "    </tr>\n",
       "    <tr>\n",
       "      <th>ratio</th>\n",
       "      <td>-0.737078</td>\n",
       "      <td>0.535871</td>\n",
       "      <td>1.000000</td>\n",
       "    </tr>\n",
       "  </tbody>\n",
       "</table>\n",
       "</div>"
      ],
      "text/plain": [
       "            age     score     ratio\n",
       "age    1.000000  0.061826 -0.737078\n",
       "score  0.061826  1.000000  0.535871\n",
       "ratio -0.737078  0.535871  1.000000"
      ]
     },
     "execution_count": 95,
     "metadata": {},
     "output_type": "execute_result"
    }
   ],
   "source": [
    "df_no_nan[['age', 'score', 'ratio']].corr()"
   ]
  },
  {
   "cell_type": "markdown",
   "metadata": {},
   "source": [
    "## String Columns"
   ]
  },
  {
   "cell_type": "markdown",
   "metadata": {},
   "source": [
    "If we have a column containing strings (like here `text`), we can apply a whole range of functions we know from `str`, such as `len()`, `lower()`, `isalpha()`, etc.\n",
    "You can find a full list at [https://pandas.pydata.org/pandas-docs/stable/user_guide/text.html#extracting-substrings](https://pandas.pydata.org/pandas-docs/stable/user_guide/text.html#extracting-substrings)"
   ]
  },
  {
   "cell_type": "code",
   "execution_count": 103,
   "metadata": {},
   "outputs": [
    {
     "name": "stdout",
     "output_type": "stream",
     "text": [
      "0         f\n",
      "1         m\n",
      "2         m\n",
      "3         m\n",
      "4         f\n",
      "5         f\n",
      "6         m\n",
      "7         m\n",
      "8         f\n",
      "9         f\n",
      "10        f\n",
      "11        f\n",
      "12        f\n",
      "13        m\n",
      "14        f\n",
      "15        m\n",
      "16        f\n",
      "17        m\n",
      "18        f\n",
      "19        f\n",
      "20        m\n",
      "21        f\n",
      "22        m\n",
      "23        m\n",
      "24        m\n",
      "25        f\n",
      "26        f\n",
      "27        f\n",
      "28        m\n",
      "29        f\n",
      "         ..\n",
      "117045    m\n",
      "117046    f\n",
      "117047    f\n",
      "117048    m\n",
      "117049    m\n",
      "117050    f\n",
      "117051    f\n",
      "117052    m\n",
      "117053    m\n",
      "117054    m\n",
      "117055    m\n",
      "117056    m\n",
      "117057    m\n",
      "117058    f\n",
      "117059    f\n",
      "117060    m\n",
      "117061    f\n",
      "117062    f\n",
      "117063    f\n",
      "117064    m\n",
      "117065    m\n",
      "117066    m\n",
      "117067    m\n",
      "117068    m\n",
      "117069    m\n",
      "117070    m\n",
      "117071    m\n",
      "117072    m\n",
      "117073    f\n",
      "117074    f\n",
      "Name: gender, Length: 117075, dtype: object\n"
     ]
    }
   ],
   "source": [
    "print(df['gender'].str.lower())"
   ]
  },
  {
   "cell_type": "markdown",
   "metadata": {
    "slideshow": {
     "slide_type": "subslide"
    }
   },
   "source": [
    "## apply()\n",
    "\n",
    "We can also apply a function to an entire `Series`. The most common case is casting a column to make sure every entry has the same data type."
   ]
  },
  {
   "cell_type": "code",
   "execution_count": 105,
   "metadata": {},
   "outputs": [
    {
     "data": {
      "text/plain": [
       "0    5.0\n",
       "1    5.0\n",
       "2    5.0\n",
       "3    5.0\n",
       "4    4.0\n",
       "5    5.0\n",
       "6    5.0\n",
       "7    5.0\n",
       "8    1.0\n",
       "9    4.0\n",
       "Name: score, dtype: float64"
      ]
     },
     "execution_count": 105,
     "metadata": {},
     "output_type": "execute_result"
    }
   ],
   "source": [
    "df['score'].apply(float)[:10]"
   ]
  },
  {
   "cell_type": "markdown",
   "metadata": {},
   "source": [
    "However, functions can be arbitraily complex: Let's write a simple function that sets the value according to our `age` `Series`."
   ]
  },
  {
   "cell_type": "code",
   "execution_count": 106,
   "metadata": {},
   "outputs": [
    {
     "data": {
      "text/html": [
       "<div>\n",
       "<style scoped>\n",
       "    .dataframe tbody tr th:only-of-type {\n",
       "        vertical-align: middle;\n",
       "    }\n",
       "\n",
       "    .dataframe tbody tr th {\n",
       "        vertical-align: top;\n",
       "    }\n",
       "\n",
       "    .dataframe thead th {\n",
       "        text-align: right;\n",
       "    }\n",
       "</style>\n",
       "<table border=\"1\" class=\"dataframe\">\n",
       "  <thead>\n",
       "    <tr style=\"text-align: right;\">\n",
       "      <th></th>\n",
       "      <th>index</th>\n",
       "      <th>score</th>\n",
       "      <th>category</th>\n",
       "      <th>uid</th>\n",
       "      <th>gender</th>\n",
       "      <th>age</th>\n",
       "      <th>text</th>\n",
       "      <th>ratio</th>\n",
       "      <th>has_price</th>\n",
       "      <th>status</th>\n",
       "    </tr>\n",
       "  </thead>\n",
       "  <tbody>\n",
       "    <tr>\n",
       "      <th>0</th>\n",
       "      <td>0</td>\n",
       "      <td>5</td>\n",
       "      <td>Car Rental</td>\n",
       "      <td>899881</td>\n",
       "      <td>F</td>\n",
       "      <td>50</td>\n",
       "      <td>Prices change daily and if you want to really ...</td>\n",
       "      <td>0.100000</td>\n",
       "      <td>True</td>\n",
       "      <td>not_retired</td>\n",
       "    </tr>\n",
       "    <tr>\n",
       "      <th>1</th>\n",
       "      <td>1</td>\n",
       "      <td>5</td>\n",
       "      <td>Fitness &amp; Nutrition</td>\n",
       "      <td>828184</td>\n",
       "      <td>M</td>\n",
       "      <td>32</td>\n",
       "      <td>and the fact that they will match other compan...</td>\n",
       "      <td>0.156250</td>\n",
       "      <td>False</td>\n",
       "      <td>not_retired</td>\n",
       "    </tr>\n",
       "    <tr>\n",
       "      <th>2</th>\n",
       "      <td>2</td>\n",
       "      <td>5</td>\n",
       "      <td>Electronic Payment</td>\n",
       "      <td>1698375</td>\n",
       "      <td>M</td>\n",
       "      <td>48</td>\n",
       "      <td>Used Paypal for my buying and selling for the ...</td>\n",
       "      <td>0.104167</td>\n",
       "      <td>False</td>\n",
       "      <td>not_retired</td>\n",
       "    </tr>\n",
       "    <tr>\n",
       "      <th>3</th>\n",
       "      <td>3</td>\n",
       "      <td>5</td>\n",
       "      <td>Gaming</td>\n",
       "      <td>3324079</td>\n",
       "      <td>M</td>\n",
       "      <td>29</td>\n",
       "      <td>I ' ve made two purchases on CJ ' s for Fallou...</td>\n",
       "      <td>0.172414</td>\n",
       "      <td>False</td>\n",
       "      <td>not_retired</td>\n",
       "    </tr>\n",
       "    <tr>\n",
       "      <th>4</th>\n",
       "      <td>4</td>\n",
       "      <td>4</td>\n",
       "      <td>Jewelry</td>\n",
       "      <td>719816</td>\n",
       "      <td>F</td>\n",
       "      <td>29</td>\n",
       "      <td>I was very happy with the diamond that I order...</td>\n",
       "      <td>0.137931</td>\n",
       "      <td>False</td>\n",
       "      <td>not_retired</td>\n",
       "    </tr>\n",
       "  </tbody>\n",
       "</table>\n",
       "</div>"
      ],
      "text/plain": [
       "   index  score             category      uid gender  age  \\\n",
       "0      0      5           Car Rental   899881      F   50   \n",
       "1      1      5  Fitness & Nutrition   828184      M   32   \n",
       "2      2      5   Electronic Payment  1698375      M   48   \n",
       "3      3      5               Gaming  3324079      M   29   \n",
       "4      4      4              Jewelry   719816      F   29   \n",
       "\n",
       "                                                text     ratio  has_price  \\\n",
       "0  Prices change daily and if you want to really ...  0.100000       True   \n",
       "1  and the fact that they will match other compan...  0.156250      False   \n",
       "2  Used Paypal for my buying and selling for the ...  0.104167      False   \n",
       "3  I ' ve made two purchases on CJ ' s for Fallou...  0.172414      False   \n",
       "4  I was very happy with the diamond that I order...  0.137931      False   \n",
       "\n",
       "        status  \n",
       "0  not_retired  \n",
       "1  not_retired  \n",
       "2  not_retired  \n",
       "3  not_retired  \n",
       "4  not_retired  "
      ]
     },
     "execution_count": 106,
     "metadata": {},
     "output_type": "execute_result"
    }
   ],
   "source": [
    "def f(x):\n",
    "    if x > 65:\n",
    "        return 'retired'\n",
    "    else:\n",
    "        return 'not_retired'\n",
    "    \n",
    "df_no_nan['status'] = df_no_nan.age.copy().apply(f)\n",
    "df_no_nan.head()"
   ]
  },
  {
   "cell_type": "markdown",
   "metadata": {
    "slideshow": {
     "slide_type": "subslide"
    }
   },
   "source": [
    "## Rows\n",
    "\n",
    "Retrieving a row is also possible, but uses a different method, `iloc` (for **i**nteger **loc**ation), and the index of the row."
   ]
  },
  {
   "cell_type": "code",
   "execution_count": 44,
   "metadata": {},
   "outputs": [
    {
     "data": {
      "text/plain": [
       "index                                                       2\n",
       "score                                                       5\n",
       "category                                   Electronic Payment\n",
       "uid                                                   1698375\n",
       "gender                                                      M\n",
       "age                                                        48\n",
       "text        Used Paypal for my buying and selling for the ...\n",
       "Name: 2, dtype: object"
      ]
     },
     "execution_count": 44,
     "metadata": {},
     "output_type": "execute_result"
    }
   ],
   "source": [
    "df.iloc[2]"
   ]
  },
  {
   "cell_type": "markdown",
   "metadata": {
    "slideshow": {
     "slide_type": "subslide"
    }
   },
   "source": [
    "As with lists, you can also use slices, and even lists of integers:"
   ]
  },
  {
   "cell_type": "code",
   "execution_count": 48,
   "metadata": {},
   "outputs": [
    {
     "name": "stdout",
     "output_type": "stream",
     "text": [
      "2    Used Paypal for my buying and selling for the ...\n",
      "3    I ' ve made two purchases on CJ ' s for Fallou...\n",
      "Name: text, dtype: object\n",
      "\n",
      "1     and the fact that they will match other compan...\n",
      "1     and the fact that they will match other compan...\n",
      "5     I signed up with front point security 0 months...\n",
      "11    Everything about this site is pleasing , from ...\n",
      "Name: text, dtype: object\n"
     ]
    }
   ],
   "source": [
    "print(df.text.iloc[2:4])\n",
    "print()\n",
    "print(df.text.iloc[[1,1,5,11]])"
   ]
  },
  {
   "cell_type": "markdown",
   "metadata": {
    "slideshow": {
     "slide_type": "subslide"
    }
   },
   "source": [
    "## Masks\n",
    "\n",
    "Say we want to remove all ratios below a certain threshold.\n",
    "\n",
    "In dataframes, we can select all the data that matches a certain condition, similar to an SQL table. We can do that with a simple boolean statement. The result is a `Series` object with boolean values, also called a **mask**:"
   ]
  },
  {
   "cell_type": "code",
   "execution_count": 56,
   "metadata": {},
   "outputs": [
    {
     "name": "stdout",
     "output_type": "stream",
     "text": [
      "0    False\n",
      "1    False\n",
      "2    False\n",
      "3    False\n",
      "4    False\n",
      "Name: ratio, dtype: bool\n",
      "<class 'pandas.core.series.Series'>\n"
     ]
    }
   ],
   "source": [
    "too_low = df['ratio'] < 0.1\n",
    "print(too_low.head())\n",
    "print(type(too_low))"
   ]
  },
  {
   "cell_type": "markdown",
   "metadata": {
    "slideshow": {
     "slide_type": "subslide"
    }
   },
   "source": [
    "## Activity\n",
    "\n",
    "* add another, boolean, column to `df`, that signals whether the entry contains the word `price`. Call the new column `has_price`"
   ]
  },
  {
   "cell_type": "code",
   "execution_count": 63,
   "metadata": {
    "scrolled": false
   },
   "outputs": [],
   "source": [
    "# your code here\n",
    "df['has_price'] = df['text'].str.contains('price')"
   ]
  },
  {
   "cell_type": "markdown",
   "metadata": {
    "slideshow": {
     "slide_type": "subslide"
    }
   },
   "source": [
    "We can combine several conditions with the `&` or `|` operators."
   ]
  },
  {
   "cell_type": "code",
   "execution_count": 65,
   "metadata": {},
   "outputs": [
    {
     "name": "stdout",
     "output_type": "stream",
     "text": [
      "117075 47952 34144\n"
     ]
    }
   ],
   "source": [
    "over50 = df.age >= 50\n",
    "\n",
    "print(len(df), len(df[too_low | over50]), len(df[too_low & over50]))"
   ]
  },
  {
   "cell_type": "markdown",
   "metadata": {
    "slideshow": {
     "slide_type": "subslide"
    }
   },
   "source": [
    "If we apply this mask to our DataFrame, we get *only* the rows where the condition is `True`"
   ]
  },
  {
   "cell_type": "code",
   "execution_count": 69,
   "metadata": {},
   "outputs": [
    {
     "data": {
      "text/html": [
       "<div>\n",
       "<style scoped>\n",
       "    .dataframe tbody tr th:only-of-type {\n",
       "        vertical-align: middle;\n",
       "    }\n",
       "\n",
       "    .dataframe tbody tr th {\n",
       "        vertical-align: top;\n",
       "    }\n",
       "\n",
       "    .dataframe thead th {\n",
       "        text-align: right;\n",
       "    }\n",
       "</style>\n",
       "<table border=\"1\" class=\"dataframe\">\n",
       "  <thead>\n",
       "    <tr style=\"text-align: right;\">\n",
       "      <th></th>\n",
       "      <th>index</th>\n",
       "      <th>score</th>\n",
       "      <th>category</th>\n",
       "      <th>uid</th>\n",
       "      <th>gender</th>\n",
       "      <th>age</th>\n",
       "      <th>text</th>\n",
       "      <th>ratio</th>\n",
       "      <th>has_price</th>\n",
       "    </tr>\n",
       "  </thead>\n",
       "  <tbody>\n",
       "    <tr>\n",
       "      <th>6</th>\n",
       "      <td>6</td>\n",
       "      <td>5</td>\n",
       "      <td>Electronics</td>\n",
       "      <td>6929926</td>\n",
       "      <td>M</td>\n",
       "      <td>69</td>\n",
       "      <td>First off I usually never get extended warrant...</td>\n",
       "      <td>0.072464</td>\n",
       "      <td>False</td>\n",
       "    </tr>\n",
       "    <tr>\n",
       "      <th>66</th>\n",
       "      <td>66</td>\n",
       "      <td>5</td>\n",
       "      <td>Camping</td>\n",
       "      <td>2635242</td>\n",
       "      <td>M</td>\n",
       "      <td>51</td>\n",
       "      <td>Easy website to navigate , great prices , clea...</td>\n",
       "      <td>0.098039</td>\n",
       "      <td>True</td>\n",
       "    </tr>\n",
       "  </tbody>\n",
       "</table>\n",
       "</div>"
      ],
      "text/plain": [
       "    index  score     category      uid gender  age  \\\n",
       "6       6      5  Electronics  6929926      M   69   \n",
       "66     66      5      Camping  2635242      M   51   \n",
       "\n",
       "                                                 text     ratio  has_price  \n",
       "6   First off I usually never get extended warrant...  0.072464      False  \n",
       "66  Easy website to navigate , great prices , clea...  0.098039       True  "
      ]
     },
     "execution_count": 69,
     "metadata": {},
     "output_type": "execute_result"
    }
   ],
   "source": [
    "df[too_low & over50].iloc[[1, 10]]"
   ]
  },
  {
   "cell_type": "markdown",
   "metadata": {
    "slideshow": {
     "slide_type": "subslide"
    }
   },
   "source": [
    "The value for `ratio`, `NaN`, stands for  \"**N**ot **a** **N**umber\". Luckily, we can replace that value with `fillna()`"
   ]
  },
  {
   "cell_type": "code",
   "execution_count": 77,
   "metadata": {},
   "outputs": [
    {
     "data": {
      "text/html": [
       "<div>\n",
       "<style scoped>\n",
       "    .dataframe tbody tr th:only-of-type {\n",
       "        vertical-align: middle;\n",
       "    }\n",
       "\n",
       "    .dataframe tbody tr th {\n",
       "        vertical-align: top;\n",
       "    }\n",
       "\n",
       "    .dataframe thead th {\n",
       "        text-align: right;\n",
       "    }\n",
       "</style>\n",
       "<table border=\"1\" class=\"dataframe\">\n",
       "  <thead>\n",
       "    <tr style=\"text-align: right;\">\n",
       "      <th></th>\n",
       "      <th>index</th>\n",
       "      <th>score</th>\n",
       "      <th>category</th>\n",
       "      <th>uid</th>\n",
       "      <th>gender</th>\n",
       "      <th>age</th>\n",
       "      <th>text</th>\n",
       "      <th>ratio</th>\n",
       "      <th>has_price</th>\n",
       "    </tr>\n",
       "  </thead>\n",
       "  <tbody>\n",
       "    <tr>\n",
       "      <th>0</th>\n",
       "      <td>0</td>\n",
       "      <td>5</td>\n",
       "      <td>Car Rental</td>\n",
       "      <td>899881</td>\n",
       "      <td>F</td>\n",
       "      <td>50</td>\n",
       "      <td>Prices change daily and if you want to really ...</td>\n",
       "      <td>0.100000</td>\n",
       "      <td>True</td>\n",
       "    </tr>\n",
       "    <tr>\n",
       "      <th>1</th>\n",
       "      <td>1</td>\n",
       "      <td>5</td>\n",
       "      <td>Fitness &amp; Nutrition</td>\n",
       "      <td>828184</td>\n",
       "      <td>M</td>\n",
       "      <td>32</td>\n",
       "      <td>and the fact that they will match other compan...</td>\n",
       "      <td>0.156250</td>\n",
       "      <td>False</td>\n",
       "    </tr>\n",
       "    <tr>\n",
       "      <th>2</th>\n",
       "      <td>2</td>\n",
       "      <td>5</td>\n",
       "      <td>Electronic Payment</td>\n",
       "      <td>1698375</td>\n",
       "      <td>M</td>\n",
       "      <td>48</td>\n",
       "      <td>Used Paypal for my buying and selling for the ...</td>\n",
       "      <td>0.104167</td>\n",
       "      <td>False</td>\n",
       "    </tr>\n",
       "    <tr>\n",
       "      <th>3</th>\n",
       "      <td>3</td>\n",
       "      <td>5</td>\n",
       "      <td>Gaming</td>\n",
       "      <td>3324079</td>\n",
       "      <td>M</td>\n",
       "      <td>29</td>\n",
       "      <td>I ' ve made two purchases on CJ ' s for Fallou...</td>\n",
       "      <td>0.172414</td>\n",
       "      <td>False</td>\n",
       "    </tr>\n",
       "    <tr>\n",
       "      <th>4</th>\n",
       "      <td>4</td>\n",
       "      <td>4</td>\n",
       "      <td>Jewelry</td>\n",
       "      <td>719816</td>\n",
       "      <td>F</td>\n",
       "      <td>29</td>\n",
       "      <td>I was very happy with the diamond that I order...</td>\n",
       "      <td>0.137931</td>\n",
       "      <td>False</td>\n",
       "    </tr>\n",
       "    <tr>\n",
       "      <th>5</th>\n",
       "      <td>5</td>\n",
       "      <td>5</td>\n",
       "      <td>Security Equipment</td>\n",
       "      <td>5630105</td>\n",
       "      <td>F</td>\n",
       "      <td>66</td>\n",
       "      <td>I signed up with front point security 0 months...</td>\n",
       "      <td>0.075758</td>\n",
       "      <td>False</td>\n",
       "    </tr>\n",
       "    <tr>\n",
       "      <th>6</th>\n",
       "      <td>6</td>\n",
       "      <td>5</td>\n",
       "      <td>Electronics</td>\n",
       "      <td>6929926</td>\n",
       "      <td>M</td>\n",
       "      <td>69</td>\n",
       "      <td>First off I usually never get extended warrant...</td>\n",
       "      <td>0.072464</td>\n",
       "      <td>False</td>\n",
       "    </tr>\n",
       "    <tr>\n",
       "      <th>7</th>\n",
       "      <td>7</td>\n",
       "      <td>5</td>\n",
       "      <td>Gaming</td>\n",
       "      <td>2364273</td>\n",
       "      <td>M</td>\n",
       "      <td>20</td>\n",
       "      <td>The games come , no worries , they are reputab...</td>\n",
       "      <td>0.250000</td>\n",
       "      <td>False</td>\n",
       "    </tr>\n",
       "    <tr>\n",
       "      <th>8</th>\n",
       "      <td>8</td>\n",
       "      <td>1</td>\n",
       "      <td>Media &amp; Marketing</td>\n",
       "      <td>2561769</td>\n",
       "      <td>F</td>\n",
       "      <td>32</td>\n",
       "      <td>We worked hard to send out email invitations f...</td>\n",
       "      <td>0.031250</td>\n",
       "      <td>False</td>\n",
       "    </tr>\n",
       "    <tr>\n",
       "      <th>9</th>\n",
       "      <td>9</td>\n",
       "      <td>4</td>\n",
       "      <td>Shoes</td>\n",
       "      <td>2561769</td>\n",
       "      <td>F</td>\n",
       "      <td>32</td>\n",
       "      <td>I am in love with all the free movies and show...</td>\n",
       "      <td>0.125000</td>\n",
       "      <td>False</td>\n",
       "    </tr>\n",
       "    <tr>\n",
       "      <th>10</th>\n",
       "      <td>10</td>\n",
       "      <td>1</td>\n",
       "      <td>Fashion Accessories</td>\n",
       "      <td>1151566</td>\n",
       "      <td>F</td>\n",
       "      <td>49</td>\n",
       "      <td>I ordered two pieces for a halloween party in ...</td>\n",
       "      <td>0.020408</td>\n",
       "      <td>False</td>\n",
       "    </tr>\n",
       "    <tr>\n",
       "      <th>11</th>\n",
       "      <td>11</td>\n",
       "      <td>5</td>\n",
       "      <td>Fashion Accessories</td>\n",
       "      <td>6169156</td>\n",
       "      <td>F</td>\n",
       "      <td>28</td>\n",
       "      <td>Everything about this site is pleasing , from ...</td>\n",
       "      <td>0.178571</td>\n",
       "      <td>True</td>\n",
       "    </tr>\n",
       "    <tr>\n",
       "      <th>12</th>\n",
       "      <td>12</td>\n",
       "      <td>5</td>\n",
       "      <td>Electronics</td>\n",
       "      <td>7024007</td>\n",
       "      <td>F</td>\n",
       "      <td>55</td>\n",
       "      <td>As soon as you make your claim , they are on i...</td>\n",
       "      <td>0.090909</td>\n",
       "      <td>False</td>\n",
       "    </tr>\n",
       "    <tr>\n",
       "      <th>13</th>\n",
       "      <td>13</td>\n",
       "      <td>5</td>\n",
       "      <td>Fitness &amp; Nutrition</td>\n",
       "      <td>581168</td>\n",
       "      <td>M</td>\n",
       "      <td>28</td>\n",
       "      <td>Excellent service , I have only found a cheape...</td>\n",
       "      <td>0.178571</td>\n",
       "      <td>True</td>\n",
       "    </tr>\n",
       "    <tr>\n",
       "      <th>14</th>\n",
       "      <td>14</td>\n",
       "      <td>5</td>\n",
       "      <td>Review Sites</td>\n",
       "      <td>4790738</td>\n",
       "      <td>F</td>\n",
       "      <td>65</td>\n",
       "      <td>I always appreciate a dealer that takes the ti...</td>\n",
       "      <td>0.076923</td>\n",
       "      <td>False</td>\n",
       "    </tr>\n",
       "    <tr>\n",
       "      <th>15</th>\n",
       "      <td>15</td>\n",
       "      <td>4</td>\n",
       "      <td>Fitness &amp; Nutrition</td>\n",
       "      <td>1439642</td>\n",
       "      <td>M</td>\n",
       "      <td>28</td>\n",
       "      <td>I ' ve used Supplement Warehouse several times...</td>\n",
       "      <td>0.142857</td>\n",
       "      <td>False</td>\n",
       "    </tr>\n",
       "    <tr>\n",
       "      <th>16</th>\n",
       "      <td>16</td>\n",
       "      <td>5</td>\n",
       "      <td>Fitness &amp; Nutrition</td>\n",
       "      <td>929946</td>\n",
       "      <td>F</td>\n",
       "      <td>49</td>\n",
       "      <td>Prices are way better than GNC even with shipp...</td>\n",
       "      <td>0.102041</td>\n",
       "      <td>False</td>\n",
       "    </tr>\n",
       "    <tr>\n",
       "      <th>17</th>\n",
       "      <td>17</td>\n",
       "      <td>5</td>\n",
       "      <td>Online Marketplace</td>\n",
       "      <td>4428594</td>\n",
       "      <td>M</td>\n",
       "      <td>26</td>\n",
       "      <td>the service was 0nd to non and the fact that y...</td>\n",
       "      <td>0.192308</td>\n",
       "      <td>False</td>\n",
       "    </tr>\n",
       "    <tr>\n",
       "      <th>18</th>\n",
       "      <td>18</td>\n",
       "      <td>5</td>\n",
       "      <td>Flights</td>\n",
       "      <td>2282006</td>\n",
       "      <td>F</td>\n",
       "      <td>38</td>\n",
       "      <td>We ' ve used Priceline probably 0 times for ho...</td>\n",
       "      <td>0.131579</td>\n",
       "      <td>False</td>\n",
       "    </tr>\n",
       "    <tr>\n",
       "      <th>19</th>\n",
       "      <td>19</td>\n",
       "      <td>5</td>\n",
       "      <td>Contact Lenses</td>\n",
       "      <td>3711500</td>\n",
       "      <td>F</td>\n",
       "      <td>39</td>\n",
       "      <td>I have used the website twice now to order my ...</td>\n",
       "      <td>0.128205</td>\n",
       "      <td>True</td>\n",
       "    </tr>\n",
       "    <tr>\n",
       "      <th>20</th>\n",
       "      <td>20</td>\n",
       "      <td>5</td>\n",
       "      <td>Online Marketplace</td>\n",
       "      <td>3956223</td>\n",
       "      <td>M</td>\n",
       "      <td>59</td>\n",
       "      <td>when i buy something from lightinthebox i alwa...</td>\n",
       "      <td>0.084746</td>\n",
       "      <td>False</td>\n",
       "    </tr>\n",
       "    <tr>\n",
       "      <th>21</th>\n",
       "      <td>21</td>\n",
       "      <td>5</td>\n",
       "      <td>Gaming</td>\n",
       "      <td>2959406</td>\n",
       "      <td>F</td>\n",
       "      <td>51</td>\n",
       "      <td>Purchased 00 days WoW gametime , received my c...</td>\n",
       "      <td>0.098039</td>\n",
       "      <td>False</td>\n",
       "    </tr>\n",
       "    <tr>\n",
       "      <th>22</th>\n",
       "      <td>22</td>\n",
       "      <td>4</td>\n",
       "      <td>Jewelry</td>\n",
       "      <td>3492551</td>\n",
       "      <td>M</td>\n",
       "      <td>33</td>\n",
       "      <td>No hassle easy way to buy a diamond if you do ...</td>\n",
       "      <td>0.121212</td>\n",
       "      <td>False</td>\n",
       "    </tr>\n",
       "    <tr>\n",
       "      <th>23</th>\n",
       "      <td>23</td>\n",
       "      <td>5</td>\n",
       "      <td>Gaming</td>\n",
       "      <td>1407823</td>\n",
       "      <td>M</td>\n",
       "      <td>28</td>\n",
       "      <td>fantastic website , i ' ve bought 0 games from...</td>\n",
       "      <td>0.178571</td>\n",
       "      <td>False</td>\n",
       "    </tr>\n",
       "    <tr>\n",
       "      <th>24</th>\n",
       "      <td>24</td>\n",
       "      <td>5</td>\n",
       "      <td>Bedroom</td>\n",
       "      <td>3616543</td>\n",
       "      <td>M</td>\n",
       "      <td>20</td>\n",
       "      <td>In my opinion the shop was very nice and clean...</td>\n",
       "      <td>0.250000</td>\n",
       "      <td>False</td>\n",
       "    </tr>\n",
       "    <tr>\n",
       "      <th>25</th>\n",
       "      <td>25</td>\n",
       "      <td>1</td>\n",
       "      <td>Fashion Accessories</td>\n",
       "      <td>2629968</td>\n",
       "      <td>F</td>\n",
       "      <td>27</td>\n",
       "      <td>Since August 0000 i bought 0 bags for 0 . 000 ...</td>\n",
       "      <td>0.037037</td>\n",
       "      <td>False</td>\n",
       "    </tr>\n",
       "    <tr>\n",
       "      <th>26</th>\n",
       "      <td>26</td>\n",
       "      <td>5</td>\n",
       "      <td>Fitness &amp; Nutrition</td>\n",
       "      <td>828951</td>\n",
       "      <td>F</td>\n",
       "      <td>38</td>\n",
       "      <td>Using the 0 % off price match tool is addictive !</td>\n",
       "      <td>0.131579</td>\n",
       "      <td>True</td>\n",
       "    </tr>\n",
       "    <tr>\n",
       "      <th>27</th>\n",
       "      <td>27</td>\n",
       "      <td>5</td>\n",
       "      <td>Skincare</td>\n",
       "      <td>7933092</td>\n",
       "      <td>F</td>\n",
       "      <td>32</td>\n",
       "      <td>I cannot do without my EltaMD UV SPF 00 Tinted...</td>\n",
       "      <td>0.156250</td>\n",
       "      <td>False</td>\n",
       "    </tr>\n",
       "    <tr>\n",
       "      <th>28</th>\n",
       "      <td>28</td>\n",
       "      <td>4</td>\n",
       "      <td>Fitness &amp; Nutrition</td>\n",
       "      <td>939767</td>\n",
       "      <td>M</td>\n",
       "      <td>68</td>\n",
       "      <td>Easy to navigate the website , and lots of fre...</td>\n",
       "      <td>0.058824</td>\n",
       "      <td>True</td>\n",
       "    </tr>\n",
       "    <tr>\n",
       "      <th>29</th>\n",
       "      <td>29</td>\n",
       "      <td>2</td>\n",
       "      <td>Fashion Accessories</td>\n",
       "      <td>1342209</td>\n",
       "      <td>F</td>\n",
       "      <td>23</td>\n",
       "      <td>For those of you who have had bad experience w...</td>\n",
       "      <td>0.086957</td>\n",
       "      <td>False</td>\n",
       "    </tr>\n",
       "    <tr>\n",
       "      <th>...</th>\n",
       "      <td>...</td>\n",
       "      <td>...</td>\n",
       "      <td>...</td>\n",
       "      <td>...</td>\n",
       "      <td>...</td>\n",
       "      <td>...</td>\n",
       "      <td>...</td>\n",
       "      <td>...</td>\n",
       "      <td>...</td>\n",
       "    </tr>\n",
       "    <tr>\n",
       "      <th>117045</th>\n",
       "      <td>117045</td>\n",
       "      <td>4</td>\n",
       "      <td>Leisure</td>\n",
       "      <td>3618993</td>\n",
       "      <td>M</td>\n",
       "      <td>27</td>\n",
       "      <td>The website itself is a poor experience - does...</td>\n",
       "      <td>0.148148</td>\n",
       "      <td>False</td>\n",
       "    </tr>\n",
       "    <tr>\n",
       "      <th>117046</th>\n",
       "      <td>117046</td>\n",
       "      <td>5</td>\n",
       "      <td>Career &amp; Education</td>\n",
       "      <td>8284882</td>\n",
       "      <td>F</td>\n",
       "      <td>36</td>\n",
       "      <td>The course material got right to the point on ...</td>\n",
       "      <td>0.138889</td>\n",
       "      <td>False</td>\n",
       "    </tr>\n",
       "    <tr>\n",
       "      <th>117047</th>\n",
       "      <td>117047</td>\n",
       "      <td>5</td>\n",
       "      <td>Pets</td>\n",
       "      <td>887264</td>\n",
       "      <td>F</td>\n",
       "      <td>42</td>\n",
       "      <td>I ' ve found Viovet to be competitively priced...</td>\n",
       "      <td>0.119048</td>\n",
       "      <td>True</td>\n",
       "    </tr>\n",
       "    <tr>\n",
       "      <th>117048</th>\n",
       "      <td>117048</td>\n",
       "      <td>5</td>\n",
       "      <td>Career &amp; Education</td>\n",
       "      <td>5450205</td>\n",
       "      <td>M</td>\n",
       "      <td>29</td>\n",
       "      <td>Everyone have to try this because this softwar...</td>\n",
       "      <td>0.172414</td>\n",
       "      <td>False</td>\n",
       "    </tr>\n",
       "    <tr>\n",
       "      <th>117049</th>\n",
       "      <td>117049</td>\n",
       "      <td>1</td>\n",
       "      <td>Flowers</td>\n",
       "      <td>6554901</td>\n",
       "      <td>M</td>\n",
       "      <td>34</td>\n",
       "      <td>It was nearly 0pm on valentines day and still ...</td>\n",
       "      <td>0.029412</td>\n",
       "      <td>True</td>\n",
       "    </tr>\n",
       "    <tr>\n",
       "      <th>117050</th>\n",
       "      <td>117050</td>\n",
       "      <td>5</td>\n",
       "      <td>Conference Call</td>\n",
       "      <td>1461230</td>\n",
       "      <td>F</td>\n",
       "      <td>62</td>\n",
       "      <td>On an extended trip abroad and having elderly ...</td>\n",
       "      <td>0.080645</td>\n",
       "      <td>True</td>\n",
       "    </tr>\n",
       "    <tr>\n",
       "      <th>117051</th>\n",
       "      <td>117051</td>\n",
       "      <td>5</td>\n",
       "      <td>Fashion Accessories</td>\n",
       "      <td>1461230</td>\n",
       "      <td>F</td>\n",
       "      <td>62</td>\n",
       "      <td>I have just received my delivery of 0 pair of ...</td>\n",
       "      <td>0.080645</td>\n",
       "      <td>False</td>\n",
       "    </tr>\n",
       "    <tr>\n",
       "      <th>117052</th>\n",
       "      <td>117052</td>\n",
       "      <td>5</td>\n",
       "      <td>Computer &amp; Accessories</td>\n",
       "      <td>2150735</td>\n",
       "      <td>M</td>\n",
       "      <td>68</td>\n",
       "      <td>I did a scan on mt friend ' s pc using Belarc ...</td>\n",
       "      <td>0.073529</td>\n",
       "      <td>True</td>\n",
       "    </tr>\n",
       "    <tr>\n",
       "      <th>117053</th>\n",
       "      <td>117053</td>\n",
       "      <td>1</td>\n",
       "      <td>Flowers</td>\n",
       "      <td>7051543</td>\n",
       "      <td>M</td>\n",
       "      <td>39</td>\n",
       "      <td>got a email stating they would be delivered on...</td>\n",
       "      <td>0.025641</td>\n",
       "      <td>False</td>\n",
       "    </tr>\n",
       "    <tr>\n",
       "      <th>117054</th>\n",
       "      <td>117054</td>\n",
       "      <td>5</td>\n",
       "      <td>Package Service</td>\n",
       "      <td>5540344</td>\n",
       "      <td>M</td>\n",
       "      <td>27</td>\n",
       "      <td>great service answer my all questions and I am...</td>\n",
       "      <td>0.185185</td>\n",
       "      <td>False</td>\n",
       "    </tr>\n",
       "    <tr>\n",
       "      <th>117055</th>\n",
       "      <td>117055</td>\n",
       "      <td>5</td>\n",
       "      <td>Ink Cartridges</td>\n",
       "      <td>557765</td>\n",
       "      <td>M</td>\n",
       "      <td>63</td>\n",
       "      <td>Items always in stock , &amp; despatched very quic...</td>\n",
       "      <td>0.079365</td>\n",
       "      <td>False</td>\n",
       "    </tr>\n",
       "    <tr>\n",
       "      <th>117056</th>\n",
       "      <td>117056</td>\n",
       "      <td>5</td>\n",
       "      <td>Ink Cartridges</td>\n",
       "      <td>557766</td>\n",
       "      <td>M</td>\n",
       "      <td>43</td>\n",
       "      <td>Didn ' t have original printer in stock but of...</td>\n",
       "      <td>0.116279</td>\n",
       "      <td>False</td>\n",
       "    </tr>\n",
       "    <tr>\n",
       "      <th>117057</th>\n",
       "      <td>117057</td>\n",
       "      <td>4</td>\n",
       "      <td>Cell Phone Unlocking</td>\n",
       "      <td>2716028</td>\n",
       "      <td>M</td>\n",
       "      <td>34</td>\n",
       "      <td>it was my first time to ask about unlock throu...</td>\n",
       "      <td>0.117647</td>\n",
       "      <td>False</td>\n",
       "    </tr>\n",
       "    <tr>\n",
       "      <th>117058</th>\n",
       "      <td>117058</td>\n",
       "      <td>4</td>\n",
       "      <td>Drugs &amp; Pharmacy</td>\n",
       "      <td>4363162</td>\n",
       "      <td>F</td>\n",
       "      <td>33</td>\n",
       "      <td>Good choice of items plus free delivery which ...</td>\n",
       "      <td>0.121212</td>\n",
       "      <td>False</td>\n",
       "    </tr>\n",
       "    <tr>\n",
       "      <th>117059</th>\n",
       "      <td>117059</td>\n",
       "      <td>5</td>\n",
       "      <td>Hotels</td>\n",
       "      <td>2165717</td>\n",
       "      <td>F</td>\n",
       "      <td>23</td>\n",
       "      <td>I have been using hostelbookers . com for year...</td>\n",
       "      <td>0.217391</td>\n",
       "      <td>False</td>\n",
       "    </tr>\n",
       "    <tr>\n",
       "      <th>117060</th>\n",
       "      <td>117060</td>\n",
       "      <td>4</td>\n",
       "      <td>Motorcycle Equipment &amp; Accessories</td>\n",
       "      <td>671979</td>\n",
       "      <td>M</td>\n",
       "      <td>67</td>\n",
       "      <td>Agreed postage is a tad high , I used to visit...</td>\n",
       "      <td>0.059701</td>\n",
       "      <td>False</td>\n",
       "    </tr>\n",
       "    <tr>\n",
       "      <th>117061</th>\n",
       "      <td>117061</td>\n",
       "      <td>5</td>\n",
       "      <td>Flowers</td>\n",
       "      <td>5684697</td>\n",
       "      <td>F</td>\n",
       "      <td>50</td>\n",
       "      <td>it was very easy to place my order , i was kep...</td>\n",
       "      <td>0.100000</td>\n",
       "      <td>False</td>\n",
       "    </tr>\n",
       "    <tr>\n",
       "      <th>117062</th>\n",
       "      <td>117062</td>\n",
       "      <td>5</td>\n",
       "      <td>Event Organizer</td>\n",
       "      <td>5440444</td>\n",
       "      <td>F</td>\n",
       "      <td>31</td>\n",
       "      <td>I need to thank my bridesmaid and Funktion for...</td>\n",
       "      <td>0.161290</td>\n",
       "      <td>True</td>\n",
       "    </tr>\n",
       "    <tr>\n",
       "      <th>117063</th>\n",
       "      <td>117063</td>\n",
       "      <td>5</td>\n",
       "      <td>Online Marketplace</td>\n",
       "      <td>469709</td>\n",
       "      <td>F</td>\n",
       "      <td>63</td>\n",
       "      <td>Whatever I want I just check Amazon , brillian...</td>\n",
       "      <td>0.079365</td>\n",
       "      <td>True</td>\n",
       "    </tr>\n",
       "    <tr>\n",
       "      <th>117064</th>\n",
       "      <td>117064</td>\n",
       "      <td>5</td>\n",
       "      <td>Cell phone Recycling</td>\n",
       "      <td>2194097</td>\n",
       "      <td>M</td>\n",
       "      <td>48</td>\n",
       "      <td>Very fast and reliable service , don ' waste y...</td>\n",
       "      <td>0.104167</td>\n",
       "      <td>False</td>\n",
       "    </tr>\n",
       "    <tr>\n",
       "      <th>117065</th>\n",
       "      <td>117065</td>\n",
       "      <td>5</td>\n",
       "      <td>Tires</td>\n",
       "      <td>4620409</td>\n",
       "      <td>M</td>\n",
       "      <td>28</td>\n",
       "      <td>I have been using national tyres for a few yea...</td>\n",
       "      <td>0.178571</td>\n",
       "      <td>False</td>\n",
       "    </tr>\n",
       "    <tr>\n",
       "      <th>117066</th>\n",
       "      <td>117066</td>\n",
       "      <td>5</td>\n",
       "      <td>Domestic Appliances</td>\n",
       "      <td>1351873</td>\n",
       "      <td>M</td>\n",
       "      <td>58</td>\n",
       "      <td>We found the website easy to browse to find th...</td>\n",
       "      <td>0.086207</td>\n",
       "      <td>False</td>\n",
       "    </tr>\n",
       "    <tr>\n",
       "      <th>117067</th>\n",
       "      <td>117067</td>\n",
       "      <td>5</td>\n",
       "      <td>Batteries &amp; Power Supply</td>\n",
       "      <td>1351873</td>\n",
       "      <td>M</td>\n",
       "      <td>56</td>\n",
       "      <td>Whenever I require batteries , battery Force i...</td>\n",
       "      <td>0.089286</td>\n",
       "      <td>False</td>\n",
       "    </tr>\n",
       "    <tr>\n",
       "      <th>117068</th>\n",
       "      <td>117068</td>\n",
       "      <td>1</td>\n",
       "      <td>Electricity</td>\n",
       "      <td>1351879</td>\n",
       "      <td>M</td>\n",
       "      <td>26</td>\n",
       "      <td>Moved into a new property and after a previous...</td>\n",
       "      <td>0.038462</td>\n",
       "      <td>False</td>\n",
       "    </tr>\n",
       "    <tr>\n",
       "      <th>117069</th>\n",
       "      <td>117069</td>\n",
       "      <td>5</td>\n",
       "      <td>Gaming</td>\n",
       "      <td>7402181</td>\n",
       "      <td>M</td>\n",
       "      <td>20</td>\n",
       "      <td>Found Arma 0 for the cheapest here , don ' t u...</td>\n",
       "      <td>0.250000</td>\n",
       "      <td>False</td>\n",
       "    </tr>\n",
       "    <tr>\n",
       "      <th>117070</th>\n",
       "      <td>117070</td>\n",
       "      <td>2</td>\n",
       "      <td>Bathroom</td>\n",
       "      <td>7854275</td>\n",
       "      <td>M</td>\n",
       "      <td>57</td>\n",
       "      <td>Ordered a basin waste ten days ago with a deli...</td>\n",
       "      <td>0.035088</td>\n",
       "      <td>False</td>\n",
       "    </tr>\n",
       "    <tr>\n",
       "      <th>117071</th>\n",
       "      <td>117071</td>\n",
       "      <td>1</td>\n",
       "      <td>Hospital Equipment</td>\n",
       "      <td>8241333</td>\n",
       "      <td>M</td>\n",
       "      <td>37</td>\n",
       "      <td>I bought a mobility scooter for my elderly mot...</td>\n",
       "      <td>0.027027</td>\n",
       "      <td>False</td>\n",
       "    </tr>\n",
       "    <tr>\n",
       "      <th>117072</th>\n",
       "      <td>117072</td>\n",
       "      <td>5</td>\n",
       "      <td>Domestic Appliances</td>\n",
       "      <td>2686431</td>\n",
       "      <td>M</td>\n",
       "      <td>32</td>\n",
       "      <td>Very nice clear website , good prices and fast...</td>\n",
       "      <td>0.156250</td>\n",
       "      <td>True</td>\n",
       "    </tr>\n",
       "    <tr>\n",
       "      <th>117073</th>\n",
       "      <td>117073</td>\n",
       "      <td>5</td>\n",
       "      <td>Fragrances</td>\n",
       "      <td>2365806</td>\n",
       "      <td>F</td>\n",
       "      <td>56</td>\n",
       "      <td>Good Prices , easy to use website , quick deli...</td>\n",
       "      <td>0.089286</td>\n",
       "      <td>False</td>\n",
       "    </tr>\n",
       "    <tr>\n",
       "      <th>117074</th>\n",
       "      <td>117074</td>\n",
       "      <td>5</td>\n",
       "      <td>Hotels</td>\n",
       "      <td>2365806</td>\n",
       "      <td>F</td>\n",
       "      <td>55</td>\n",
       "      <td>Booked London Hotel from hidden gems - Doublet...</td>\n",
       "      <td>0.090909</td>\n",
       "      <td>True</td>\n",
       "    </tr>\n",
       "  </tbody>\n",
       "</table>\n",
       "<p>117075 rows × 9 columns</p>\n",
       "</div>"
      ],
      "text/plain": [
       "         index  score                            category      uid gender  \\\n",
       "0            0      5                          Car Rental   899881      F   \n",
       "1            1      5                 Fitness & Nutrition   828184      M   \n",
       "2            2      5                  Electronic Payment  1698375      M   \n",
       "3            3      5                              Gaming  3324079      M   \n",
       "4            4      4                             Jewelry   719816      F   \n",
       "5            5      5                  Security Equipment  5630105      F   \n",
       "6            6      5                         Electronics  6929926      M   \n",
       "7            7      5                              Gaming  2364273      M   \n",
       "8            8      1                   Media & Marketing  2561769      F   \n",
       "9            9      4                               Shoes  2561769      F   \n",
       "10          10      1                 Fashion Accessories  1151566      F   \n",
       "11          11      5                 Fashion Accessories  6169156      F   \n",
       "12          12      5                         Electronics  7024007      F   \n",
       "13          13      5                 Fitness & Nutrition   581168      M   \n",
       "14          14      5                        Review Sites  4790738      F   \n",
       "15          15      4                 Fitness & Nutrition  1439642      M   \n",
       "16          16      5                 Fitness & Nutrition   929946      F   \n",
       "17          17      5                  Online Marketplace  4428594      M   \n",
       "18          18      5                             Flights  2282006      F   \n",
       "19          19      5                      Contact Lenses  3711500      F   \n",
       "20          20      5                  Online Marketplace  3956223      M   \n",
       "21          21      5                              Gaming  2959406      F   \n",
       "22          22      4                             Jewelry  3492551      M   \n",
       "23          23      5                              Gaming  1407823      M   \n",
       "24          24      5                             Bedroom  3616543      M   \n",
       "25          25      1                 Fashion Accessories  2629968      F   \n",
       "26          26      5                 Fitness & Nutrition   828951      F   \n",
       "27          27      5                            Skincare  7933092      F   \n",
       "28          28      4                 Fitness & Nutrition   939767      M   \n",
       "29          29      2                 Fashion Accessories  1342209      F   \n",
       "...        ...    ...                                 ...      ...    ...   \n",
       "117045  117045      4                             Leisure  3618993      M   \n",
       "117046  117046      5                  Career & Education  8284882      F   \n",
       "117047  117047      5                                Pets   887264      F   \n",
       "117048  117048      5                  Career & Education  5450205      M   \n",
       "117049  117049      1                             Flowers  6554901      M   \n",
       "117050  117050      5                     Conference Call  1461230      F   \n",
       "117051  117051      5                 Fashion Accessories  1461230      F   \n",
       "117052  117052      5              Computer & Accessories  2150735      M   \n",
       "117053  117053      1                             Flowers  7051543      M   \n",
       "117054  117054      5                     Package Service  5540344      M   \n",
       "117055  117055      5                      Ink Cartridges   557765      M   \n",
       "117056  117056      5                      Ink Cartridges   557766      M   \n",
       "117057  117057      4                Cell Phone Unlocking  2716028      M   \n",
       "117058  117058      4                    Drugs & Pharmacy  4363162      F   \n",
       "117059  117059      5                              Hotels  2165717      F   \n",
       "117060  117060      4  Motorcycle Equipment & Accessories   671979      M   \n",
       "117061  117061      5                             Flowers  5684697      F   \n",
       "117062  117062      5                     Event Organizer  5440444      F   \n",
       "117063  117063      5                  Online Marketplace   469709      F   \n",
       "117064  117064      5                Cell phone Recycling  2194097      M   \n",
       "117065  117065      5                               Tires  4620409      M   \n",
       "117066  117066      5                 Domestic Appliances  1351873      M   \n",
       "117067  117067      5            Batteries & Power Supply  1351873      M   \n",
       "117068  117068      1                         Electricity  1351879      M   \n",
       "117069  117069      5                              Gaming  7402181      M   \n",
       "117070  117070      2                            Bathroom  7854275      M   \n",
       "117071  117071      1                  Hospital Equipment  8241333      M   \n",
       "117072  117072      5                 Domestic Appliances  2686431      M   \n",
       "117073  117073      5                          Fragrances  2365806      F   \n",
       "117074  117074      5                              Hotels  2365806      F   \n",
       "\n",
       "        age                                               text     ratio  \\\n",
       "0        50  Prices change daily and if you want to really ...  0.100000   \n",
       "1        32  and the fact that they will match other compan...  0.156250   \n",
       "2        48  Used Paypal for my buying and selling for the ...  0.104167   \n",
       "3        29  I ' ve made two purchases on CJ ' s for Fallou...  0.172414   \n",
       "4        29  I was very happy with the diamond that I order...  0.137931   \n",
       "5        66  I signed up with front point security 0 months...  0.075758   \n",
       "6        69  First off I usually never get extended warrant...  0.072464   \n",
       "7        20  The games come , no worries , they are reputab...  0.250000   \n",
       "8        32  We worked hard to send out email invitations f...  0.031250   \n",
       "9        32  I am in love with all the free movies and show...  0.125000   \n",
       "10       49  I ordered two pieces for a halloween party in ...  0.020408   \n",
       "11       28  Everything about this site is pleasing , from ...  0.178571   \n",
       "12       55  As soon as you make your claim , they are on i...  0.090909   \n",
       "13       28  Excellent service , I have only found a cheape...  0.178571   \n",
       "14       65  I always appreciate a dealer that takes the ti...  0.076923   \n",
       "15       28  I ' ve used Supplement Warehouse several times...  0.142857   \n",
       "16       49  Prices are way better than GNC even with shipp...  0.102041   \n",
       "17       26  the service was 0nd to non and the fact that y...  0.192308   \n",
       "18       38  We ' ve used Priceline probably 0 times for ho...  0.131579   \n",
       "19       39  I have used the website twice now to order my ...  0.128205   \n",
       "20       59  when i buy something from lightinthebox i alwa...  0.084746   \n",
       "21       51  Purchased 00 days WoW gametime , received my c...  0.098039   \n",
       "22       33  No hassle easy way to buy a diamond if you do ...  0.121212   \n",
       "23       28  fantastic website , i ' ve bought 0 games from...  0.178571   \n",
       "24       20  In my opinion the shop was very nice and clean...  0.250000   \n",
       "25       27  Since August 0000 i bought 0 bags for 0 . 000 ...  0.037037   \n",
       "26       38  Using the 0 % off price match tool is addictive !  0.131579   \n",
       "27       32  I cannot do without my EltaMD UV SPF 00 Tinted...  0.156250   \n",
       "28       68  Easy to navigate the website , and lots of fre...  0.058824   \n",
       "29       23  For those of you who have had bad experience w...  0.086957   \n",
       "...     ...                                                ...       ...   \n",
       "117045   27  The website itself is a poor experience - does...  0.148148   \n",
       "117046   36  The course material got right to the point on ...  0.138889   \n",
       "117047   42  I ' ve found Viovet to be competitively priced...  0.119048   \n",
       "117048   29  Everyone have to try this because this softwar...  0.172414   \n",
       "117049   34  It was nearly 0pm on valentines day and still ...  0.029412   \n",
       "117050   62  On an extended trip abroad and having elderly ...  0.080645   \n",
       "117051   62  I have just received my delivery of 0 pair of ...  0.080645   \n",
       "117052   68  I did a scan on mt friend ' s pc using Belarc ...  0.073529   \n",
       "117053   39  got a email stating they would be delivered on...  0.025641   \n",
       "117054   27  great service answer my all questions and I am...  0.185185   \n",
       "117055   63  Items always in stock , & despatched very quic...  0.079365   \n",
       "117056   43  Didn ' t have original printer in stock but of...  0.116279   \n",
       "117057   34  it was my first time to ask about unlock throu...  0.117647   \n",
       "117058   33  Good choice of items plus free delivery which ...  0.121212   \n",
       "117059   23  I have been using hostelbookers . com for year...  0.217391   \n",
       "117060   67  Agreed postage is a tad high , I used to visit...  0.059701   \n",
       "117061   50  it was very easy to place my order , i was kep...  0.100000   \n",
       "117062   31  I need to thank my bridesmaid and Funktion for...  0.161290   \n",
       "117063   63  Whatever I want I just check Amazon , brillian...  0.079365   \n",
       "117064   48  Very fast and reliable service , don ' waste y...  0.104167   \n",
       "117065   28  I have been using national tyres for a few yea...  0.178571   \n",
       "117066   58  We found the website easy to browse to find th...  0.086207   \n",
       "117067   56  Whenever I require batteries , battery Force i...  0.089286   \n",
       "117068   26  Moved into a new property and after a previous...  0.038462   \n",
       "117069   20  Found Arma 0 for the cheapest here , don ' t u...  0.250000   \n",
       "117070   57  Ordered a basin waste ten days ago with a deli...  0.035088   \n",
       "117071   37  I bought a mobility scooter for my elderly mot...  0.027027   \n",
       "117072   32  Very nice clear website , good prices and fast...  0.156250   \n",
       "117073   56  Good Prices , easy to use website , quick deli...  0.089286   \n",
       "117074   55  Booked London Hotel from hidden gems - Doublet...  0.090909   \n",
       "\n",
       "        has_price  \n",
       "0            True  \n",
       "1           False  \n",
       "2           False  \n",
       "3           False  \n",
       "4           False  \n",
       "5           False  \n",
       "6           False  \n",
       "7           False  \n",
       "8           False  \n",
       "9           False  \n",
       "10          False  \n",
       "11           True  \n",
       "12          False  \n",
       "13           True  \n",
       "14          False  \n",
       "15          False  \n",
       "16          False  \n",
       "17          False  \n",
       "18          False  \n",
       "19           True  \n",
       "20          False  \n",
       "21          False  \n",
       "22          False  \n",
       "23          False  \n",
       "24          False  \n",
       "25          False  \n",
       "26           True  \n",
       "27          False  \n",
       "28           True  \n",
       "29          False  \n",
       "...           ...  \n",
       "117045      False  \n",
       "117046      False  \n",
       "117047       True  \n",
       "117048      False  \n",
       "117049       True  \n",
       "117050       True  \n",
       "117051      False  \n",
       "117052       True  \n",
       "117053      False  \n",
       "117054      False  \n",
       "117055      False  \n",
       "117056      False  \n",
       "117057      False  \n",
       "117058      False  \n",
       "117059      False  \n",
       "117060      False  \n",
       "117061      False  \n",
       "117062       True  \n",
       "117063       True  \n",
       "117064      False  \n",
       "117065      False  \n",
       "117066      False  \n",
       "117067      False  \n",
       "117068      False  \n",
       "117069      False  \n",
       "117070      False  \n",
       "117071      False  \n",
       "117072       True  \n",
       "117073      False  \n",
       "117074       True  \n",
       "\n",
       "[117075 rows x 9 columns]"
      ]
     },
     "execution_count": 77,
     "metadata": {},
     "output_type": "execute_result"
    }
   ],
   "source": [
    "df_no_nan = df.fillna('THIS WAS NAN')\n",
    "df_no_nan"
   ]
  },
  {
   "cell_type": "markdown",
   "metadata": {
    "slideshow": {
     "slide_type": "subslide"
    }
   },
   "source": [
    "## Visualization"
   ]
  },
  {
   "cell_type": "markdown",
   "metadata": {},
   "source": [
    "### Histograms\n",
    "\n",
    "`pandas` `DataFrame`s have built-in visualization methods under the property `plot`. To get a histogram of the ratios, we can call `hist()`"
   ]
  },
  {
   "cell_type": "code",
   "execution_count": 109,
   "metadata": {},
   "outputs": [
    {
     "data": {
      "text/plain": [
       "<matplotlib.axes._subplots.AxesSubplot at 0x1a3d96e320>"
      ]
     },
     "execution_count": 109,
     "metadata": {},
     "output_type": "execute_result"
    },
    {
     "data": {
      "image/png": "[encoded data removed]",
      "text/plain": [
       "<Figure size 432x288 with 1 Axes>"
      ]
     },
     "metadata": {
      "needs_background": "light"
     },
     "output_type": "display_data"
    }
   ],
   "source": [
    "df_no_nan['age'].plot.hist()"
   ]
  },
  {
   "cell_type": "markdown",
   "metadata": {
    "slideshow": {
     "slide_type": "subslide"
    }
   },
   "source": [
    "In order to get a different representation, let's define the size of each `bin`. Adding `;` at the end of the line prevents the output of the `<matplotlib.axes._subplots.AxesSubplot at 0x118903320>` text."
   ]
  },
  {
   "cell_type": "code",
   "execution_count": 110,
   "metadata": {},
   "outputs": [
    {
     "data": {
      "image/png": "[encoded data removed]",
      "text/plain": [
       "<Figure size 432x288 with 1 Axes>"
      ]
     },
     "metadata": {
      "needs_background": "light"
     },
     "output_type": "display_data"
    }
   ],
   "source": [
    "df_no_nan.age.hist(bins=50);"
   ]
  },
  {
   "cell_type": "markdown",
   "metadata": {
    "slideshow": {
     "slide_type": "subslide"
    }
   },
   "source": [
    "We can even separate the plots by another column, for example `gender`, using the keyword `by`."
   ]
  },
  {
   "cell_type": "code",
   "execution_count": 111,
   "metadata": {},
   "outputs": [
    {
     "data": {
      "image/png": "[encoded data removed]",
      "text/plain": [
       "<Figure size 432x288 with 2 Axes>"
      ]
     },
     "metadata": {
      "needs_background": "light"
     },
     "output_type": "display_data"
    }
   ],
   "source": [
    "df_no_nan['age'].hist(by=df_no_nan['gender'], bins=50, sharey=True);"
   ]
  },
  {
   "cell_type": "markdown",
   "metadata": {
    "slideshow": {
     "slide_type": "fragment"
    }
   },
   "source": [
    "Looks similar, but at different scales. To make the y-axis equivalent, use `sharey`"
   ]
  },
  {
   "cell_type": "code",
   "execution_count": 112,
   "metadata": {},
   "outputs": [
    {
     "data": {
      "image/png": "[encoded data removed]",
      "text/plain": [
       "<Figure size 432x288 with 2 Axes>"
      ]
     },
     "metadata": {
      "needs_background": "light"
     },
     "output_type": "display_data"
    }
   ],
   "source": [
    "df_no_nan.age.hist(by=df_no_nan.gender, bins=50, sharey=True);"
   ]
  },
  {
   "cell_type": "markdown",
   "metadata": {
    "slideshow": {
     "slide_type": "subslide"
    }
   },
   "source": [
    "### Scatterplotting\n",
    "\n",
    "If we are interested in more than one column, we might want to use the general `plot` method, and the `scatter` function. We need to define the `x` and `y` dimensions by giving a column name from our `DataFrame`."
   ]
  },
  {
   "cell_type": "code",
   "execution_count": 113,
   "metadata": {},
   "outputs": [
    {
     "data": {
      "image/png": "[encoded data removed]",
      "text/plain": [
       "<Figure size 432x288 with 1 Axes>"
      ]
     },
     "metadata": {
      "needs_background": "light"
     },
     "output_type": "display_data"
    }
   ],
   "source": [
    "df_no_nan.plot.scatter(x='age', y ='ratio', s=100, alpha=0.5);"
   ]
  },
  {
   "cell_type": "markdown",
   "metadata": {
    "slideshow": {
     "slide_type": "notes"
    }
   },
   "source": [
    "To separate the two categories, you need to \n",
    "* make the first one a variable\n",
    "* pass the variable to the second via `ax`\n",
    "* set different colors"
   ]
  },
  {
   "cell_type": "code",
   "execution_count": 114,
   "metadata": {
    "slideshow": {
     "slide_type": "notes"
    }
   },
   "outputs": [
    {
     "data": {
      "image/png": "[encoded data removed]",
      "text/plain": [
       "<Figure size 432x288 with 1 Axes>"
      ]
     },
     "metadata": {
      "needs_background": "light"
     },
     "output_type": "display_data"
    }
   ],
   "source": [
    "axis = df_no_nan[df_no_nan.category == 'Gambling'].plot.scatter(x='age', y ='score', color='teal', s=100, alpha=0.5);\n",
    "df_no_nan[df_no_nan.category == 'Sport'].plot.scatter(x='age', y ='score', color='darkred', ax=axis, s=100, alpha=0.5);"
   ]
  },
  {
   "cell_type": "markdown",
   "metadata": {},
   "source": [
    "For many more plotting options, see [https://pandas.pydata.org/pandas-docs/stable/visualization.html](https://pandas.pydata.org/pandas-docs/stable/visualization.html)\n",
    "\n",
    "For more on visualizations in general, see [http://serialmentor.com/dataviz/](http://serialmentor.com/dataviz/)"
   ]
  },
  {
   "cell_type": "markdown",
   "metadata": {
    "slideshow": {
     "slide_type": "subslide"
    }
   },
   "source": [
    "## Views\n",
    "\n",
    "We can subselect a number of columns via slicing (a *view*) and put them in a new `DataFrame`by using `copy()`."
   ]
  },
  {
   "cell_type": "code",
   "execution_count": 96,
   "metadata": {},
   "outputs": [
    {
     "data": {
      "text/html": [
       "<div>\n",
       "<style scoped>\n",
       "    .dataframe tbody tr th:only-of-type {\n",
       "        vertical-align: middle;\n",
       "    }\n",
       "\n",
       "    .dataframe tbody tr th {\n",
       "        vertical-align: top;\n",
       "    }\n",
       "\n",
       "    .dataframe thead th {\n",
       "        text-align: right;\n",
       "    }\n",
       "</style>\n",
       "<table border=\"1\" class=\"dataframe\">\n",
       "  <thead>\n",
       "    <tr style=\"text-align: right;\">\n",
       "      <th></th>\n",
       "      <th>age</th>\n",
       "      <th>score</th>\n",
       "      <th>category</th>\n",
       "      <th>text</th>\n",
       "    </tr>\n",
       "  </thead>\n",
       "  <tbody>\n",
       "    <tr>\n",
       "      <th>0</th>\n",
       "      <td>50</td>\n",
       "      <td>5</td>\n",
       "      <td>Car Rental</td>\n",
       "      <td>Prices change daily and if you want to really ...</td>\n",
       "    </tr>\n",
       "    <tr>\n",
       "      <th>1</th>\n",
       "      <td>32</td>\n",
       "      <td>5</td>\n",
       "      <td>Fitness &amp; Nutrition</td>\n",
       "      <td>and the fact that they will match other compan...</td>\n",
       "    </tr>\n",
       "    <tr>\n",
       "      <th>2</th>\n",
       "      <td>48</td>\n",
       "      <td>5</td>\n",
       "      <td>Electronic Payment</td>\n",
       "      <td>Used Paypal for my buying and selling for the ...</td>\n",
       "    </tr>\n",
       "    <tr>\n",
       "      <th>3</th>\n",
       "      <td>29</td>\n",
       "      <td>5</td>\n",
       "      <td>Gaming</td>\n",
       "      <td>I ' ve made two purchases on CJ ' s for Fallou...</td>\n",
       "    </tr>\n",
       "    <tr>\n",
       "      <th>4</th>\n",
       "      <td>29</td>\n",
       "      <td>4</td>\n",
       "      <td>Jewelry</td>\n",
       "      <td>I was very happy with the diamond that I order...</td>\n",
       "    </tr>\n",
       "  </tbody>\n",
       "</table>\n",
       "</div>"
      ],
      "text/plain": [
       "   age  score             category  \\\n",
       "0   50      5           Car Rental   \n",
       "1   32      5  Fitness & Nutrition   \n",
       "2   48      5   Electronic Payment   \n",
       "3   29      5               Gaming   \n",
       "4   29      4              Jewelry   \n",
       "\n",
       "                                                text  \n",
       "0  Prices change daily and if you want to really ...  \n",
       "1  and the fact that they will match other compan...  \n",
       "2  Used Paypal for my buying and selling for the ...  \n",
       "3  I ' ve made two purchases on CJ ' s for Fallou...  \n",
       "4  I was very happy with the diamond that I order...  "
      ]
     },
     "execution_count": 96,
     "metadata": {},
     "output_type": "execute_result"
    }
   ],
   "source": [
    "new_view = df_no_nan[['age', 'score', 'category', 'text']].copy()\n",
    "new_view.head()"
   ]
  },
  {
   "cell_type": "markdown",
   "metadata": {
    "slideshow": {
     "slide_type": "subslide"
    }
   },
   "source": [
    "## Grouping\n",
    "\n",
    "We can group our data by columns. This is useful for example in visualization. Rather than showing two plots as before, we can overlay them (we use `alpha` to set the transparency):"
   ]
  },
  {
   "cell_type": "code",
   "execution_count": 101,
   "metadata": {},
   "outputs": [
    {
     "data": {
      "text/html": [
       "<div>\n",
       "<style scoped>\n",
       "    .dataframe tbody tr th:only-of-type {\n",
       "        vertical-align: middle;\n",
       "    }\n",
       "\n",
       "    .dataframe tbody tr th {\n",
       "        vertical-align: top;\n",
       "    }\n",
       "\n",
       "    .dataframe thead th {\n",
       "        text-align: right;\n",
       "    }\n",
       "</style>\n",
       "<table border=\"1\" class=\"dataframe\">\n",
       "  <thead>\n",
       "    <tr style=\"text-align: right;\">\n",
       "      <th></th>\n",
       "      <th>age</th>\n",
       "    </tr>\n",
       "    <tr>\n",
       "      <th>score</th>\n",
       "      <th></th>\n",
       "    </tr>\n",
       "  </thead>\n",
       "  <tbody>\n",
       "    <tr>\n",
       "      <th>1</th>\n",
       "      <td>38</td>\n",
       "    </tr>\n",
       "    <tr>\n",
       "      <th>2</th>\n",
       "      <td>41</td>\n",
       "    </tr>\n",
       "    <tr>\n",
       "      <th>3</th>\n",
       "      <td>40</td>\n",
       "    </tr>\n",
       "    <tr>\n",
       "      <th>4</th>\n",
       "      <td>38</td>\n",
       "    </tr>\n",
       "    <tr>\n",
       "      <th>5</th>\n",
       "      <td>42</td>\n",
       "    </tr>\n",
       "  </tbody>\n",
       "</table>\n",
       "</div>"
      ],
      "text/plain": [
       "       age\n",
       "score     \n",
       "1       38\n",
       "2       41\n",
       "3       40\n",
       "4       38\n",
       "5       42"
      ]
     },
     "execution_count": 101,
     "metadata": {},
     "output_type": "execute_result"
    }
   ],
   "source": [
    "new_view.groupby('score').median()#score.plot.hist(bins=20, alpha=0.5);"
   ]
  },
  {
   "cell_type": "markdown",
   "metadata": {},
   "source": [
    "We can also get aggregate statistics for the groups. We use `groupby()`, and then specify how to aggregate the data. Possible aggregators are\n",
    "* `sum()`\n",
    "* `count()`\n",
    "* `min()`\n",
    "* `max()`\n",
    "* `mean()`\n",
    "* `median()`\n",
    "\n",
    "... and many more. See [https://www.shanelynn.ie/summarising-aggregation-and-grouping-data-in-python-pandas/](https://www.shanelynn.ie/summarising-aggregation-and-grouping-data-in-python-pandas/) for more examples"
   ]
  },
  {
   "cell_type": "code",
   "execution_count": null,
   "metadata": {},
   "outputs": [],
   "source": []
  }
 ],
 "metadata": {
  "anaconda-cloud": {},
  "celltoolbar": "Slideshow",
  "kernelspec": {
   "display_name": "Python 3",
   "language": "python",
   "name": "python3"
  },
  "language_info": {
   "codemirror_mode": {
    "name": "ipython",
    "version": 3
   },
   "file_extension": ".py",
   "mimetype": "text/x-python",
   "name": "python",
   "nbconvert_exporter": "python",
   "pygments_lexer": "ipython3",
   "version": "3.6.8"
  },
  "livereveal": {
   "scroll": true,
   "start_slideshow_at": "selected",
   "transition": "none"
  }
 },
 "nbformat": 4,
 "nbformat_minor": 1
}
