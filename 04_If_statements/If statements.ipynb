{
 "cells": [
  {
   "cell_type": "markdown",
   "metadata": {
    "slideshow": {
     "slide_type": "slide"
    }
   },
   "source": [
    "# Control structures I"
   ]
  },
  {
   "cell_type": "markdown",
   "metadata": {
    "slideshow": {
     "slide_type": "slide"
    }
   },
   "source": [
    "## *\"If everything seems under control, you're just not going fast enough!\"*\n",
    "*(–Looping Louie)*"
   ]
  },
  {
   "cell_type": "markdown",
   "metadata": {
    "slideshow": {
     "slide_type": "slide"
    }
   },
   "source": [
    "## A philosophical program"
   ]
  },
  {
   "cell_type": "code",
   "execution_count": null,
   "metadata": {},
   "outputs": [],
   "source": [
    "print(\"You win!\")\n",
    "print(\"You lose!\")"
   ]
  },
  {
   "cell_type": "markdown",
   "metadata": {
    "slideshow": {
     "slide_type": "fragment"
    }
   },
   "source": [
    "Whatever happens, you always both win and lose. There may be a deep truth to this."
   ]
  },
  {
   "cell_type": "markdown",
   "metadata": {
    "slideshow": {
     "slide_type": "fragment"
    }
   },
   "source": [
    "It's also kind of boring."
   ]
  },
  {
   "cell_type": "markdown",
   "metadata": {
    "slideshow": {
     "slide_type": "subslide"
    }
   },
   "source": [
    "What this program needs is a **conditional statement**."
   ]
  },
  {
   "cell_type": "code",
   "execution_count": null,
   "metadata": {},
   "outputs": [],
   "source": [
    "score = 500\n",
    "if score > 500:\n",
    "    print(\"You win!\")\n",
    "    print('Congrats!')\n",
    "else:\n",
    "    print(\"You lose!\")\n",
    "\n",
    "print('Play it again!')"
   ]
  },
  {
   "cell_type": "markdown",
   "metadata": {
    "slideshow": {
     "slide_type": "notes"
    }
   },
   "source": [
    "We alread know the type of score (it's an integer), but the control structure relies on another type, the **boolean**. It is very simple, in that it has only two possible values: `True` and `False` (note that they are written with an uppercase first letter!)\n",
    "\n",
    "The `if-else` construction above creates a two-way branch in the program. If the **predicate** that immediately follows the `if` keyword evaluates to `True`, the first branch is taken, otherwise the second branch (following the `else`) is executed. \n",
    "\n",
    "A branch is simply the code indented by a single tab (⇥) character, also called a **block**. In general, Python uses **tab indentation** to indicate where in the structure of the program a given line of code belongs."
   ]
  },
  {
   "cell_type": "markdown",
   "metadata": {
    "slideshow": {
     "slide_type": "subslide"
    }
   },
   "source": [
    "## Activity\n",
    "\n",
    "* What happens if the score is:\n",
    "  - Zero?\n",
    "  - Exactly 500?\n",
    "  - Negative?\n",
    "\n",
    "* Write a conditional statement that checks whether `as_list` is `True`. If so, print the string `months` as a list, otherwise as a string"
   ]
  },
  {
   "cell_type": "code",
   "execution_count": null,
   "metadata": {},
   "outputs": [],
   "source": [
    "as_list = True\n",
    "months = 'JFMAMJJASOND'\n",
    "\n",
    "# your code here\n"
   ]
  },
  {
   "cell_type": "markdown",
   "metadata": {
    "slideshow": {
     "slide_type": "subslide"
    }
   },
   "source": [
    "## Conditional assignment\n",
    "\n",
    "We can use conditionals to assign a different value to a variable, depending on some external condition:"
   ]
  },
  {
   "cell_type": "code",
   "execution_count": null,
   "metadata": {},
   "outputs": [],
   "source": [
    "day = \"Flurbsday\"\n",
    "section_order = (31, 32) if day == 'Tuesday' else (32, 31)\n",
    "print(section_order)"
   ]
  },
  {
   "cell_type": "markdown",
   "metadata": {
    "slideshow": {
     "slide_type": "subslide"
    }
   },
   "source": [
    "## Multi-branching conditionals\n",
    "\n",
    "If we want to choose from more than two possible alternative conditions, we can use the `elif` construct. You can have as many of these as you want."
   ]
  },
  {
   "cell_type": "code",
   "execution_count": null,
   "metadata": {},
   "outputs": [],
   "source": [
    "score = 690\n",
    "if score > 500:\n",
    "    print(\"You win!\")\n",
    "elif score > 600:\n",
    "    print(\"You win, but you are not all that good!\")\n",
    "else:\n",
    "    print(\"You lose!\")"
   ]
  },
  {
   "cell_type": "markdown",
   "metadata": {},
   "source": [
    "Note that the second condition subsumes the first, but is never evaluated, because the first one fired first."
   ]
  },
  {
   "cell_type": "markdown",
   "metadata": {
    "slideshow": {
     "slide_type": "subslide"
    }
   },
   "source": [
    "The full form of the multi-branching `if` statement is:\n",
    "\n",
    "```python\n",
    "if <pred>:\n",
    "⇥   <stmt>\n",
    "[elif <pred>:\n",
    "⇥   <stmt>]\n",
    "else:\n",
    "⇥   <stmt>\n",
    "```"
   ]
  },
  {
   "cell_type": "markdown",
   "metadata": {
    "slideshow": {
     "slide_type": "subslide"
    }
   },
   "source": [
    "### Complex predicates\n"
   ]
  },
  {
   "cell_type": "markdown",
   "metadata": {
    "slideshow": {
     "slide_type": "notes"
    }
   },
   "source": [
    "We can express more complex conditions, too. Predicates can be combined by using the logical operators `and` and `or`, and the truth-value of any expression can be negated by `not`."
   ]
  },
  {
   "cell_type": "code",
   "execution_count": null,
   "metadata": {},
   "outputs": [],
   "source": [
    "athlete = {'weight': 210, 'height': 190}\n",
    "\n",
    "if athlete['weight'] > 90 and athlete['height'] >= 200:\n",
    "    print('Basketball')\n",
    "elif athlete['weight'] > 150 and athlete['height'] >= 190:\n",
    "    print('Strength-athlete')\n",
    "else:\n",
    "    print('Other sports')"
   ]
  },
  {
   "cell_type": "markdown",
   "metadata": {
    "slideshow": {
     "slide_type": "subslide"
    }
   },
   "source": [
    "## Activity\n",
    "\n",
    "Rewrite the multi-branching conditional below.\n",
    "* change the order of the tests so that *You win, but you are not all that good* is the first one.\n",
    "* add a branch for negative values\n",
    "\n",
    "```python\n",
    "if score > 600:\n",
    "    print(\"You win!\")\n",
    "elif score > 500:\n",
    "    print(\"You win, but you are not all that good!\")\n",
    "else:\n",
    "    print(\"You lose!\")\n",
    "```"
   ]
  },
  {
   "cell_type": "code",
   "execution_count": null,
   "metadata": {},
   "outputs": [],
   "source": [
    "score = 650\n",
    "\n",
    "# your code here\n"
   ]
  },
  {
   "cell_type": "markdown",
   "metadata": {
    "slideshow": {
     "slide_type": "subslide"
    }
   },
   "source": [
    "## Activity\n",
    "\n",
    "What is the logical value of the following complex predicates? Think about it before you confirm your answer by trying out the expression in notebook.\n",
    "\n",
    "- `True and False and True`\n",
    "- `True or False or True`\n",
    "- `True and False or True`\n",
    "- `not (False and True)`"
   ]
  },
  {
   "cell_type": "code",
   "execution_count": null,
   "metadata": {
    "slideshow": {
     "slide_type": "-"
    }
   },
   "outputs": [],
   "source": [
    "# your code here\n"
   ]
  },
  {
   "cell_type": "markdown",
   "metadata": {
    "slideshow": {
     "slide_type": "subslide"
    }
   },
   "source": [
    "### `and`-predicates are lazily evaluated\n",
    "\n",
    "Two logical values combined with the `and` operator are false when the first value is false. This allows Python to optimize the evaluation: whenever the first value is found to be false, the result is short-circuited. \n",
    "\n",
    "This short-circuit mechanism is often exploited by programmers who wish to perform a potentially unsafe operations like dividing by a variable that could be `0`."
   ]
  },
  {
   "cell_type": "code",
   "execution_count": null,
   "metadata": {
    "slideshow": {
     "slide_type": "-"
    }
   },
   "outputs": [],
   "source": [
    "numerator = 5\n",
    "denominator = 0\n",
    "\n",
    "if denominator != 0 and numerator / denominator > .5:\n",
    "    print(\"The fraction is in your favor\")\n",
    "else:\n",
    "    print('nope')"
   ]
  },
  {
   "cell_type": "markdown",
   "metadata": {
    "slideshow": {
     "slide_type": "subslide"
    }
   },
   "source": [
    "Switching the order of the predicates results in an error:"
   ]
  },
  {
   "cell_type": "code",
   "execution_count": null,
   "metadata": {
    "scrolled": true,
    "slideshow": {
     "slide_type": "-"
    }
   },
   "outputs": [],
   "source": [
    "if numerator / denominator > .5 and denominator != 0:\n",
    "    print(\"The fraction is in your favor\")"
   ]
  },
  {
   "cell_type": "markdown",
   "metadata": {
    "slideshow": {
     "slide_type": "subslide"
    }
   },
   "source": [
    "### Nested branching\n",
    "\n",
    "Sometimes, we only get to a set of conditions after we have checked a different set of conditions. This is where  additional branching constructions come in:"
   ]
  },
  {
   "cell_type": "code",
   "execution_count": null,
   "metadata": {},
   "outputs": [],
   "source": [
    "numerator = 5\n",
    "denominator = 100\n",
    "\n",
    "# here starts the first, outer branch\n",
    "if denominator != 0:\n",
    "    # this is an additional branch under the original one\n",
    "    if numerator / denominator > .5:\n",
    "        print(\"The fraction is in your favor: {}\".format(numerator/denominator))\n",
    "    else:\n",
    "        print(\"I wouldn't bet on it: {}\".format(numerator/denominator))\n",
    "# this is back at the original branch\n",
    "else:\n",
    "    print(\"I'm afraid I can't let you do this\")"
   ]
  },
  {
   "cell_type": "markdown",
   "metadata": {
    "slideshow": {
     "slide_type": "fragment"
    }
   },
   "source": [
    "(Note the double indentation)"
   ]
  },
  {
   "cell_type": "markdown",
   "metadata": {
    "slideshow": {
     "slide_type": "subslide"
    }
   },
   "source": [
    "## Activity\n",
    "\n",
    "* Translate this flowchart into code ![flowchart](flowchart.png \"Flowchart\")"
   ]
  },
  {
   "cell_type": "code",
   "execution_count": null,
   "metadata": {},
   "outputs": [],
   "source": [
    "# your code here\n"
   ]
  },
  {
   "cell_type": "markdown",
   "metadata": {
    "slideshow": {
     "slide_type": "subslide"
    }
   },
   "source": [
    "## Truth and truth-like quantities\n",
    "\n",
    "The result of any comparison using the built-in operators (e.g. `==` and `>`) is binary; it is either `True` or `False`. That makes comparisons perfect for use in branching statements or loop conditionals.\n",
    "\n",
    "However, in contrast to many other languages, Python offers considerable flexibility in what may be used as a truth-value. In fact it will attempt to interpret any value used in a test as either `True` or `False`."
   ]
  },
  {
   "cell_type": "code",
   "execution_count": null,
   "metadata": {
    "slideshow": {
     "slide_type": "-"
    }
   },
   "outputs": [],
   "source": [
    "x = 0\n",
    "\n",
    "if x:\n",
    "    print(\"This statement is True\")\n",
    "else:\n",
    "    print(\"This statement is False\")\n",
    "    "
   ]
  },
  {
   "cell_type": "markdown",
   "metadata": {
    "slideshow": {
     "slide_type": "subslide"
    }
   },
   "source": [
    "## Activity \n",
    "\n",
    "Consider the list `true_or_false_list` given below. What values do you think Python would *cast* as `True`? \n",
    "\n",
    "Test your hypotheseses by writing a `for` loop that passes over each of the values in turn and tests in an `if` statement whether Python considers it `True` or `False`. \n",
    "\n",
    "Print a message indicating the result of the test. The message should include a textual representation of the tested value. Use the function `str` for this purpose. "
   ]
  },
  {
   "cell_type": "code",
   "execution_count": null,
   "metadata": {
    "slideshow": {
     "slide_type": "-"
    }
   },
   "outputs": [],
   "source": [
    "true_or_false_list = [0, 1, True, False, \"\", \"0\", None, {}, {1}, [], [1]]\n",
    "# your code here"
   ]
  },
  {
   "cell_type": "markdown",
   "metadata": {
    "slideshow": {
     "slide_type": "subslide"
    }
   },
   "source": [
    "## Activity\n",
    "\n",
    "Use a nested `for` loop to generate the truth tables for `and` and `or`, similar to this\n",
    "\n",
    "```\n",
    " arg1 |  arg2  |  result  |\n",
    "======|========|==========|\n",
    "True  | True   | =\n",
    "True  | False  | =\n",
    "False | False  | =\n",
    "False | True   | =\n",
    "```"
   ]
  },
  {
   "cell_type": "code",
   "execution_count": null,
   "metadata": {},
   "outputs": [],
   "source": [
    "print(\" arg1 |  arg2  |  result  |\")\n",
    "print(\"======|========|==========|\")\n",
    "\n",
    "# your code here\n"
   ]
  }
 ],
 "metadata": {
  "anaconda-cloud": {},
  "celltoolbar": "Slideshow",
  "kernelspec": {
   "display_name": "Python 3",
   "language": "python",
   "name": "python3"
  },
  "language_info": {
   "codemirror_mode": {
    "name": "ipython",
    "version": 3
   },
   "file_extension": ".py",
   "mimetype": "text/x-python",
   "name": "python",
   "nbconvert_exporter": "python",
   "pygments_lexer": "ipython3",
   "version": "3.6.8"
  },
  "livereveal": {
   "scroll": true,
   "start_slideshow_at": "selected",
   "transition": "none"
  }
 },
 "nbformat": 4,
 "nbformat_minor": 1
}
