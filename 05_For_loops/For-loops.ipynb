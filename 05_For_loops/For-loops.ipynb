{
 "cells": [
  {
   "cell_type": "markdown",
   "metadata": {
    "slideshow": {
     "slide_type": "slide"
    }
   },
   "source": [
    "# Control structures II\n"
   ]
  },
  {
   "cell_type": "markdown",
   "metadata": {
    "slideshow": {
     "slide_type": "slide"
    }
   },
   "source": [
    "## *\"If everything seems under control, you're just not going fast enough!\"*\n",
    "*(–Looping Louie)*"
   ]
  },
  {
   "cell_type": "markdown",
   "metadata": {
    "slideshow": {
     "slide_type": "slide"
    }
   },
   "source": [
    "# Two types of loops"
   ]
  },
  {
   "cell_type": "markdown",
   "metadata": {
    "slideshow": {
     "slide_type": "notes"
    }
   },
   "source": [
    "Few things are more boring then repetitive work, especially if the repetitions number in the millions, which is often the case in computing. Programming languages fortunately offer an out: *the loop*. "
   ]
  },
  {
   "cell_type": "markdown",
   "metadata": {
    "slideshow": {
     "slide_type": "notes"
    }
   },
   "source": [
    "Loops are used in many place. For instance, if you need to:\n",
    "\n",
    "- do something a certain number of times; or\n",
    "- perform the same operation for all elements in a list."
   ]
  },
  {
   "cell_type": "markdown",
   "metadata": {
    "slideshow": {
     "slide_type": "subslide"
    }
   },
   "source": [
    "Python has two loop constructions\n",
    "1. the `for` loop and \n",
    "2. the `while` loop\n",
    "\n",
    "They are theoretically equivalent, but in practice, you'll be using the `for` loop much more.\n"
   ]
  },
  {
   "cell_type": "markdown",
   "metadata": {
    "slideshow": {
     "slide_type": "subslide"
    }
   },
   "source": [
    "### For \n",
    "\n",
    "Syntax\n",
    "\n",
    "```python\n",
    "for <elem> in <iterable>:\n",
    "   <stmt>\n",
    "```\n",
    "\n",
    "An iterable is a **collection** of elements. The collection can either be fully determined, like a `list` or `set`, or a conceptual **iterator**, like a `range` of numbers. "
   ]
  },
  {
   "cell_type": "markdown",
   "metadata": {
    "slideshow": {
     "slide_type": "subslide"
    }
   },
   "source": [
    "`for`-loops from lists:"
   ]
  },
  {
   "cell_type": "code",
   "execution_count": 4,
   "metadata": {
    "slideshow": {
     "slide_type": "-"
    }
   },
   "outputs": [
    {
     "name": "stdout",
     "output_type": "stream",
     "text": [
      "Thor, God of the North\n",
      "Odin, God of the North\n",
      "Freya, God of the North\n",
      "Freya\n"
     ]
    }
   ],
   "source": [
    "norse_gods = ['Thor', 'Odin', 'Freya']\n",
    "\n",
    "for norse_god in norse_gods: # the list is fully specified\n",
    "    print(norse_god + \", God of the North\")\n",
    "    \n",
    "print(norse_god)"
   ]
  },
  {
   "cell_type": "markdown",
   "metadata": {
    "slideshow": {
     "slide_type": "subslide"
    }
   },
   "source": [
    "`for`-loops from iterators:"
   ]
  },
  {
   "cell_type": "code",
   "execution_count": 5,
   "metadata": {
    "slideshow": {
     "slide_type": "-"
    }
   },
   "outputs": [
    {
     "name": "stdout",
     "output_type": "stream",
     "text": [
      "6\n",
      "7\n",
      "8\n",
      "9\n",
      "4 9\n"
     ]
    }
   ],
   "source": [
    "for i in range(1, 5): # the list gets generated on the fly\n",
    "    j = i+5\n",
    "    print(j)\n",
    "\n",
    "print(i, j)"
   ]
  },
  {
   "cell_type": "markdown",
   "metadata": {
    "slideshow": {
     "slide_type": "subslide"
    }
   },
   "source": [
    "`for`-loops from dictionaries:"
   ]
  },
  {
   "cell_type": "code",
   "execution_count": 8,
   "metadata": {},
   "outputs": [
    {
     "name": "stdout",
     "output_type": "stream",
     "text": [
      "weight is 210\n",
      "height is 190\n"
     ]
    }
   ],
   "source": [
    "athlete = {'weight': 210, \n",
    "           'height': 190}\n",
    "\n",
    "for (key, value) in athlete.items():\n",
    "    print(\"{} is {}\".format(key, value))"
   ]
  },
  {
   "cell_type": "markdown",
   "metadata": {
    "slideshow": {
     "slide_type": "subslide"
    }
   },
   "source": [
    "## Activity\n",
    "\n",
    "You have a dictionary with lists of 10 test scores for two subjects: Alice and Bob.\n",
    "\n",
    "* for each test, \n",
    " * determine who did better, by printing \"X did better than Y on the test N\"!\n",
    " * identify and print out if Alice or Bob scored negative\n",
    "* in the end, print out the average scores for both students"
   ]
  },
  {
   "cell_type": "code",
   "execution_count": 22,
   "metadata": {},
   "outputs": [
    {
     "name": "stdout",
     "output_type": "stream",
     "text": [
      "Alice did better than Bob on test 1\n",
      "\n",
      "Bob did better than Alice on test 2\n",
      "Alice scored negative\n",
      "\n",
      "They both got 8 point on test 3\n",
      "\n",
      "Alice did better than Bob on test 4\n",
      "Bob scored negative\n",
      "\n",
      "Bob did better than Alice on test 5\n",
      "\n",
      "Alice did better than Bob on test 6\n",
      "\n",
      "Bob did better than Alice on test 7\n",
      "Alice scored negative\n",
      "\n",
      "Alice did better than Bob on test 8\n",
      "Bob scored negative\n",
      "\n",
      "Bob did better than Alice on test 9\n",
      "\n",
      "They both got 9 point on test 10\n",
      "\n",
      "Alice got an average score of 5.9\n",
      "Bob got an average score of 5.6\n"
     ]
    }
   ],
   "source": [
    "subject_scores = {'Alice': [10, -1, 8, 4, 6, 10, -1, 5, 9, 9],\n",
    "                  'Bob': [9, 8, 8, -3, 9, 7, 4, -5, 10, 9]\n",
    "                 }\n",
    "\n",
    "num_tests = len(subject_scores['Alice'])\n",
    "# your code here\n",
    "for test_id in range(num_tests):\n",
    "    alice = subject_scores['Alice'][test_id]\n",
    "    bob = subject_scores['Bob'][test_id]\n",
    "    \n",
    "    if alice > bob:\n",
    "        print('Alice did better than Bob on test {}'.format(test_id+1))\n",
    "    elif bob > alice:\n",
    "        print('Bob did better than Alice on test {}'.format(test_id+1))\n",
    "    else:\n",
    "        print('They both got {} point on test {}'.format(alice, test_id+1))\n",
    "\n",
    "    if alice < 0:\n",
    "        print('Alice scored negative')\n",
    "    if bob < 0:\n",
    "        print('Bob scored negative')\n",
    "    print()\n",
    "    \n",
    "for name, scores in subject_scores.items():\n",
    "    print(\"{} got an average score of {}\".format(name, sum(scores)/num_tests))\n",
    "    "
   ]
  },
  {
   "cell_type": "markdown",
   "metadata": {
    "slideshow": {
     "slide_type": "subslide"
    }
   },
   "source": [
    "### While\n",
    "\n",
    "The indented body of the `while` loop repeats *as long as* the predicate following the keyword is true:\n",
    "\n",
    "```python\n",
    "while <pred>:\n",
    "   <stmt>\n",
    "\n",
    "```\n"
   ]
  },
  {
   "cell_type": "code",
   "execution_count": 25,
   "metadata": {
    "slideshow": {
     "slide_type": "fragment"
    }
   },
   "outputs": [
    {
     "name": "stdout",
     "output_type": "stream",
     "text": [
      "Thor, God of the North\n",
      "['Odin', 'Freya']\n",
      "Odin, God of the North\n",
      "['Freya']\n",
      "Freya, God of the North\n",
      "[]\n",
      "Ragnarök!\n"
     ]
    }
   ],
   "source": [
    "norse_gods = ['Thor', 'Odin', 'Freya']\n",
    "while len(norse_gods) > 0:\n",
    "    norse_god = norse_gods.pop(0)\n",
    "    print(norse_god + \", God of the North\")\n",
    "    print(norse_gods)\n",
    "print('Ragnarök!')"
   ]
  },
  {
   "cell_type": "markdown",
   "metadata": {},
   "source": [
    "NOTE: This entails that something **has to happen** ***within*** the loop to change the condition!"
   ]
  },
  {
   "cell_type": "markdown",
   "metadata": {
    "slideshow": {
     "slide_type": "subslide"
    }
   },
   "source": [
    "### Infinite loops\n",
    "\n",
    "A variation of the `while` loop is the `while True`-loop, which will keep on going forever, unless a condition is met. \n",
    "\n",
    "Luckily, it can be interrupted by the `break` keyword, which also can be used with `for`-loops."
   ]
  },
  {
   "cell_type": "code",
   "execution_count": 29,
   "metadata": {
    "slideshow": {
     "slide_type": "-"
    }
   },
   "outputs": [
    {
     "name": "stdout",
     "output_type": "stream",
     "text": [
      "Found Rick in 11 steps\n"
     ]
    }
   ],
   "source": [
    "from random import randint\n",
    "num_steps = 0\n",
    "people = ['John', 'Paul', 'George', 'Ringo', 'Rick', 'Morty', 'Archer', 'Lana']\n",
    "search_for = 'Rick'\n",
    "\n",
    "while True:\n",
    "    num_steps += 1\n",
    "    random_index = randint(0, len(people) - 1)\n",
    "    if people[random_index] == search_for:\n",
    "        print(\"Found {} in {} steps\".format(search_for, num_steps))\n",
    "        break"
   ]
  },
  {
   "cell_type": "markdown",
   "metadata": {
    "slideshow": {
     "slide_type": "subslide"
    }
   },
   "source": [
    "## Activity\n",
    "\n",
    "What happens if `search_for` is not actually in the list? What would the program do if the `break` statement was left out?"
   ]
  },
  {
   "cell_type": "markdown",
   "metadata": {
    "slideshow": {
     "slide_type": "subslide"
    }
   },
   "source": [
    "## Comprehensions\n",
    "\n",
    "Let's get back to lists, tuples, and dictionaries. There is another way to initialize them, involving loops and if-statements:\n",
    "\n",
    "```python\n",
    "list: [<statement> for var in <collection> [if <condition>]]\n",
    "tuple: (<statement> for var in <collection> [if <condition>])\n",
    "dict: {<key>: <value> for key, value in <collection> [if <condition>]}\n",
    "```"
   ]
  },
  {
   "cell_type": "markdown",
   "metadata": {
    "slideshow": {
     "slide_type": "subslide"
    }
   },
   "source": [
    "### Lists"
   ]
  },
  {
   "cell_type": "code",
   "execution_count": 30,
   "metadata": {},
   "outputs": [
    {
     "name": "stdout",
     "output_type": "stream",
     "text": [
      "307 µs ± 35.5 µs per loop (mean ± std. dev. of 7 runs, 1000 loops each)\n"
     ]
    }
   ],
   "source": [
    "%%timeit\n",
    "squares = [x**2 for x in range(1000)]"
   ]
  },
  {
   "cell_type": "code",
   "execution_count": 31,
   "metadata": {},
   "outputs": [
    {
     "name": "stdout",
     "output_type": "stream",
     "text": [
      "375 µs ± 28 µs per loop (mean ± std. dev. of 7 runs, 1000 loops each)\n"
     ]
    }
   ],
   "source": [
    "%%timeit\n",
    "squares = []\n",
    "for x in range(1000):\n",
    "    squares.append(x**2)"
   ]
  },
  {
   "cell_type": "markdown",
   "metadata": {
    "slideshow": {
     "slide_type": "subslide"
    }
   },
   "source": [
    "### Dictionaries"
   ]
  },
  {
   "cell_type": "code",
   "execution_count": 32,
   "metadata": {},
   "outputs": [
    {
     "name": "stdout",
     "output_type": "stream",
     "text": [
      "{'Lana Kane': 9, 'Sterling Archer': 15, 'Algernop Krieger': 16, 'Cheryl/Karol/Crystal Tunt': 25, 'Pam Poovey': 10}\n"
     ]
    }
   ],
   "source": [
    "names = ['Lana Kane', 'Sterling Archer', 'Algernop Krieger', 'Cheryl/Karol/Crystal Tunt', 'Pam Poovey']\n",
    "\n",
    "# map each name to its length in characters\n",
    "name_length = {name: len(name) for name in names}\n",
    "\n",
    "print(name_length)"
   ]
  },
  {
   "cell_type": "markdown",
   "metadata": {
    "slideshow": {
     "slide_type": "subslide"
    }
   },
   "source": [
    "These can get arbitrarily complex:"
   ]
  },
  {
   "cell_type": "code",
   "execution_count": 33,
   "metadata": {},
   "outputs": [
    {
     "name": "stdout",
     "output_type": "stream",
     "text": [
      "{'Lana Kane': {'skill': 'shooting', 'age': 32}, 'Sterling Archer': {'skill': 'drinking', 'age': 35}, 'Pam Poovey': {'skill': 'mixed martial arts', 'age': 34}}\n"
     ]
    }
   ],
   "source": [
    "employee_names = ['Lana Kane', 'Sterling Archer', 'Algernop Krieger', 'Cheryl/Karol/Crystal Tunt', 'Pam Poovey']\n",
    "employee_skills = [('shooting', 32),\n",
    "                   ('drinking', 35),\n",
    "                   (\"'science'\", 45),\n",
    "                   ('supervision', 28),\n",
    "                   ('mixed martial arts', 34)]\n",
    "\n",
    "# map each employee to a dictionary of their properties, but only if they are between 30 and 40\n",
    "employees_in_30s = {\n",
    "    employee_names[i]: dict(zip(['skill', 'age'], employee_skills[i])) \n",
    "    for i in range(len(employee_names)) if 40 > employee_skills[i][1] >= 30\n",
    "            }\n",
    "print(employees_in_30s)"
   ]
  },
  {
   "cell_type": "markdown",
   "metadata": {
    "slideshow": {
     "slide_type": "subslide"
    }
   },
   "source": [
    "## Activity\n",
    "\n",
    "* create a list `dog_people` of all pet owners who own a dog\n",
    "* create a dictionary that maps from each integer `i` in [1, 10] to a list of all smaller numbers by which you can cleanly divide `i`. \n",
    "\n",
    "HINT: `%` gives you the rest of a division."
   ]
  },
  {
   "cell_type": "code",
   "execution_count": 36,
   "metadata": {},
   "outputs": [
    {
     "data": {
      "text/plain": [
       "{'Mark': 'dog', 'Pia': 'dog'}"
      ]
     },
     "execution_count": 36,
     "metadata": {},
     "output_type": "execute_result"
    }
   ],
   "source": [
    "pet_owners = {'Linda': 'cat', 'Mark': 'dog', 'Eva': 'ozelot', 'John': 'cat', 'Kaj': 'platypus', 'Pia': 'dog'}\n",
    "# your code here\n",
    "\n",
    "dog_people = {owner: pet for owner, pet in pet_owners.items() if pet == 'dog'}\n",
    "        \n",
    "dog_people"
   ]
  }
 ],
 "metadata": {
  "anaconda-cloud": {},
  "celltoolbar": "Slideshow",
  "kernelspec": {
   "display_name": "Python 3",
   "language": "python",
   "name": "python3"
  },
  "language_info": {
   "codemirror_mode": {
    "name": "ipython",
    "version": 3
   },
   "file_extension": ".py",
   "mimetype": "text/x-python",
   "name": "python",
   "nbconvert_exporter": "python",
   "pygments_lexer": "ipython3",
   "version": "3.6.8"
  },
  "livereveal": {
   "scroll": true,
   "start_slideshow_at": "selected",
   "transition": "none"
  }
 },
 "nbformat": 4,
 "nbformat_minor": 1
}
