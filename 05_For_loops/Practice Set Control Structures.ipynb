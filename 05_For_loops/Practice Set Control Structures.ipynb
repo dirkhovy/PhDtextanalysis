{
 "cells": [
  {
   "cell_type": "markdown",
   "metadata": {},
   "source": [
    "# Practice Set"
   ]
  },
  {
   "cell_type": "markdown",
   "metadata": {},
   "source": [
    "# Iteration"
   ]
  },
  {
   "cell_type": "markdown",
   "metadata": {},
   "source": [
    "* Write the `for` loop as an equivalent `while` loop"
   ]
  },
  {
   "cell_type": "code",
   "execution_count": null,
   "metadata": {},
   "outputs": [],
   "source": [
    "pin_digits = [4, 7, 5, 3]\n",
    "\n",
    "for pin_digit in pin_digits:\n",
    "    print(pin_digit, end=' ')\n",
    "\n",
    "print()\n",
    "    \n",
    "# your code here\n"
   ]
  },
  {
   "cell_type": "markdown",
   "metadata": {},
   "source": [
    "### Default values\n",
    "* Print out all the names in `all_people`, retrieving the age from `people_age`, following this format:\n",
    "`Anna: 70 years`\n",
    "* If names are not in `people_age`, print `\"unknown\"` instead. \n",
    "\n",
    "HINT: You can use set operations to determine if a name is in the dictionary, or the default value in the `.get` function."
   ]
  },
  {
   "cell_type": "code",
   "execution_count": null,
   "metadata": {},
   "outputs": [],
   "source": [
    "people_age = {\"Anna\": 70 , \"Bob\": 55 , \"Carla\":  23 , \"David\" : 45 , \"Elisabeth\" : 12 ,\"Frank\" : 37}\n",
    "all_people = {\"Anna\", \"Bob\" , \"Carla\" , \"David\" , \"Elisabeth\", \"Frank\" ,\"Gisela\", \"Howard\"}\n",
    "\n",
    "#your code here\n"
   ]
  },
  {
   "cell_type": "markdown",
   "metadata": {},
   "source": [
    "### Distance to the moon"
   ]
  },
  {
   "cell_type": "markdown",
   "metadata": {},
   "source": [
    "Next we turn to a a pertinent scientific question: How many times do you need to fold a piece of paper in order to reach the moon?"
   ]
  },
  {
   "cell_type": "markdown",
   "metadata": {},
   "source": [
    "What value do you think `number_of_folds` should have?"
   ]
  },
  {
   "cell_type": "code",
   "execution_count": null,
   "metadata": {},
   "outputs": [],
   "source": [
    "paper_thickness_in_m = 0.02 / 1000\n",
    "distance_to_moon_in_m = 384400 * 1000\n",
    "\n",
    "folded_thickness = paper_thickness_in_m\n",
    "number_of_folds = 0\n",
    "\n",
    "# your code here\n"
   ]
  },
  {
   "cell_type": "markdown",
   "metadata": {
    "collapsed": true
   },
   "source": [
    "## Comprehension\n",
    "\n",
    "* write a list comprehension to get the unique elements in the following list in alphabetical order, without `spam`"
   ]
  },
  {
   "cell_type": "code",
   "execution_count": null,
   "metadata": {},
   "outputs": [],
   "source": [
    "assorted_fruit = ['apple', 'pear', 'banana', 'spam', 'lichee', 'apple', 'spam', 'cherry', 'spam', 'melon', 'spam']\n",
    "# your code here\n"
   ]
  },
  {
   "cell_type": "markdown",
   "metadata": {},
   "source": [
    "* create a dictionary comprehension to get a nested dictionary (as in the last lecture) from the two lists"
   ]
  },
  {
   "cell_type": "code",
   "execution_count": null,
   "metadata": {},
   "outputs": [],
   "source": [
    "names = ['Sterling Archer',\n",
    "         'Cheryl/Karol/Crystal Tunt',\n",
    "         'Lana Kane',\n",
    "         'Pam Poovey',\n",
    "         'Algernop Krieger']\n",
    "\n",
    "skills = [(35, 'drinking'),\n",
    "          (28, 'supervision'),\n",
    "          (32, 'shooting'),\n",
    "          (34, 'mixed martial arts'),\n",
    "          (45, \"'science'\")]\n",
    "\n",
    "# your code here\n"
   ]
  },
  {
   "cell_type": "code",
   "execution_count": null,
   "metadata": {},
   "outputs": [],
   "source": []
  }
 ],
 "metadata": {
  "anaconda-cloud": {},
  "kernelspec": {
   "display_name": "Python 3",
   "language": "python",
   "name": "python3"
  },
  "language_info": {
   "codemirror_mode": {
    "name": "ipython",
    "version": 3
   },
   "file_extension": ".py",
   "mimetype": "text/x-python",
   "name": "python",
   "nbconvert_exporter": "python",
   "pygments_lexer": "ipython3",
   "version": "3.6.8"
  }
 },
 "nbformat": 4,
 "nbformat_minor": 1
}
