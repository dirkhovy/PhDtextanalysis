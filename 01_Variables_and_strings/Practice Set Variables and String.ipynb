{
 "cells": [
  {
   "cell_type": "markdown",
   "metadata": {},
   "source": [
    "# Practice Set"
   ]
  },
  {
   "cell_type": "markdown",
   "metadata": {
    "slideshow": {
     "slide_type": "subslide"
    }
   },
   "source": [
    "## Activity\n",
    "\n",
    "* Assign your birth year to a variable called `birth_year`\n",
    "* Write a formula that computes the year when you are 100\n",
    "* Print the result in a string `\"In <YEAR> I will turn 100\"`"
   ]
  },
  {
   "cell_type": "code",
   "execution_count": null,
   "metadata": {},
   "outputs": [],
   "source": [
    "# your code here\n"
   ]
  },
  {
   "cell_type": "markdown",
   "metadata": {},
   "source": [
    "* compute the average length of the titles"
   ]
  },
  {
   "cell_type": "code",
   "execution_count": 3,
   "metadata": {},
   "outputs": [
    {
     "data": {
      "text/plain": [
       "19.5"
      ]
     },
     "execution_count": 3,
     "metadata": {},
     "output_type": "execute_result"
    }
   ],
   "source": [
    "ep1 = \"Lawnmower Dog\"\n",
    "ep2 = \"Anatomy Park\"\n",
    "ep3 = \"M. Night Shaym-Aliens!\"\n",
    "ep4 = \"Meeseeks and Destroy\"\n",
    "ep5 = \"Rick Potion #9\"\n",
    "ep6 = \"Raising Gazorpazorp\"\n",
    "ep7 = \"Rixty Minutes\"\n",
    "ep8 = \"Something Ricked This Way Comes\"\n",
    "ep9 = \"Close Rick-counters of the Rick Kind\"\n",
    "ep10 = \"Ricksy Business\"\n",
    "\n",
    "# your code here\n",
    "episodes = [ep1, ep2, ep3, ep4, ep5, ep6, ep7, ep8, ep9, ep10]\n",
    "sum([len(episode) for episode in episodes]) / len(episodes)"
   ]
  },
  {
   "cell_type": "markdown",
   "metadata": {},
   "source": [
    "* read up on the string methods `title()`, `strip()`, and `startswith()` [here](https://docs.python.org/3/library/stdtypes.html#string-methods) and use them on the string below"
   ]
  },
  {
   "cell_type": "code",
   "execution_count": 9,
   "metadata": {},
   "outputs": [
    {
     "name": "stdout",
     "output_type": "stream",
     "text": [
      "*   You are all individuals!   *\n",
      "|You are all individuals!|\n"
     ]
    }
   ],
   "source": [
    "some_string = \"   You are all individuals!   \"\n",
    "\n",
    "# your code here\n",
    "print(\"*{}*\".format(some_string))\n",
    "print(\"|{}|\".format(some_string.strip()))"
   ]
  },
  {
   "cell_type": "markdown",
   "metadata": {
    "slideshow": {
     "slide_type": "slide"
    }
   },
   "source": [
    "## Bloopers\n",
    "\n",
    "The following code snippets are not working. Try to find out what's wrong (hint: read the error messages) and correct it."
   ]
  },
  {
   "cell_type": "code",
   "execution_count": 10,
   "metadata": {
    "slideshow": {
     "slide_type": "subslide"
    }
   },
   "outputs": [
    {
     "name": "stdout",
     "output_type": "stream",
     "text": [
      "hello world\n"
     ]
    }
   ],
   "source": [
    "print('hello world')"
   ]
  },
  {
   "cell_type": "code",
   "execution_count": 11,
   "metadata": {
    "slideshow": {
     "slide_type": "subslide"
    }
   },
   "outputs": [
    {
     "name": "stdout",
     "output_type": "stream",
     "text": [
      "This is how you get 'ants'!\n"
     ]
    }
   ],
   "source": [
    "print(\"This is how you get 'ants'!\")"
   ]
  },
  {
   "cell_type": "code",
   "execution_count": 13,
   "metadata": {
    "slideshow": {
     "slide_type": "subslide"
    }
   },
   "outputs": [
    {
     "name": "stdout",
     "output_type": "stream",
     "text": [
      "True\n",
      "True\n"
     ]
    }
   ],
   "source": [
    "buzzword = 'bazinga'\n",
    "\n",
    "# The following should be True\n",
    "print(True is (buzzword == \"BAZINGA\".lower()))\n",
    "print(True is (buzzword.islower()))"
   ]
  },
  {
   "cell_type": "markdown",
   "metadata": {
    "collapsed": true
   },
   "source": [
    "## Read the code\n",
    "\n",
    "Read the code and explain to somebody else what it does."
   ]
  },
  {
   "cell_type": "code",
   "execution_count": null,
   "metadata": {},
   "outputs": [],
   "source": [
    "stage1 = 'mario'\n",
    "stage2 = stage1.capitalize() # Mario\n",
    "stage3 = stage2.upper() # MARIO\n",
    "\n",
    "title = \"Mario Land\"\n",
    "\n",
    "print(title.startswith(stage3) is False)\n"
   ]
  },
  {
   "cell_type": "code",
   "execution_count": null,
   "metadata": {},
   "outputs": [],
   "source": []
  }
 ],
 "metadata": {
  "kernelspec": {
   "display_name": "Python 3",
   "language": "python",
   "name": "python3"
  },
  "language_info": {
   "codemirror_mode": {
    "name": "ipython",
    "version": 3
   },
   "file_extension": ".py",
   "mimetype": "text/x-python",
   "name": "python",
   "nbconvert_exporter": "python",
   "pygments_lexer": "ipython3",
   "version": "3.6.8"
  }
 },
 "nbformat": 4,
 "nbformat_minor": 2
}
