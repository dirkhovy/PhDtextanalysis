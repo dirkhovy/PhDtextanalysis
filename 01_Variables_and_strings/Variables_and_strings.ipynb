{
 "cells": [
  {
   "cell_type": "markdown",
   "metadata": {
    "slideshow": {
     "slide_type": "slide"
    }
   },
   "source": [
    "# Variables and Strings\n"
   ]
  },
  {
   "cell_type": "markdown",
   "metadata": {
    "slideshow": {
     "slide_type": "slide"
    }
   },
   "source": [
    "## *\"Beauty is variable, ugliness is constant.\"*\n",
    "*(– Quasimodo)*"
   ]
  },
  {
   "cell_type": "markdown",
   "metadata": {
    "slideshow": {
     "slide_type": "slide"
    }
   },
   "source": [
    "## Variables"
   ]
  },
  {
   "cell_type": "markdown",
   "metadata": {
    "slideshow": {
     "slide_type": "notes"
    }
   },
   "source": [
    "How do we get something into the computer? We have to tell it: this is what **variables** do.\n",
    "\n",
    "- An **object** that stores any type of **value**. \n",
    "- A **name** associated with some value.\n",
    "- Creating a variable reserves some space for it in memory.\n",
    "\n",
    "Where statements compute a value, assignments *bind* the value to a *name* or *variable*. These variables can now be used everywhere the statement would go (variables are statements).\n",
    "\n",
    "Assignments consist of a right-hand side with a statement, a left-hand side with a name, and an equal sign (=) separating the two sides. \n"
   ]
  },
  {
   "cell_type": "markdown",
   "metadata": {
    "slideshow": {
     "slide_type": "fragment"
    }
   },
   "source": [
    "*Assignment* $\\rightarrow$ *Name* = *Statement* <br/>"
   ]
  },
  {
   "cell_type": "code",
   "execution_count": 4,
   "metadata": {
    "slideshow": {
     "slide_type": "fragment"
    }
   },
   "outputs": [],
   "source": [
    "x = 7\n",
    "first_number = x\n",
    "x = 1\n",
    "?first_number"
   ]
  },
  {
   "cell_type": "code",
   "execution_count": 6,
   "metadata": {
    "slideshow": {
     "slide_type": "fragment"
    }
   },
   "outputs": [
    {
     "name": "stdout",
     "output_type": "stream",
     "text": [
      "1\n",
      "7\n"
     ]
    }
   ],
   "source": [
    "print(x)\n",
    "print(first_number)"
   ]
  },
  {
   "cell_type": "markdown",
   "metadata": {
    "slideshow": {
     "slide_type": "notes"
    }
   },
   "source": [
    "To execute a cell, click the play button or alt+ENTER.\n",
    "However, nothing shows here: assignments do not generate any output. Time for our first helpful Python function: `print()`"
   ]
  },
  {
   "cell_type": "markdown",
   "metadata": {
    "slideshow": {
     "slide_type": "subslide"
    }
   },
   "source": [
    "### Activity time\n",
    "Create three variables, `a`, `b`, and `c`, and assign them each a whole number"
   ]
  },
  {
   "cell_type": "code",
   "execution_count": 7,
   "metadata": {
    "slideshow": {
     "slide_type": "-"
    }
   },
   "outputs": [],
   "source": [
    "# Your code here\n",
    "a = 7\n",
    "b = 5\n",
    "c = 1024"
   ]
  },
  {
   "cell_type": "markdown",
   "metadata": {
    "slideshow": {
     "slide_type": "subslide"
    }
   },
   "source": [
    "A variable **name** can be *almost* anything.\n",
    "- case matters (`a` is not the same as `A`)\n",
    "- no spaces allowed, use underscores `_` instead: `monty_python` instead of *`monty python`*\n",
    "- can not begin with a number, but contain them aftwards: `unsinkable3`, but not *`3stooges`*"
   ]
  },
  {
   "cell_type": "markdown",
   "metadata": {
    "slideshow": {
     "slide_type": "fragment"
    }
   },
   "source": [
    "While it may seem more work, *always* use long and descriptive variable names!\n",
    "\n",
    "TIP: instead of having to type long variable names, hit TAB to suggest autocompletions after a few letters."
   ]
  },
  {
   "cell_type": "markdown",
   "metadata": {
    "slideshow": {
     "slide_type": "subslide"
    }
   },
   "source": [
    "## Activity\n",
    "\n",
    "Correct these variable names:"
   ]
  },
  {
   "cell_type": "code",
   "execution_count": 10,
   "metadata": {},
   "outputs": [],
   "source": [
    "_stooges3 = 3\n",
    "bad_number = 9"
   ]
  },
  {
   "cell_type": "markdown",
   "metadata": {
    "slideshow": {
     "slide_type": "subslide"
    }
   },
   "source": [
    "## Operators\n",
    "\n",
    "We can use variables the same way we know from algebra.\n",
    "\n",
    "- addition: `+`\n",
    "- subtraction: `-`\n",
    "- multiplication: `*`\n",
    "- division: `/`\n",
    "- power: `**`"
   ]
  },
  {
   "cell_type": "markdown",
   "metadata": {},
   "source": [
    "If you need to change precedence, use bracktes:\n",
    "- `(3+5) * 2` if you neeed to add before multiplying"
   ]
  },
  {
   "cell_type": "markdown",
   "metadata": {
    "slideshow": {
     "slide_type": "subslide"
    }
   },
   "source": [
    "### Activity\n",
    " Use the variables `a`, `b`, and `c` you defined above to \n",
    " * compute `a` plus `b` minus `c`, and divide by `x`. \n",
    " * Assign the value to a new variable `y`.\n",
    " * print `y` out."
   ]
  },
  {
   "cell_type": "code",
   "execution_count": 11,
   "metadata": {},
   "outputs": [
    {
     "name": "stdout",
     "output_type": "stream",
     "text": [
      "-1012.0\n"
     ]
    }
   ],
   "source": [
    "# Your code here\n",
    "y = (a + b - c) / x\n",
    "print(y)"
   ]
  },
  {
   "cell_type": "markdown",
   "metadata": {
    "slideshow": {
     "slide_type": "slide"
    }
   },
   "source": [
    "### Data Types"
   ]
  },
  {
   "cell_type": "code",
   "execution_count": 15,
   "metadata": {},
   "outputs": [
    {
     "name": "stdout",
     "output_type": "stream",
     "text": [
      "<class 'int'>\n"
     ]
    }
   ],
   "source": [
    "print(type(a))"
   ]
  },
  {
   "cell_type": "markdown",
   "metadata": {
    "slideshow": {
     "slide_type": "notes"
    }
   },
   "source": [
    "You defined whole numbers above, **integers**, which in Python are represented as `int`. You probably got a number with a floating point as result in the last cell. In Python, these are marked `float`.\n",
    "\n",
    "Python automatically finds the right type for you."
   ]
  },
  {
   "cell_type": "markdown",
   "metadata": {
    "slideshow": {
     "slide_type": "subslide"
    }
   },
   "source": [
    "Sometimes, we require a number to be an integer, though. In that case, we either need to use **integer division** (use `//` instead of `/`), or **cast** the result to this type. We use a function called `int()` for that."
   ]
  },
  {
   "cell_type": "code",
   "execution_count": 32,
   "metadata": {},
   "outputs": [
    {
     "name": "stdout",
     "output_type": "stream",
     "text": [
      "1.40\n",
      "1\n",
      "1\n",
      "<class 'int'>\n"
     ]
    }
   ],
   "source": [
    "floating_point_result = 7 / 5  # = 1.4\n",
    "print('{0:.2f}'.format(floating_point_result))\n",
    "integer_version1 = 7//5  # = 1\n",
    "print(integer_version1)\n",
    "integer_version2 = int(floating_point_result)  # = 1\n",
    "print(integer_version2)\n",
    "print(type(integer_version1))"
   ]
  },
  {
   "cell_type": "markdown",
   "metadata": {
    "slideshow": {
     "slide_type": "subslide"
    }
   },
   "source": [
    "### Comparisons"
   ]
  },
  {
   "cell_type": "markdown",
   "metadata": {},
   "source": [
    "`integer_version1` and `integer_version2` should have the same value. To test this, we can check for **equality**. We use a *double* equals sign for this: `==`, and get a **boolean**"
   ]
  },
  {
   "cell_type": "code",
   "execution_count": 35,
   "metadata": {},
   "outputs": [
    {
     "name": "stdout",
     "output_type": "stream",
     "text": [
      "<class 'int'> <class 'float'> <class 'bool'>\n",
      "True\n"
     ]
    }
   ],
   "source": [
    "are_the_same = integer_version1 == integer_version2\n",
    "print(type(x), type(y), type(are_the_same))\n",
    "print(are_the_same)"
   ]
  },
  {
   "cell_type": "markdown",
   "metadata": {
    "slideshow": {
     "slide_type": "notes"
    }
   },
   "source": [
    "Forgetting one equals sign is one of the most common (and annoying) errors in programming. Everyone does it at least once."
   ]
  },
  {
   "cell_type": "markdown",
   "metadata": {
    "slideshow": {
     "slide_type": "subslide"
    }
   },
   "source": [
    "The result is another variable type, called **boolean** (in Python: `bool`). It has only two possible values, `True` or `False`.\n",
    "\n",
    "We can use booleans and **logical operations** to compute truth values of statements:\n",
    "```\n",
    "<STATEMENT> <OPERATOR> <STATMENT>\n",
    "```"
   ]
  },
  {
   "cell_type": "markdown",
   "metadata": {
    "collapsed": true,
    "slideshow": {
     "slide_type": "subslide"
    }
   },
   "source": [
    "### Numerical Comparison Operators\n",
    "- `==`, is equal to \n",
    "- `>`, greater than\n",
    "- `<`, less than\n",
    "- `>=`, greater than or equal\n",
    "- `<=`, less than or equal\n",
    "- `!=`, not equal"
   ]
  },
  {
   "cell_type": "markdown",
   "metadata": {
    "slideshow": {
     "slide_type": "subslide"
    }
   },
   "source": [
    "### Logical Operators\n",
    "- `and` is only true if both statements are true\n",
    "- `or` is true as long as one statement is true\n",
    "- `is` is true if both statements are the same\n",
    "- `not` before a statement reverses its value"
   ]
  },
  {
   "cell_type": "code",
   "execution_count": 36,
   "metadata": {},
   "outputs": [
    {
     "name": "stdout",
     "output_type": "stream",
     "text": [
      "True\n"
     ]
    }
   ],
   "source": [
    "k = True\n",
    "j = False\n",
    "an_axiom = k is not j\n",
    "print(an_axiom)"
   ]
  },
  {
   "cell_type": "markdown",
   "metadata": {
    "slideshow": {
     "slide_type": "slide"
    }
   },
   "source": [
    "## Strings\n",
    "\n",
    "Strings are a contiguous set of **characters** in between **quotation marks**, and have the type `str`.\n",
    "\n",
    "Single or double quote does not matter, unless we have one of them in the string."
   ]
  },
  {
   "cell_type": "code",
   "execution_count": 42,
   "metadata": {},
   "outputs": [
    {
     "name": "stdout",
     "output_type": "stream",
     "text": [
      "Thor aka 'The \"amazing\" Thundergod'\n"
     ]
    }
   ],
   "source": [
    "norse_god = 'Thor'\n",
    "norse_god_with_title = \"Thor aka 'The \\\"amazing\\\" Thundergod'\"\n",
    "print(norse_god_with_title)"
   ]
  },
  {
   "cell_type": "markdown",
   "metadata": {
    "slideshow": {
     "slide_type": "subslide"
    }
   },
   "source": [
    "### Useful String Methods"
   ]
  },
  {
   "cell_type": "markdown",
   "metadata": {},
   "source": [
    "All data types have **methods** built in. For example:\n",
    "- `islower()` and `lower()`\n",
    "- `isupper()` and `upper()`\n",
    "- `capitalize()`\n",
    "\n",
    "We can call these by using the variable name, followed by a dot (`.`), and then the method. Alternatively, you can use the operator of the data type, and give the variable as **argument** \n",
    "\n",
    "*Important*: methods need to end with the two brackets, `()`."
   ]
  },
  {
   "cell_type": "code",
   "execution_count": 47,
   "metadata": {},
   "outputs": [
    {
     "name": "stdout",
     "output_type": "stream",
     "text": [
      "Thor False\n",
      "True\n",
      "False\n",
      "False\n"
     ]
    }
   ],
   "source": [
    "# method 1\n",
    "print(norse_god, norse_god.islower() )\n",
    "print( 'thor'.islower() )\n",
    "\n",
    "# method 2\n",
    "print( str.islower(norse_god) )\n",
    "print( str.islower('Thor') )"
   ]
  },
  {
   "cell_type": "markdown",
   "metadata": {
    "slideshow": {
     "slide_type": "subslide"
    }
   },
   "source": [
    "### Activity\n",
    "\n",
    "- Define a new string, assign it to the variable `my_word`.\n",
    "- Test whether `my_word` is upper case and whether it's lower case.\n",
    "- Transform it to lowercase and assign it to the variable `small_word`.\n",
    "- Transform `my_word` to uppercase and assign it to the variable `BIGLY_word`.\n",
    "- Test whether `my_word` is equal to `small_word` or to `BIGLY_word`."
   ]
  },
  {
   "cell_type": "code",
   "execution_count": 72,
   "metadata": {
    "slideshow": {
     "slide_type": "-"
    }
   },
   "outputs": [
    {
     "name": "stdout",
     "output_type": "stream",
     "text": [
      "False\n",
      "False\n",
      "bocconi\n",
      "BOCCONI\n",
      "False\n"
     ]
    }
   ],
   "source": [
    "# Your code here\n",
    "my_word = 'Bocconi'\n",
    "print(my_word.isupper())\n",
    "print(my_word.isupper() or my_word.islower())\n",
    "small_word = str.lower(my_word)\n",
    "print(small_word)\n",
    "BIGLY_word = str.upper(my_word)\n",
    "print(BIGLY_word)\n",
    "print(BIGLY_word == my_word or small_word == my_word)"
   ]
  },
  {
   "cell_type": "markdown",
   "metadata": {
    "slideshow": {
     "slide_type": "subslide"
    }
   },
   "source": [
    "There is also a general Python function, to get the length of objects\n",
    "- `len(<STRING>)` returns the number of characters in a string"
   ]
  },
  {
   "cell_type": "markdown",
   "metadata": {
    "slideshow": {
     "slide_type": "subslide"
    }
   },
   "source": [
    "### Activity\n",
    "\n",
    "- Assign the value `\"ciao\"` to a variable called `deutsches_wort_um_guten_morgen_zu_sagen`.\n",
    "- Print out whether the length of this variable equals 4"
   ]
  },
  {
   "cell_type": "code",
   "execution_count": 85,
   "metadata": {},
   "outputs": [
    {
     "name": "stdout",
     "output_type": "stream",
     "text": [
      "True\n",
      "buon giorno\n",
      "BUON GIORNO\n"
     ]
    }
   ],
   "source": [
    "# Your code here\n",
    "deutsches_wort_um_guten_morgen_zu_sagen = 'ciao'\n",
    "print(len(deutsches_wort_um_guten_morgen_zu_sagen) == 4)\n",
    "\n",
    "italian_good_morning = 'buon giorno'\n",
    "print(italian_good_morning.lower())\n",
    "print(italian_good_morning.upper())\n"
   ]
  },
  {
   "cell_type": "markdown",
   "metadata": {
    "slideshow": {
     "slide_type": "subslide"
    }
   },
   "source": [
    "### Formatting: Putting things together"
   ]
  },
  {
   "cell_type": "markdown",
   "metadata": {},
   "source": [
    "You can use some arithmetic operator on strings:\n",
    "- `+` concatenates two strings into one long string\n",
    "- `*` can be used to repeat a string"
   ]
  },
  {
   "cell_type": "code",
   "execution_count": 86,
   "metadata": {},
   "outputs": [
    {
     "name": "stdout",
     "output_type": "stream",
     "text": [
      "hahahahahahahahahahahahahahahahahahahahahahahahahahahahahahahahahahahahahahahahahahahahahahahahahaha\n",
      "heehawhoo\n"
     ]
    }
   ],
   "source": [
    "print('ha' * 50)\n",
    "sound = 'haw'\n",
    "print('hee' + sound + 'hoo')"
   ]
  },
  {
   "cell_type": "markdown",
   "metadata": {
    "slideshow": {
     "slide_type": "subslide"
    }
   },
   "source": [
    "However, concatenating strings with other variable types does not work:"
   ]
  },
  {
   "cell_type": "code",
   "execution_count": 87,
   "metadata": {},
   "outputs": [
    {
     "ename": "TypeError",
     "evalue": "must be str, not int",
     "output_type": "error",
     "traceback": [
      "\u001b[0;31m---------------------------------------------------------------------------\u001b[0m",
      "\u001b[0;31mTypeError\u001b[0m                                 Traceback (most recent call last)",
      "\u001b[0;32m<ipython-input-87-529c1c69c984>\u001b[0m in \u001b[0;36m<module>\u001b[0;34m\u001b[0m\n\u001b[1;32m      1\u001b[0m \u001b[0mshow\u001b[0m \u001b[0;34m=\u001b[0m \u001b[0;34m\"Archer\"\u001b[0m\u001b[0;34m\u001b[0m\u001b[0;34m\u001b[0m\u001b[0m\n\u001b[1;32m      2\u001b[0m \u001b[0mbest_season\u001b[0m \u001b[0;34m=\u001b[0m \u001b[0;36m3\u001b[0m\u001b[0;34m\u001b[0m\u001b[0;34m\u001b[0m\u001b[0m\n\u001b[0;32m----> 3\u001b[0;31m \u001b[0mprint\u001b[0m\u001b[0;34m(\u001b[0m\u001b[0;34m\"The best \"\u001b[0m \u001b[0;34m+\u001b[0m \u001b[0mshow\u001b[0m \u001b[0;34m+\u001b[0m \u001b[0;34m\" season is season \"\u001b[0m \u001b[0;34m+\u001b[0m \u001b[0mbest_season\u001b[0m\u001b[0;34m)\u001b[0m\u001b[0;34m\u001b[0m\u001b[0;34m\u001b[0m\u001b[0m\n\u001b[0m",
      "\u001b[0;31mTypeError\u001b[0m: must be str, not int"
     ]
    }
   ],
   "source": [
    "show = \"Archer\"\n",
    "best_season = 3\n",
    "print(\"The best \" + show + \" season is season \" + best_season)"
   ]
  },
  {
   "cell_type": "markdown",
   "metadata": {
    "slideshow": {
     "slide_type": "subslide"
    }
   },
   "source": [
    "Instead, we need to **format** a string with the `format()` method. \n",
    "\n",
    "This method takes **arguments**, i.e., the values we want to put in the string. Use `{}` to define where the placeholder in the string should be:"
   ]
  },
  {
   "cell_type": "code",
   "execution_count": 91,
   "metadata": {},
   "outputs": [
    {
     "name": "stdout",
     "output_type": "stream",
     "text": [
      "The best Archer season is season 3\n"
     ]
    }
   ],
   "source": [
    "print(\"The best {} season is season {}\".format(show, best_season, show, 562456453, 'Thor'))"
   ]
  },
  {
   "cell_type": "markdown",
   "metadata": {
    "slideshow": {
     "slide_type": "subslide"
    }
   },
   "source": [
    "### Activity\n",
    "\n",
    "- Define a string variable `course` and an integer variable `grade` and give them some values\n",
    "- Print `\"My favorite class was <COURSE> because I got <GRADE>\"`, by formatting the string to use your values."
   ]
  },
  {
   "cell_type": "code",
   "execution_count": null,
   "metadata": {},
   "outputs": [],
   "source": [
    "# Your code here\n"
   ]
  },
  {
   "cell_type": "markdown",
   "metadata": {
    "slideshow": {
     "slide_type": "subslide"
    }
   },
   "source": [
    "### Knowing what is what\n",
    "\n",
    "Sometimes, we need to know what type a variable has, in order to decide what functions we can use. Python has a function for this called `type()`."
   ]
  },
  {
   "cell_type": "code",
   "execution_count": null,
   "metadata": {},
   "outputs": [],
   "source": [
    "print(type(3))\n",
    "print(type(3/5))\n",
    "print(type(\"3\"))\n",
    "print(type(False))"
   ]
  }
 ],
 "metadata": {
  "anaconda-cloud": {},
  "celltoolbar": "Slideshow",
  "kernelspec": {
   "display_name": "Python 3",
   "language": "python",
   "name": "python3"
  },
  "language_info": {
   "codemirror_mode": {
    "name": "ipython",
    "version": 3
   },
   "file_extension": ".py",
   "mimetype": "text/x-python",
   "name": "python",
   "nbconvert_exporter": "python",
   "pygments_lexer": "ipython3",
   "version": "3.6.8"
  },
  "livereveal": {
   "scroll": true,
   "start_slideshow_at": "selected",
   "transition": "none"
  }
 },
 "nbformat": 4,
 "nbformat_minor": 1
}
