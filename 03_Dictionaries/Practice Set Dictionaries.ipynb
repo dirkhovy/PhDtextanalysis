{
 "cells": [
  {
   "cell_type": "markdown",
   "metadata": {},
   "source": [
    "# Practice Set"
   ]
  },
  {
   "cell_type": "markdown",
   "metadata": {},
   "source": [
    "## Dictionaries"
   ]
  },
  {
   "cell_type": "markdown",
   "metadata": {},
   "source": [
    "### Getting used to dictionaries"
   ]
  },
  {
   "cell_type": "markdown",
   "metadata": {},
   "source": [
    "* Build a dictionary `land_capital` where the keys are country names and the values are their capitals. Add at least five countries."
   ]
  },
  {
   "cell_type": "code",
   "execution_count": 2,
   "metadata": {},
   "outputs": [
    {
     "data": {
      "text/plain": [
       "{'Italy': 'Rome',\n",
       " 'France': 'Paris',\n",
       " 'Germany': 'Berlin',\n",
       " 'England': 'London',\n",
       " 'China': 'Beijing',\n",
       " 'US': 'Washington DC'}"
      ]
     },
     "execution_count": 2,
     "metadata": {},
     "output_type": "execute_result"
    }
   ],
   "source": [
    "# Your code here\n",
    "countries = 'Italy France Germany England China US'.split()\n",
    "capitals = 'Rome, Paris, Berlin, London, Beijing, Washington DC'.split(', ')\n",
    "land_capitals = dict(zip(countries, capitals))\n",
    "land_capitals"
   ]
  },
  {
   "cell_type": "markdown",
   "metadata": {},
   "source": [
    "* Print the keys of the `land_capital` dictionary in alphabetical order of countries."
   ]
  },
  {
   "cell_type": "code",
   "execution_count": 15,
   "metadata": {},
   "outputs": [
    {
     "name": "stdout",
     "output_type": "stream",
     "text": [
      "None\n",
      "['China', 'England', 'France', 'Germany', 'Italy', 'US']\n"
     ]
    }
   ],
   "source": [
    "# Your code here\n",
    "print(list(land_capitals.keys()).sort())\n",
    "\n",
    "print(sorted(land_capitals))\n",
    "\n"
   ]
  },
  {
   "cell_type": "markdown",
   "metadata": {},
   "source": [
    "* modify your dictionary so that you return a warning `\"Country not in dictionary\"` when trying to retrieve a country that is not defined"
   ]
  },
  {
   "cell_type": "code",
   "execution_count": 26,
   "metadata": {},
   "outputs": [
    {
     "name": "stdout",
     "output_type": "stream",
     "text": [
      "Country not in dictionary\n",
      "Country not in dictionary\n",
      "defaultdict(<function return_default at 0x1097feae8>, {'Italy': 'Rome', 'France': 'Paris', 'Germany': 'Berlin', 'England': 'London', 'China': 'Beijing', 'US': 'Washington DC', 'Mongolia': 'Country not in dictionary', 'Iran': 'Country not in dictionary'})\n"
     ]
    }
   ],
   "source": [
    "# Your code here\n",
    "from collections import defaultdict\n",
    "\n",
    "def return_default():\n",
    "    return \"Country not in dictionary\"\n",
    "\n",
    "\n",
    "# land_capitals_default = defaultdict(return_default)\n",
    "land_capitals_default = defaultdict(lambda: \"Country not in dictionary\")\n",
    "land_capitals_default.update(land_capitals)\n",
    "\n",
    "print(land_capitals_default['Mongolia'])\n",
    "print(land_capitals_default['Iran'])\n",
    "print(land_capitals_default)\n"
   ]
  },
  {
   "cell_type": "markdown",
   "metadata": {},
   "source": [
    "### Fat cats"
   ]
  },
  {
   "cell_type": "markdown",
   "metadata": {},
   "source": [
    "Domestic cat overweight is a serious concern to many owners and lovers. \n",
    "A concerned owner of several cats has contacted you for advice.\n",
    "\n",
    "The `cats` dictionary gives you pairs of cats names and their weight."
   ]
  },
  {
   "cell_type": "code",
   "execution_count": 27,
   "metadata": {},
   "outputs": [],
   "source": [
    "cats = {\"Socks\": 3.7 , \"Oreo\": 3.1, \"MrWhiskers\":  4.5 , \"Princess\" : 3.3, \"Pumpkin\" : 4.3 ,\"Peanut\" : 2.7}"
   ]
  },
  {
   "cell_type": "markdown",
   "metadata": {},
   "source": [
    "* We are taking all the cats to the vet. Can you find the total weight of cats? \n",
    "\n",
    "* Our basket can only hold 20 kgs. Will the basket break? Hint: Read about the `sum()` function [here](https://docs.python.org/3/library/functions.html#sum)"
   ]
  },
  {
   "cell_type": "code",
   "execution_count": 28,
   "metadata": {},
   "outputs": [
    {
     "name": "stdout",
     "output_type": "stream",
     "text": [
      "21.6 True\n"
     ]
    }
   ],
   "source": [
    "# your code here\n",
    "weight = sum(cats.values())\n",
    "print(weight, weight > 20)"
   ]
  },
  {
   "cell_type": "markdown",
   "metadata": {},
   "source": [
    "* What is the average cat weight?"
   ]
  },
  {
   "cell_type": "code",
   "execution_count": 29,
   "metadata": {},
   "outputs": [
    {
     "data": {
      "text/plain": [
       "3.6"
      ]
     },
     "execution_count": 29,
     "metadata": {},
     "output_type": "execute_result"
    }
   ],
   "source": [
    "# your code here\n",
    "weight / len(cats)"
   ]
  },
  {
   "cell_type": "markdown",
   "metadata": {},
   "source": [
    "### Counting sheep\n",
    "\n",
    "You inherited a sheep farm, and the first job is to take stock. Sheep names are not very inventive, but:\n",
    "* how many different names are there?\n",
    "* how many sheep have each name?"
   ]
  },
  {
   "cell_type": "code",
   "execution_count": 30,
   "metadata": {},
   "outputs": [
    {
     "data": {
      "text/plain": [
       "Counter({'Shawn': 28,\n",
       "         'Shelly': 14,\n",
       "         'Shoopshoop': 19,\n",
       "         'Sugar': 11,\n",
       "         'Sherlock': 7})"
      ]
     },
     "execution_count": 30,
     "metadata": {},
     "output_type": "execute_result"
    }
   ],
   "source": [
    "sheep = ['Shawn', 'Shelly', 'Shawn', 'Shelly', 'Shoopshoop', 'Sugar', 'Sugar', 'Shoopshoop', 'Sherlock', 'Sherlock', 'Shoopshoop', 'Shawn', 'Shawn', 'Sherlock', 'Shawn', 'Shoopshoop', 'Shoopshoop', 'Shoopshoop', 'Shawn', 'Shawn', 'Shawn', 'Shawn', 'Sugar', 'Sugar', 'Shawn', 'Shawn', 'Sugar', 'Shelly', 'Shelly', 'Shelly', 'Shoopshoop', 'Shawn', 'Sugar', 'Shelly', 'Shawn', 'Shoopshoop', 'Shawn', 'Shawn', 'Shawn', 'Shelly', 'Sugar', 'Sherlock', 'Shoopshoop', 'Shelly', 'Shawn', 'Shawn', 'Shoopshoop', 'Shawn', 'Shelly', 'Shoopshoop', 'Shelly', 'Shoopshoop', 'Sugar', 'Sherlock', 'Sherlock', 'Sugar', 'Shoopshoop', 'Sugar', 'Shawn', 'Shawn', 'Shoopshoop', 'Shoopshoop', 'Shoopshoop', 'Shawn', 'Shelly', 'Shelly', 'Shawn', 'Sugar', 'Shawn', 'Sherlock', 'Shoopshoop', 'Shawn', 'Shoopshoop', 'Shelly', 'Shawn', 'Shoopshoop', 'Shawn', 'Shawn', 'Shelly']\n",
    "\n",
    "# your code here\n",
    "from collections import Counter\n",
    "Counter(sheep)"
   ]
  },
  {
   "cell_type": "markdown",
   "metadata": {},
   "source": [
    "### Geoinformation\n",
    "\n",
    "Update your country dictionaries from above so that each country name now links to a dictionary with `capital`, `population`, and `music`. Create at least 3 countries."
   ]
  },
  {
   "cell_type": "code",
   "execution_count": null,
   "metadata": {},
   "outputs": [],
   "source": [
    "# your code here\n"
   ]
  },
  {
   "cell_type": "markdown",
   "metadata": {},
   "source": [
    "# Bloopers"
   ]
  },
  {
   "cell_type": "code",
   "execution_count": 40,
   "metadata": {},
   "outputs": [
    {
     "data": {
      "text/plain": [
       "defaultdict(int,\n",
       "            {'dogs': 432,\n",
       "             'cats': 340,\n",
       "             'anacondas': 17,\n",
       "             'goldfish': 78,\n",
       "             'walrus': 1})"
      ]
     },
     "execution_count": 40,
     "metadata": {},
     "output_type": "execute_result"
    }
   ],
   "source": [
    "counts = {'dogs': 432, 'cats': 340, 'anacondas': 17, 'goldfish': 78}\n",
    "counts_d = defaultdict(int)\n",
    "counts_d.update(counts)\n",
    "counts = counts_d\n",
    "counts['walrus'] = counts['walrus'] + 1\n",
    "counts"
   ]
  },
  {
   "cell_type": "code",
   "execution_count": 46,
   "metadata": {},
   "outputs": [
    {
     "name": "stdout",
     "output_type": "stream",
     "text": [
      "False\n",
      "False\n",
      "{'walk': {'NOUN': True, 'VERB': True}, 'dance': {'NOUN': True, 'VERB': True}, 'peace': {'NOUN': True, 'VERB': False}, 'eat': {'NOUN': False, 'VERB': True}}\n"
     ]
    }
   ],
   "source": [
    "word_types = {'walk': {'NOUN': True, 'VERB': True},\n",
    "              'dance': {'NOUN': True, 'VERB': True},\n",
    "              'peace': {'NOUN': True, 'VERB': False},\n",
    "              'eat': {'NOUN': False, 'VERB': True}\n",
    "             }\n",
    "\n",
    "# print(word_types.get('chug').get('NOUN'))\n",
    "print(word_types.get('chug', {'NOUN': False, 'VERB': False}).get('NOUN'))\n",
    "print(word_types.get('chug', defaultdict(bool))['NOUN'])\n",
    "print(word_types)"
   ]
  },
  {
   "cell_type": "code",
   "execution_count": 48,
   "metadata": {},
   "outputs": [
    {
     "name": "stdout",
     "output_type": "stream",
     "text": [
      "{'sheep': 'sheep', 'moose': 'meese', 'fish': 'fishez', 'platypus': 'platypi'}\n"
     ]
    }
   ],
   "source": [
    "singular = ['sheep', 'moose', 'fish', 'platypus', 'lion']\n",
    "plural = ['sheep', 'meese', 'fishez', 'platypi']\n",
    "word_plurals = dict(zip(singular, plural))\n",
    "print(word_plurals)"
   ]
  },
  {
   "cell_type": "markdown",
   "metadata": {},
   "source": [
    "## Read the code\n",
    "\n",
    "Read the code and explain to somebody else what it does."
   ]
  },
  {
   "cell_type": "code",
   "execution_count": 50,
   "metadata": {},
   "outputs": [
    {
     "name": "stdout",
     "output_type": "stream",
     "text": [
      "[False, False, False, False, False, False, False, False]\n",
      "[True, False, False, False, False, False, False, False]\n",
      "{'Earth': True, 'Jupyter': False, 'Mars': False, 'Moon': False, 'Pluto': False, 'Sun': False, 'Uranus': False, 'Venus': False}\n"
     ]
    }
   ],
   "source": [
    "planets = sorted(set('Sun|Earth|Moon|Venus|Mars|Jupyter|Uranus|Pluto|Sun'.split(\"|\")))\n",
    "inhabitable = [False] * len(planets)\n",
    "print(inhabitable)\n",
    "inhabitable[planets.index('Earth')] = True\n",
    "print(inhabitable)\n",
    "conditions = dict(zip(planets, inhabitable))\n",
    "print(conditions)"
   ]
  },
  {
   "cell_type": "code",
   "execution_count": null,
   "metadata": {},
   "outputs": [],
   "source": []
  }
 ],
 "metadata": {
  "anaconda-cloud": {},
  "kernelspec": {
   "display_name": "Python 3",
   "language": "python",
   "name": "python3"
  },
  "language_info": {
   "codemirror_mode": {
    "name": "ipython",
    "version": 3
   },
   "file_extension": ".py",
   "mimetype": "text/x-python",
   "name": "python",
   "nbconvert_exporter": "python",
   "pygments_lexer": "ipython3",
   "version": "3.6.8"
  }
 },
 "nbformat": 4,
 "nbformat_minor": 1
}
