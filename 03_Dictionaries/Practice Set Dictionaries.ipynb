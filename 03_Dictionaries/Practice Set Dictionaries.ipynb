{
 "cells": [
  {
   "cell_type": "markdown",
   "metadata": {},
   "source": [
    "# Practice Set"
   ]
  },
  {
   "cell_type": "markdown",
   "metadata": {},
   "source": [
    "## Dictionaries"
   ]
  },
  {
   "cell_type": "markdown",
   "metadata": {},
   "source": [
    "### Getting used to dictionaries"
   ]
  },
  {
   "cell_type": "markdown",
   "metadata": {},
   "source": [
    "* Build a dictionary `land_capital` where the keys are country names and the values are their capitals. Add at least five countries."
   ]
  },
  {
   "cell_type": "code",
   "execution_count": null,
   "metadata": {},
   "outputs": [],
   "source": [
    "# Your code here\n"
   ]
  },
  {
   "cell_type": "markdown",
   "metadata": {},
   "source": [
    "* Print the keys of the `land_capital` dictionary in alphabetical order of countries."
   ]
  },
  {
   "cell_type": "code",
   "execution_count": null,
   "metadata": {},
   "outputs": [],
   "source": [
    "# Your code here\n"
   ]
  },
  {
   "cell_type": "markdown",
   "metadata": {},
   "source": [
    "* modify your dictionary so that you return a warning `\"Country not in dictionary\"` when trying to retrieve a country that is not defined"
   ]
  },
  {
   "cell_type": "code",
   "execution_count": null,
   "metadata": {},
   "outputs": [],
   "source": [
    "# Your code here\n"
   ]
  },
  {
   "cell_type": "markdown",
   "metadata": {},
   "source": [
    "### Fat cats"
   ]
  },
  {
   "cell_type": "markdown",
   "metadata": {},
   "source": [
    "Domestic cat overweight is a serious concern to many owners and lovers. \n",
    "A concerned owner of several cats has contacted you for advice.\n",
    "\n",
    "The `cats` dictionary gives you pairs of cats names and their weight."
   ]
  },
  {
   "cell_type": "code",
   "execution_count": null,
   "metadata": {},
   "outputs": [],
   "source": [
    "cats = {\"Socks\": 3.7 , \"Oreo\": 3.1, \"MrWhiskers\":  4.5 , \"Princess\" : 3.3, \"Pumpkin\" : 4.3 ,\"Peanut\" : 2.7}"
   ]
  },
  {
   "cell_type": "markdown",
   "metadata": {},
   "source": [
    "* We are taking all the cats to the vet. Can you find the total weight of cats? \n",
    "\n",
    "* Our basket can only hold 20 kgs. Will the basket break? Hint: Read about the `sum()` function [here](https://docs.python.org/3/library/functions.html#sum)"
   ]
  },
  {
   "cell_type": "code",
   "execution_count": null,
   "metadata": {},
   "outputs": [],
   "source": [
    "# your code here\n"
   ]
  },
  {
   "cell_type": "markdown",
   "metadata": {},
   "source": [
    "* What is the average cat weight?"
   ]
  },
  {
   "cell_type": "code",
   "execution_count": null,
   "metadata": {},
   "outputs": [],
   "source": [
    "# your code here\n"
   ]
  },
  {
   "cell_type": "markdown",
   "metadata": {},
   "source": [
    "### Counting sheep\n",
    "\n",
    "You inherited a sheep farm, and the first job is to take stock. Sheep names are not very inventive, but:\n",
    "* how many different names are there?\n",
    "* how many sheep have each name?"
   ]
  },
  {
   "cell_type": "code",
   "execution_count": null,
   "metadata": {},
   "outputs": [],
   "source": [
    "sheep = ['Shawn', 'Shelly', 'Shawn', 'Shelly', 'Shoopshoop', 'Sugar', 'Sugar', 'Shoopshoop', 'Sherlock', 'Sherlock', 'Shoopshoop', 'Shawn', 'Shawn', 'Sherlock', 'Shawn', 'Shoopshoop', 'Shoopshoop', 'Shoopshoop', 'Shawn', 'Shawn', 'Shawn', 'Shawn', 'Sugar', 'Sugar', 'Shawn', 'Shawn', 'Sugar', 'Shelly', 'Shelly', 'Shelly', 'Shoopshoop', 'Shawn', 'Sugar', 'Shelly', 'Shawn', 'Shoopshoop', 'Shawn', 'Shawn', 'Shawn', 'Shelly', 'Sugar', 'Sherlock', 'Shoopshoop', 'Shelly', 'Shawn', 'Shawn', 'Shoopshoop', 'Shawn', 'Shelly', 'Shoopshoop', 'Shelly', 'Shoopshoop', 'Sugar', 'Sherlock', 'Sherlock', 'Sugar', 'Shoopshoop', 'Sugar', 'Shawn', 'Shawn', 'Shoopshoop', 'Shoopshoop', 'Shoopshoop', 'Shawn', 'Shelly', 'Shelly', 'Shawn', 'Sugar', 'Shawn', 'Sherlock', 'Shoopshoop', 'Shawn', 'Shoopshoop', 'Shelly', 'Shawn', 'Shoopshoop', 'Shawn', 'Shawn', 'Shelly']\n",
    "\n",
    "# your code here\n"
   ]
  },
  {
   "cell_type": "markdown",
   "metadata": {},
   "source": [
    "### Geoinformation\n",
    "\n",
    "Update your country dictionaries from above so that each country name now links to a dictionary with `capital`, `population`, and `music`. Create at least 3 countries."
   ]
  },
  {
   "cell_type": "code",
   "execution_count": null,
   "metadata": {},
   "outputs": [],
   "source": [
    "# your code here\n"
   ]
  },
  {
   "cell_type": "markdown",
   "metadata": {},
   "source": [
    "# Bloopers"
   ]
  },
  {
   "cell_type": "code",
   "execution_count": null,
   "metadata": {},
   "outputs": [],
   "source": [
    "counts = {'dogs': 432, 'cats': 340, 'anacondas':17, 'goldfish': 78}\n",
    "counts['walrus'] = counts['walrus'] + 1\n",
    "counts"
   ]
  },
  {
   "cell_type": "code",
   "execution_count": null,
   "metadata": {},
   "outputs": [],
   "source": [
    "word_types = {'walk': {'NOUN': True, 'VERB': True},\n",
    "              'dance': {'NOUN': True, 'VERB': True},\n",
    "              'peace': {'NOUN': True, 'VERB': False},\n",
    "              'eat': {'NOUN': False, 'VERB': True}\n",
    "             }\n",
    "\n",
    "print(word_types.get('chug').get('NOUN'))"
   ]
  },
  {
   "cell_type": "code",
   "execution_count": null,
   "metadata": {},
   "outputs": [],
   "source": [
    "singular = ['sheep', 'moose', 'fish', 'platypus', 'lion']\n",
    "plural = {'sheep', 'meese', 'fishez', 'platypi'}\n",
    "word_plurals = dict(zip(singular, plural))\n",
    "print(word_plurals)"
   ]
  },
  {
   "cell_type": "markdown",
   "metadata": {},
   "source": [
    "## Read the code\n",
    "\n",
    "Read the code and explain to somebody else what it does."
   ]
  },
  {
   "cell_type": "code",
   "execution_count": null,
   "metadata": {},
   "outputs": [],
   "source": [
    "planets = sorted(set('Sun|Earth|Moon|Venus|Mars|Jupyter|Uranus|Pluto|Sun'.split(\"|\")))\n",
    "inhabitable = [False] * len(planets)\n",
    "print(inhabitable)\n",
    "inhabitable[planets.index('Earth')] = True\n",
    "print(inhabitable)\n",
    "conditions = dict(zip(planets, inhabitable))\n",
    "print(conditions)"
   ]
  },
  {
   "cell_type": "code",
   "execution_count": null,
   "metadata": {},
   "outputs": [],
   "source": []
  }
 ],
 "metadata": {
  "anaconda-cloud": {},
  "kernelspec": {
   "display_name": "Python 3",
   "language": "python",
   "name": "python3"
  },
  "language_info": {
   "codemirror_mode": {
    "name": "ipython",
    "version": 3
   },
   "file_extension": ".py",
   "mimetype": "text/x-python",
   "name": "python",
   "nbconvert_exporter": "python",
   "pygments_lexer": "ipython3",
   "version": "3.6.8"
  }
 },
 "nbformat": 4,
 "nbformat_minor": 1
}
