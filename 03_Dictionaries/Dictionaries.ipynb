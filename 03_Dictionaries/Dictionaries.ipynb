{
 "cells": [
  {
   "cell_type": "markdown",
   "metadata": {
    "slideshow": {
     "slide_type": "slide"
    }
   },
   "source": [
    "# Dictionaries"
   ]
  },
  {
   "cell_type": "markdown",
   "metadata": {
    "slideshow": {
     "slide_type": "slide"
    }
   },
   "source": [
    "## *\"If a word in the dictionary were misspelled, how would we know?\"*\n",
    "*(–Noah Webster)*"
   ]
  },
  {
   "cell_type": "markdown",
   "metadata": {
    "slideshow": {
     "slide_type": "slide"
    }
   },
   "source": [
    "## But first: One more data structure, Tuples\n",
    "\n",
    "- are similar to lists (**ordered**, indexed), but they are **immutable**, i.e., once they are initialized, they can not be changed. \n",
    "- have no `append()` or `delete()`.\n",
    "- are enclosed by round brackets `()`, and can otherwise be accessed like lists, e.g. with slicing."
   ]
  },
  {
   "cell_type": "code",
   "execution_count": 4,
   "metadata": {},
   "outputs": [
    {
     "name": "stdout",
     "output_type": "stream",
     "text": [
      "(1, 2)\n"
     ]
    },
    {
     "ename": "TypeError",
     "evalue": "'tuple' object does not support item assignment",
     "output_type": "error",
     "traceback": [
      "\u001b[0;31m---------------------------------------------------------------------------\u001b[0m",
      "\u001b[0;31mTypeError\u001b[0m                                 Traceback (most recent call last)",
      "\u001b[0;32m<ipython-input-4-04cb38a03ca8>\u001b[0m in \u001b[0;36m<module>\u001b[0;34m\u001b[0m\n\u001b[1;32m      4\u001b[0m \u001b[0;31m# immutable\u001b[0m\u001b[0;34m\u001b[0m\u001b[0;34m\u001b[0m\u001b[0;34m\u001b[0m\u001b[0m\n\u001b[1;32m      5\u001b[0m \u001b[0;31m# x.append(4)\u001b[0m\u001b[0;34m\u001b[0m\u001b[0;34m\u001b[0m\u001b[0;34m\u001b[0m\u001b[0m\n\u001b[0;32m----> 6\u001b[0;31m \u001b[0mx\u001b[0m\u001b[0;34m[\u001b[0m\u001b[0;36m1\u001b[0m\u001b[0;34m]\u001b[0m \u001b[0;34m=\u001b[0m \u001b[0;36m5\u001b[0m\u001b[0;34m\u001b[0m\u001b[0;34m\u001b[0m\u001b[0m\n\u001b[0m",
      "\u001b[0;31mTypeError\u001b[0m: 'tuple' object does not support item assignment"
     ]
    }
   ],
   "source": [
    "# x = (1,2,3)\n",
    "# ordered and indexed\n",
    "print(x[:2])\n",
    "# immutable\n",
    "# x.append(4)\n",
    "x[1] = 5"
   ]
  },
  {
   "cell_type": "markdown",
   "metadata": {
    "slideshow": {
     "slide_type": "subslide"
    }
   },
   "source": [
    "## Numbered lists\n",
    "\n",
    "Many functions return tuples, for example `enumerate()`:"
   ]
  },
  {
   "cell_type": "code",
   "execution_count": 5,
   "metadata": {},
   "outputs": [
    {
     "name": "stdout",
     "output_type": "stream",
     "text": [
      "[(0, 'Lana Kane'), (1, 'Pam Poovey'), (2, 'Sterling Archer'), (3, 'Algernop Krieger'), (4, 'Cheryl/Karol/Crystal Tunt')]\n"
     ]
    }
   ],
   "source": [
    "names = [\"Lana Kane\", \"Pam Poovey\", \"Sterling Archer\", \"Algernop Krieger\", \"Cheryl/Karol/Crystal Tunt\"]\n",
    "\n",
    "print(list(enumerate(names)))"
   ]
  },
  {
   "cell_type": "markdown",
   "metadata": {
    "slideshow": {
     "slide_type": "subslide"
    }
   },
   "source": [
    "## The `zip()` function\n",
    "\n",
    "We can *zip* together two or more lists to create a list of tuples. The result has the length of the shortest zipped list, other items are ignored:"
   ]
  },
  {
   "cell_type": "code",
   "execution_count": 8,
   "metadata": {},
   "outputs": [
    {
     "name": "stdout",
     "output_type": "stream",
     "text": [
      "[('Lana Kane', 32, 'guns'), ('Pam Poovey', 34, 'puns'), ('Sterling Archer', 35, 'drinks')]\n",
      "Length: names=5, ages=6, zippy=3\n"
     ]
    }
   ],
   "source": [
    "skills = ['guns', 'puns', 'drinks']\n",
    "ages = [32, 34, 35, 45, 28, 99]\n",
    "zippy = list(zip(names, ages, skills))\n",
    "print(zippy)\n",
    "print(\"Length: names={}, ages={}, zippy={}\".format(len(names), len(ages), len(zippy)))"
   ]
  },
  {
   "cell_type": "markdown",
   "metadata": {
    "slideshow": {
     "slide_type": "subslide"
    }
   },
   "source": [
    "## Unzipping\n",
    "\n",
    "In order to separate a list of tuples into several lists, you can use `zip(*)`:"
   ]
  },
  {
   "cell_type": "code",
   "execution_count": 17,
   "metadata": {
    "slideshow": {
     "slide_type": "-"
    }
   },
   "outputs": [
    {
     "name": "stdout",
     "output_type": "stream",
     "text": [
      "('head', 'feet', 'arms')\n",
      "['hurts', 'sore', 'spaghetti']\n"
     ]
    }
   ],
   "source": [
    "status = [(\"head\", \"hurts\"), \n",
    "          ('feet', 'sore'), \n",
    "          ('arms', 'spaghetti')]\n",
    "elements = list(zip(*status))\n",
    "parts = elements[0]\n",
    "labor = elements[1]\n",
    "print(parts)\n",
    "print(list(labor))"
   ]
  },
  {
   "cell_type": "markdown",
   "metadata": {
    "slideshow": {
     "slide_type": "subslide"
    }
   },
   "source": [
    "## Activity\n",
    "\n",
    "* create a list `month_numbers` ranging from 1 to 12 (including both)\n",
    "* create a list `month_names` with the names of the months\n",
    "* create a list of tuples, `months`, that matches numbers to names, in reversed order\n",
    "* enumerate `months`"
   ]
  },
  {
   "cell_type": "code",
   "execution_count": 36,
   "metadata": {},
   "outputs": [
    {
     "name": "stdout",
     "output_type": "stream",
     "text": [
      "[(0, (1, 'Dec')), (1, (2, 'Nov')), (2, (3, 'Oct')), (3, (4, 'Sep')), (4, (5, 'Aug')), (5, (6, 'Jul')), (6, (7, 'Jun')), (7, (8, 'May')), (8, (9, 'Apr')), (9, (10, 'Mar')), (10, (11, 'Feb')), (11, (12, 'Jan'))]\n",
      "None\n"
     ]
    }
   ],
   "source": [
    "# your code here\n",
    "month_numbers = list(range(1,13))\n",
    "# month_names = list('JFMAMJJASOND')\n",
    "# month_names = 'Jan Feb Mar Apr May Jun Jul Aug Sep Oct Nov Dec'.split()\n",
    "month_names = ['Jan',\n",
    "               'Feb',\n",
    "               'Mar',\n",
    "               'Apr',\n",
    "               'May',\n",
    "               'Jun',\n",
    "               'Jul',\n",
    "               'Aug',\n",
    "               'Sep',\n",
    "               'Oct',\n",
    "               'Nov',\n",
    "               'Dec']\n",
    "month_names.reverse()\n",
    "months = list(zip(month_numbers, month_names))\n",
    "print(list(enumerate(months)))\n",
    "print(month_names.reverse())"
   ]
  },
  {
   "cell_type": "markdown",
   "metadata": {
    "slideshow": {
     "slide_type": "slide"
    }
   },
   "source": [
    "# Dictionaries"
   ]
  },
  {
   "cell_type": "markdown",
   "metadata": {
    "slideshow": {
     "slide_type": "notes"
    }
   },
   "source": [
    "Dictionaries associate keys with values. In other languages they are also known as associative arrays, hash tables, or hash maps.\n",
    "\n",
    "They are named after ordinary paper dictionaries, because they work analogously. A key (the word you want to look up) is associated with a value (the definition of a word).\n",
    "\n",
    "Dictionaries are related to sets and list, which we have seen last lecture."
   ]
  },
  {
   "cell_type": "markdown",
   "metadata": {
    "slideshow": {
     "slide_type": "subslide"
    }
   },
   "source": [
    "## From tuples to dictionaries\n",
    "\n",
    "At a high level, dictionaries associate a unique **key** with a specific **value**. One way to look at dictionaries is therefore as a list of `(key, value)` tuples.\n",
    "\n",
    "In fact, this is one way to **initialize** a dictionary, using the `dict` type:"
   ]
  },
  {
   "cell_type": "code",
   "execution_count": 37,
   "metadata": {},
   "outputs": [
    {
     "name": "stdout",
     "output_type": "stream",
     "text": [
      "{'Eaten a squirrel': 1980, 'Gone fishing': 1985, 'Married rich': 1987, 'Became a skilled mason': 1990, 'Learned Python 1.0': 1994, 'Found God': 1994}\n"
     ]
    }
   ],
   "source": [
    "long_list_of_stuff_kajs_done = [('Eaten a squirrel', 1975), \n",
    "                                ('Eaten a squirrel', 1980), \n",
    "                                ('Gone fishing', 1985), \n",
    "                                ('Married rich', 1987), \n",
    "                                ('Became a skilled mason', 1990), \n",
    "                                ('Learned Python 1.0', 1994), \n",
    "                                ('Found God', 1994)]\n",
    "\n",
    "dict_of_kajs_achievments = dict(long_list_of_stuff_kajs_done)\n",
    "print(dict_of_kajs_achievments)"
   ]
  },
  {
   "cell_type": "markdown",
   "metadata": {
    "slideshow": {
     "slide_type": "subslide"
    }
   },
   "source": [
    "A dictionary in Python uses a colon `:` to map a **key** to a **value**.\n",
    "\n",
    "You might notice that the dictionary is enclosed by curly bracktes, which is the same as for sets.\n",
    "\n",
    "Why do you think that is? Hint: look at Kaj's history of eating squirrels."
   ]
  },
  {
   "cell_type": "markdown",
   "metadata": {
    "slideshow": {
     "slide_type": "subslide"
    }
   },
   "source": [
    "### Initialization\n",
    "\n",
    "Apart from the method above, we can initialize dictionaries in two ways:\n"
   ]
  },
  {
   "cell_type": "code",
   "execution_count": 44,
   "metadata": {},
   "outputs": [
    {
     "name": "stdout",
     "output_type": "stream",
     "text": [
      "{}\n"
     ]
    }
   ],
   "source": [
    "empty_dict = dict()\n",
    "print(empty_dict)"
   ]
  },
  {
   "cell_type": "code",
   "execution_count": 48,
   "metadata": {},
   "outputs": [
    {
     "name": "stdout",
     "output_type": "stream",
     "text": [
      "{1: 1, 2: 4, 3: 9, 4: 16}\n",
      "{'eggs': 2.5, 'milk': 1.2}\n",
      "{('John Smith', 235234): 31, ('John Smith', 345984): 15}\n"
     ]
    }
   ],
   "source": [
    "squares = {1: 1,\n",
    "           2: 4,\n",
    "           3: 9,\n",
    "           4: 16}\n",
    "print(squares)\n",
    "prices = {\"eggs\": 2.5, \"milk\": 1.2}\n",
    "print(prices)\n",
    "\n",
    "grades = {('John Smith', 235234): 31,\n",
    "          ('John Smith', 345984): 15,\n",
    "         }\n",
    "print(grades)"
   ]
  },
  {
   "cell_type": "markdown",
   "metadata": {
    "slideshow": {
     "slide_type": "fragment"
    }
   },
   "source": [
    "NOTE: keys can be almost anything, but **not lists** (because they can be changed after their creation)."
   ]
  },
  {
   "cell_type": "markdown",
   "metadata": {
    "slideshow": {
     "slide_type": "subslide"
    }
   },
   "source": [
    "## Activity\n",
    "\n",
    "* Turn the  two lists of people and their pets into a dictionary called `pet_lookup`.\n",
    "* How many entries does it have? Why?"
   ]
  },
  {
   "cell_type": "code",
   "execution_count": 51,
   "metadata": {},
   "outputs": [
    {
     "data": {
      "text/plain": [
       "{'Babette': 'dog', 'Karen': 'cat', 'Janne': 'ozelot', 'Linda': 'anaconda'}"
      ]
     },
     "execution_count": 51,
     "metadata": {},
     "output_type": "execute_result"
    }
   ],
   "source": [
    "people = ['Babette', 'Karen', 'Janne', 'Linda', 'Janne', 'Linda']\n",
    "pets = ['dog', 'cat', 'dog', 'dog', 'ozelot', 'anaconda']\n",
    "# your code here\n",
    "pet_lookup = dict(zip(people, pets))\n",
    "pet_lookup"
   ]
  },
  {
   "cell_type": "markdown",
   "metadata": {
    "slideshow": {
     "slide_type": "subslide"
    }
   },
   "source": [
    "## Dictionary operations"
   ]
  },
  {
   "cell_type": "markdown",
   "metadata": {
    "slideshow": {
     "slide_type": "-"
    }
   },
   "source": [
    "### Retrieving a value\n",
    "Accessing a value works similar as indexing in lists, but instead of the index (`int`), we use the key (i.e., almost anything)."
   ]
  },
  {
   "cell_type": "code",
   "execution_count": 53,
   "metadata": {},
   "outputs": [
    {
     "name": "stdout",
     "output_type": "stream",
     "text": [
      "{'eggs': 2.5, 'milk': 1.2}\n",
      "2.5\n"
     ]
    }
   ],
   "source": [
    "print(prices)\n",
    "print(prices[\"eggs\"])"
   ]
  },
  {
   "cell_type": "markdown",
   "metadata": {
    "slideshow": {
     "slide_type": "fragment"
    }
   },
   "source": [
    "This fails if the key does not exist"
   ]
  },
  {
   "cell_type": "code",
   "execution_count": 54,
   "metadata": {},
   "outputs": [
    {
     "ename": "KeyError",
     "evalue": "'honey'",
     "output_type": "error",
     "traceback": [
      "\u001b[0;31m---------------------------------------------------------------------------\u001b[0m",
      "\u001b[0;31mKeyError\u001b[0m                                  Traceback (most recent call last)",
      "\u001b[0;32m<ipython-input-54-55f640f6f6ba>\u001b[0m in \u001b[0;36m<module>\u001b[0;34m\u001b[0m\n\u001b[0;32m----> 1\u001b[0;31m \u001b[0mprint\u001b[0m\u001b[0;34m(\u001b[0m\u001b[0mprices\u001b[0m\u001b[0;34m[\u001b[0m\u001b[0;34m\"honey\"\u001b[0m\u001b[0;34m]\u001b[0m\u001b[0;34m)\u001b[0m\u001b[0;34m\u001b[0m\u001b[0;34m\u001b[0m\u001b[0m\n\u001b[0m",
      "\u001b[0;31mKeyError\u001b[0m: 'honey'"
     ]
    }
   ],
   "source": [
    "print(prices[\"honey\"])"
   ]
  },
  {
   "cell_type": "markdown",
   "metadata": {
    "slideshow": {
     "slide_type": "subslide"
    }
   },
   "source": [
    "A safer way to retrieve values is the `get()` method, which returns `None` for missing values:"
   ]
  },
  {
   "cell_type": "code",
   "execution_count": 56,
   "metadata": {},
   "outputs": [
    {
     "name": "stdout",
     "output_type": "stream",
     "text": [
      "{'eggs': 2.5, 'milk': 1.2}\n",
      "2.5\n",
      "None\n"
     ]
    }
   ],
   "source": [
    "print(prices)\n",
    "print(prices.get(\"eggs\"))\n",
    "print(prices.get(\"honey\"))"
   ]
  },
  {
   "cell_type": "markdown",
   "metadata": {
    "slideshow": {
     "slide_type": "subslide"
    }
   },
   "source": [
    "We can even define a **default value** for missing items:"
   ]
  },
  {
   "cell_type": "code",
   "execution_count": 60,
   "metadata": {},
   "outputs": [
    {
     "name": "stdout",
     "output_type": "stream",
     "text": [
      "{'eggs': 2.5, 'milk': 1.2}\n",
      "2.5\n",
      "we don't have that\n"
     ]
    }
   ],
   "source": [
    "print(prices)\n",
    "print(prices.get(\"eggs\", 0.0))\n",
    "print(prices.get(\"honey\", \"we don't have that\"))"
   ]
  },
  {
   "cell_type": "markdown",
   "metadata": {
    "slideshow": {
     "slide_type": "subslide"
    }
   },
   "source": [
    "## Setting values"
   ]
  },
  {
   "cell_type": "code",
   "execution_count": 62,
   "metadata": {},
   "outputs": [
    {
     "name": "stdout",
     "output_type": "stream",
     "text": [
      "{'eggs': 2.0, 'milk': 1.2, 'butter': 3.1}\n",
      "{'eggs': 2.0, 'milk': 1.2, 'butter': 3.1}\n",
      "{'eggs': 2.0, 'milk': 1.2, 'butter': 3.1}\n"
     ]
    }
   ],
   "source": [
    "print(prices)\n",
    "prices[\"butter\"] = 3.1 # add a new entry\n",
    "print(prices)\n",
    "prices[\"eggs\"] = 2.0 # change existing entry\n",
    "print(prices)"
   ]
  },
  {
   "cell_type": "markdown",
   "metadata": {
    "slideshow": {
     "slide_type": "subslide"
    }
   },
   "source": [
    "## Merging dictionaries\n",
    "We can combine dictionaries with `update()`"
   ]
  },
  {
   "cell_type": "code",
   "execution_count": 63,
   "metadata": {},
   "outputs": [
    {
     "name": "stdout",
     "output_type": "stream",
     "text": [
      "{'blau': 'azzurro', 'gelb': 'giallo', 'rot': 'rossa', 'braun': 'marrone', 'Pizza': 'pizza', 'Nudeln': 'pasta', 'Kaffee': 'caffè', 'Espresso': 'caffè'}\n"
     ]
    }
   ],
   "source": [
    "translations_de_it = {'blau': 'azzurro', \n",
    "                      'gelb': 'giallo', \n",
    "                      'rot': 'rosso', \n",
    "                      'braun': 'marrone'\n",
    "                     }\n",
    "translations_de_it_food = {'Pizza': 'pizza', \n",
    "                           'Nudeln': 'pasta',\n",
    "                           'Kaffee': 'caffè',\n",
    "                           'Espresso': 'caffè',\n",
    "                           'rot': 'rossa'\n",
    "                          }\n",
    "\n",
    "translations_de_it.update(translations_de_it_food)\n",
    "print(translations_de_it)"
   ]
  },
  {
   "cell_type": "markdown",
   "metadata": {
    "slideshow": {
     "slide_type": "subslide"
    }
   },
   "source": [
    "## Activity\n",
    "\n",
    "* change `pet_lookup` to give `Karen` a pony\n",
    "* create a list `owners` with 3 new names, and `moar_pets` with 3 pets and make them into a dictionary `pet_lookup2`\n",
    "* add the entries from `pet_lookup2` to `pet_lookup`"
   ]
  },
  {
   "cell_type": "code",
   "execution_count": 69,
   "metadata": {},
   "outputs": [
    {
     "name": "stdout",
     "output_type": "stream",
     "text": [
      "{'Babette': 'dog', 'Karen': 'pony', 'Janne': 'ozelot', 'Linda': 'anaconda'}\n",
      "{'Babette': 'dog', 'Karen': 'pony', 'Janne': 'ozelot', 'Linda': 'anaconda'}\n",
      "{'Daniel': 'chinchilla', 'Rune': 'rat', 'Anna': 'unicorn'}\n",
      "{'Babette': 'dog', 'Karen': 'pony', 'Janne': 'ozelot', 'Linda': 'anaconda', 'Daniel': 'chinchilla', 'Rune': 'rat', 'Anna': 'unicorn'}\n"
     ]
    }
   ],
   "source": [
    "# your code here\n",
    "print(pet_lookup)\n",
    "pet_lookup['Karen'] = 'pony'\n",
    "print(pet_lookup)\n",
    "owners = 'Daniel Rune Anna'.split()\n",
    "moar_pets = 'chinchilla rat unicorn'.split()\n",
    "pet_lookup2 = dict(zip(owners, moar_pets))\n",
    "print(pet_lookup2)\n",
    "pet_lookup.update(pet_lookup2)\n",
    "print(pet_lookup)"
   ]
  },
  {
   "cell_type": "markdown",
   "metadata": {
    "slideshow": {
     "slide_type": "subslide"
    }
   },
   "source": [
    "## Membership\n",
    "To check whether an element is in the dictionary, use `in`:"
   ]
  },
  {
   "cell_type": "code",
   "execution_count": 70,
   "metadata": {},
   "outputs": [
    {
     "name": "stdout",
     "output_type": "stream",
     "text": [
      "False\n"
     ]
    }
   ],
   "source": [
    "print(\"cereal\" in prices)"
   ]
  },
  {
   "cell_type": "markdown",
   "metadata": {
    "slideshow": {
     "slide_type": "subslide"
    }
   },
   "source": [
    "## Removing values"
   ]
  },
  {
   "cell_type": "code",
   "execution_count": 72,
   "metadata": {},
   "outputs": [
    {
     "name": "stdout",
     "output_type": "stream",
     "text": [
      "{'eggs': 2.0, 'milk': 1.2}\n"
     ]
    },
    {
     "ename": "KeyError",
     "evalue": "'butter'",
     "output_type": "error",
     "traceback": [
      "\u001b[0;31m---------------------------------------------------------------------------\u001b[0m",
      "\u001b[0;31mKeyError\u001b[0m                                  Traceback (most recent call last)",
      "\u001b[0;32m<ipython-input-72-61b5bb439057>\u001b[0m in \u001b[0;36m<module>\u001b[0;34m\u001b[0m\n\u001b[1;32m      1\u001b[0m \u001b[0mprint\u001b[0m\u001b[0;34m(\u001b[0m\u001b[0mprices\u001b[0m\u001b[0;34m)\u001b[0m\u001b[0;34m\u001b[0m\u001b[0;34m\u001b[0m\u001b[0m\n\u001b[0;32m----> 2\u001b[0;31m \u001b[0;32mdel\u001b[0m\u001b[0;34m(\u001b[0m\u001b[0mprices\u001b[0m\u001b[0;34m[\u001b[0m\u001b[0;34m'butter'\u001b[0m\u001b[0;34m]\u001b[0m\u001b[0;34m)\u001b[0m\u001b[0;34m\u001b[0m\u001b[0;34m\u001b[0m\u001b[0m\n\u001b[0m\u001b[1;32m      3\u001b[0m \u001b[0mprint\u001b[0m\u001b[0;34m(\u001b[0m\u001b[0mprices\u001b[0m\u001b[0;34m)\u001b[0m\u001b[0;34m\u001b[0m\u001b[0;34m\u001b[0m\u001b[0m\n",
      "\u001b[0;31mKeyError\u001b[0m: 'butter'"
     ]
    }
   ],
   "source": [
    "print(prices)\n",
    "del(prices['butter'])\n",
    "print(prices)"
   ]
  },
  {
   "cell_type": "markdown",
   "metadata": {
    "slideshow": {
     "slide_type": "subslide"
    }
   },
   "source": [
    "## Cleaning up\n",
    "If we want to remove all items from a dictionary, we can use `clear()`"
   ]
  },
  {
   "cell_type": "code",
   "execution_count": 76,
   "metadata": {},
   "outputs": [
    {
     "name": "stdout",
     "output_type": "stream",
     "text": [
      "0\n",
      "after clearing: 0\n",
      "hello\n"
     ]
    }
   ],
   "source": [
    "print(len(translations_de_it))\n",
    "translations_de_it.clear()\n",
    "print('after clearing:', len(translations_de_it))\n",
    "print('hello')"
   ]
  },
  {
   "cell_type": "markdown",
   "metadata": {
    "slideshow": {
     "slide_type": "subslide"
    }
   },
   "source": [
    "## Retrieving keys and values\n",
    "\n",
    "We can retrieve the keys, values, and combinations of the two separately"
   ]
  },
  {
   "cell_type": "code",
   "execution_count": 77,
   "metadata": {},
   "outputs": [
    {
     "name": "stdout",
     "output_type": "stream",
     "text": [
      "dict_keys(['eggs', 'milk'])\n"
     ]
    }
   ],
   "source": [
    "print(prices.keys())"
   ]
  },
  {
   "cell_type": "code",
   "execution_count": 78,
   "metadata": {},
   "outputs": [
    {
     "name": "stdout",
     "output_type": "stream",
     "text": [
      "dict_values([2.0, 1.2])\n"
     ]
    }
   ],
   "source": [
    "print(prices.values())"
   ]
  },
  {
   "cell_type": "code",
   "execution_count": 81,
   "metadata": {},
   "outputs": [
    {
     "name": "stdout",
     "output_type": "stream",
     "text": [
      "dict_items([('eggs', 2.0), ('milk', 1.2)])\n"
     ]
    }
   ],
   "source": [
    "print(prices.items())"
   ]
  },
  {
   "cell_type": "markdown",
   "metadata": {
    "slideshow": {
     "slide_type": "subslide"
    }
   },
   "source": [
    "## Operations on dictionaries"
   ]
  },
  {
   "cell_type": "markdown",
   "metadata": {},
   "source": [
    "Similar to lists, we can call a variety of functions on dictionaries, like\n",
    "* `sorted()`\n",
    "* `len()`\n",
    "* `enumerate()`"
   ]
  },
  {
   "cell_type": "code",
   "execution_count": 83,
   "metadata": {},
   "outputs": [
    {
     "name": "stdout",
     "output_type": "stream",
     "text": [
      "['eggs', 'milk']\n",
      "2\n",
      "[(0, 'eggs'), (1, 'milk')]\n"
     ]
    }
   ],
   "source": [
    "print(sorted(prices))\n",
    "print(len(prices))\n",
    "print(list(enumerate(prices)))"
   ]
  },
  {
   "cell_type": "markdown",
   "metadata": {
    "slideshow": {
     "slide_type": "subslide"
    }
   },
   "source": [
    "## Activity\n",
    "\n",
    "* anonymize the `employee` dictionary by enumerating the values and creating a new dictionary `anonymous_employees`"
   ]
  },
  {
   "cell_type": "code",
   "execution_count": null,
   "metadata": {},
   "outputs": [],
   "source": [
    "# your code here\n"
   ]
  },
  {
   "cell_type": "markdown",
   "metadata": {
    "slideshow": {
     "slide_type": "slide"
    }
   },
   "source": [
    "# Special Dictionaries"
   ]
  },
  {
   "cell_type": "markdown",
   "metadata": {},
   "source": [
    "Python has two special dictionary types, that serve very special purposes. However, they are in a separate library, that we need to `import` them from first:"
   ]
  },
  {
   "cell_type": "code",
   "execution_count": 86,
   "metadata": {},
   "outputs": [],
   "source": [
    "from collections import defaultdict, Counter"
   ]
  },
  {
   "cell_type": "markdown",
   "metadata": {
    "slideshow": {
     "slide_type": "subslide"
    }
   },
   "source": [
    "## `defaultdict`\n",
    "\n",
    "`defaultdict` solves some of the problems we have adressed with `get()`: if a key is not in the dictionary, they do two things:\n",
    "1. they automatically add the key with the default value to the dictionary\n",
    "2. they return the default value or type"
   ]
  },
  {
   "cell_type": "markdown",
   "metadata": {
    "slideshow": {
     "slide_type": "subslide"
    }
   },
   "source": [
    "We need to specify the type of default type when we assign the `defaultdict`:\n",
    "* `int` returns `0`\n",
    "* `float` returns `0.0`\n",
    "* `list` returns `[]`\n",
    "* `set` returns `set()`\n",
    "* `bool` returns `False`\n",
    "* `str` returns `''`"
   ]
  },
  {
   "cell_type": "code",
   "execution_count": 89,
   "metadata": {},
   "outputs": [
    {
     "name": "stdout",
     "output_type": "stream",
     "text": [
      "defaultdict(<class 'int'>, {})\n",
      "0\n",
      "defaultdict(<class 'int'>, {'platypus': 2, 'dingo': 0})\n"
     ]
    }
   ],
   "source": [
    "word_counts = defaultdict(int)\n",
    "print(word_counts)\n",
    "word_counts['platypus'] += 1\n",
    "word_counts['platypus'] = word_counts['platypus'] + 1\n",
    "print(word_counts['dingo'])\n",
    "print(word_counts)"
   ]
  },
  {
   "cell_type": "code",
   "execution_count": 92,
   "metadata": {},
   "outputs": [
    {
     "name": "stdout",
     "output_type": "stream",
     "text": [
      "defaultdict(<class 'set'>, {'Lana': {'driving course', 'snorkeling course'}})\n",
      "set()\n",
      "defaultdict(<class 'set'>, {'Lana': {'driving course', 'snorkeling course'}, 'Cyrill': set()})\n"
     ]
    }
   ],
   "source": [
    "achievements = defaultdict(set)\n",
    "achievements['Lana'].add('driving course')\n",
    "achievements['Lana'].add('snorkeling course')\n",
    "print(achievements)\n",
    "print(achievements['Cyrill'])\n",
    "print(achievements)"
   ]
  },
  {
   "cell_type": "markdown",
   "metadata": {
    "slideshow": {
     "slide_type": "subslide"
    }
   },
   "source": [
    "## `Counter`\n",
    "\n",
    "`Counter` is a specialized dictionary just for integer counts, which is very handy. Their input is usually a list"
   ]
  },
  {
   "cell_type": "code",
   "execution_count": 94,
   "metadata": {},
   "outputs": [
    {
     "name": "stdout",
     "output_type": "stream",
     "text": [
      "Counter({42: 5, 79: 4, 65: 4, 49: 4, 71: 3, 83: 3, 56: 3, 73: 3, 66: 3, 57: 3, 27: 3, 19: 3, 74: 3, 86: 2, 28: 2, 58: 2, 30: 2, 54: 2, 75: 2, 84: 2, 39: 2, 78: 2, 61: 2, 62: 2, 55: 2, 45: 2, 22: 2, 37: 2, 32: 2, 64: 2, 21: 1, 41: 1, 69: 1, 43: 1, 77: 1, 70: 1, 68: 1, 46: 1, 47: 1, 44: 1, 52: 1, 59: 1, 80: 1, 67: 1, 53: 1, 63: 1, 29: 1, 20: 1, 24: 1, 60: 1, 18: 1, 31: 1})\n",
      "Counter({42: 5, 79: 4, 65: 4, 49: 4, 71: 3, 83: 3, 56: 3, 73: 3, 66: 3, 57: 3, 27: 3, 19: 3, 74: 3, 86: 2, 28: 2, 58: 2, 30: 2, 54: 2, 75: 2, 84: 2, 39: 2, 78: 2, 61: 2, 62: 2, 55: 2, 45: 2, 22: 2, 37: 2, 32: 2, 64: 2, 21: 1, 41: 1, 69: 1, 43: 1, 77: 1, 70: 1, 68: 1, 46: 1, 47: 1, 44: 1, 52: 1, 59: 1, 80: 1, 67: 1, 53: 1, 63: 1, 29: 1, 20: 1, 24: 1, 60: 1, 18: 1, 31: 1})\n"
     ]
    }
   ],
   "source": [
    "ages = [86, 21, 28, 71, 83, 79, 41, 69, 58, 30, 79, 43, 77, 70, 79, 30, 79, 68, 56, 46, 73, 66, 54, 47, 75, 57, 65, 27, 19, 84, 56, 39, 78, 73, 49, 44, 86, 61, 74, 49, 62, 52, 61, 59, 74, 73, 58, 55, 56, 80, 57, 62, 19, 42, 49, 45, 22, 37, 42, 32, 28, 67, 65, 78, 53, 42, 49, 63, 55, 29, 57, 75, 27, 42, 84, 71, 83, 66, 20, 54, 71, 32, 24, 22, 64, 60, 45, 18, 37, 19, 31, 65, 65, 39, 74, 64, 66, 27, 42, 83]\n",
    "\n",
    "histogram1 = Counter()\n",
    "histogram1.update(ages)\n",
    "# alternative syntax\n",
    "histogram2 = Counter(ages)\n",
    "\n",
    "print(histogram1)\n",
    "print(histogram2)"
   ]
  },
  {
   "cell_type": "markdown",
   "metadata": {
    "slideshow": {
     "slide_type": "subslide"
    }
   },
   "source": [
    "Apart from the regular dictionary functions, `Counter` has two useful methods.\n",
    "\n",
    "* `most_common()` shows you the `n` most frequent keys and their counts"
   ]
  },
  {
   "cell_type": "code",
   "execution_count": 96,
   "metadata": {},
   "outputs": [
    {
     "name": "stdout",
     "output_type": "stream",
     "text": [
      "[(42, 5), (79, 4), (65, 4), (49, 4), (71, 3), (83, 3), (56, 3), (73, 3), (66, 3), (57, 3), (27, 3), (19, 3), (74, 3), (86, 2), (28, 2), (58, 2), (30, 2), (54, 2), (75, 2), (84, 2), (39, 2), (78, 2), (61, 2), (62, 2), (55, 2), (45, 2), (22, 2), (37, 2), (32, 2), (64, 2), (21, 1), (41, 1), (69, 1), (43, 1), (77, 1), (70, 1), (68, 1), (46, 1), (47, 1), (44, 1), (52, 1), (59, 1), (80, 1), (67, 1), (53, 1), (63, 1), (29, 1), (20, 1), (24, 1), (60, 1), (18, 1), (31, 1)]\n"
     ]
    }
   ],
   "source": [
    "print(histogram1.most_common())"
   ]
  },
  {
   "cell_type": "markdown",
   "metadata": {
    "slideshow": {
     "slide_type": "subslide"
    }
   },
   "source": [
    "* Another function, `subtract()`, allows us to reduce the counts of one or more keys:"
   ]
  },
  {
   "cell_type": "code",
   "execution_count": 98,
   "metadata": {},
   "outputs": [
    {
     "name": "stdout",
     "output_type": "stream",
     "text": [
      "[(79, 4), (71, 3), (83, 3)]\n"
     ]
    }
   ],
   "source": [
    "histogram1.subtract([42, 49, 65, 65, 65])\n",
    "print(histogram1.most_common(3))"
   ]
  },
  {
   "cell_type": "markdown",
   "metadata": {
    "slideshow": {
     "slide_type": "subslide"
    }
   },
   "source": [
    "You can convert `dict` or `Counter` objects into `defaultdict`s by using `update()`"
   ]
  },
  {
   "cell_type": "code",
   "execution_count": null,
   "metadata": {},
   "outputs": [],
   "source": [
    "default_counts = defaultdict(int)\n",
    "default_counts.update(histogram1)\n",
    "print(default_counts)"
   ]
  },
  {
   "cell_type": "markdown",
   "metadata": {
    "slideshow": {
     "slide_type": "subslide"
    }
   },
   "source": [
    "## Activity\n",
    "\n",
    "* Get the 20 most frequent counts from `histogram1` and store them in a new `dict` called `top20`"
   ]
  },
  {
   "cell_type": "code",
   "execution_count": null,
   "metadata": {},
   "outputs": [],
   "source": [
    "# your code here\n"
   ]
  },
  {
   "cell_type": "markdown",
   "metadata": {
    "slideshow": {
     "slide_type": "subslide"
    }
   },
   "source": [
    "# Multi-level dictionaries\n",
    "\n",
    "If the values of a dictionary are dictionaries themselves, we have a multi-level dictionary. This can be helpful for complex lookups"
   ]
  },
  {
   "cell_type": "code",
   "execution_count": 99,
   "metadata": {},
   "outputs": [
    {
     "data": {
      "text/plain": [
       "int"
      ]
     },
     "execution_count": 99,
     "metadata": {},
     "output_type": "execute_result"
    }
   ],
   "source": [
    "employees = {'Algernop Krieger': {'age': 45, 'skill': \"'science'\"},\n",
    "             'Cheryl/Karol/Crystal Tunt': {'age': 28, 'skill': 'supervision'},\n",
    "             'Lana Kane': {'age': 32, 'skill': 'shooting'},\n",
    "             'Pam Poovey': {'age': 34, 'skill': 'mixed martial arts'},\n",
    "             'Sterling Archer': {'age': 35, 'skill': 'drinking'}\n",
    "            }\n",
    "first_level = employees['Pam Poovey']\n",
    "type(first_level['age'])"
   ]
  },
  {
   "cell_type": "markdown",
   "metadata": {
    "slideshow": {
     "slide_type": "subslide"
    }
   },
   "source": [
    "## Activity\n",
    "\n",
    "* add entries for `Ray Gilette (43, planes)`, `Cyril Figgis (44, numbers)` and `Mallory Archer (58, childcare)`"
   ]
  },
  {
   "cell_type": "code",
   "execution_count": null,
   "metadata": {},
   "outputs": [],
   "source": [
    "# your code here\n"
   ]
  },
  {
   "cell_type": "markdown",
   "metadata": {
    "collapsed": true,
    "slideshow": {
     "slide_type": "subslide"
    }
   },
   "source": [
    "## Activity\n",
    "\n",
    "* Separate the `employees` dictionary into two lists, `employee_name`, which contains only the names, and `employee_properties`, which contains only the dictionaries with `age` and `skill` as keys."
   ]
  },
  {
   "cell_type": "code",
   "execution_count": null,
   "metadata": {},
   "outputs": [],
   "source": [
    "# your code here"
   ]
  }
 ],
 "metadata": {
  "anaconda-cloud": {},
  "celltoolbar": "Slideshow",
  "kernelspec": {
   "display_name": "Python 3",
   "language": "python",
   "name": "python3"
  },
  "language_info": {
   "codemirror_mode": {
    "name": "ipython",
    "version": 3
   },
   "file_extension": ".py",
   "mimetype": "text/x-python",
   "name": "python",
   "nbconvert_exporter": "python",
   "pygments_lexer": "ipython3",
   "version": "3.6.8"
  },
  "livereveal": {
   "scroll": true,
   "start_slideshow_at": "selected",
   "transition": "none"
  }
 },
 "nbformat": 4,
 "nbformat_minor": 1
}
