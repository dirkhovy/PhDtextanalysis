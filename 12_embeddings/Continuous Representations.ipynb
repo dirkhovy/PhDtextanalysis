{
 "cells": [
  {
   "cell_type": "markdown",
   "metadata": {
    "slideshow": {
     "slide_type": "slide"
    }
   },
   "source": [
    "# Word Representations\n",
    "\n",
    "## *\"I know words. I have the best words!\"*\n",
    "    - Noam Chomsky"
   ]
  },
  {
   "cell_type": "markdown",
   "metadata": {
    "slideshow": {
     "slide_type": "slide"
    }
   },
   "source": [
    "# Dense Distributed Representations"
   ]
  },
  {
   "cell_type": "code",
   "execution_count": 1,
   "metadata": {},
   "outputs": [
    {
     "name": "stdout",
     "output_type": "stream",
     "text": [
      "[\"Prices change daily and if you want to really research the price continually at many different sites , I have found cheaper cars elsewhere . However , if you don ' t have a lot of time to research the price , this site has always been among the top three ( e . g ., cheapest ) of the ten sites I use to reserve a car .\", 'and the fact that they will match other companies is awesome !!']\n"
     ]
    }
   ],
   "source": [
    "import pandas as pd\n",
    "df = pd.read_csv('../data/reviews.full.tsv', sep='\\t', nrows=100000)\n",
    "documents = df.text.tolist()\n",
    "print(documents[:2])"
   ]
  },
  {
   "cell_type": "markdown",
   "metadata": {
    "slideshow": {
     "slide_type": "subslide"
    }
   },
   "source": [
    "## Word embeddings with `Word2vec`"
   ]
  },
  {
   "cell_type": "code",
   "execution_count": 59,
   "metadata": {},
   "outputs": [
    {
     "data": {
      "text/plain": [
       "(0, 0)"
      ]
     },
     "execution_count": 59,
     "metadata": {},
     "output_type": "execute_result"
    }
   ],
   "source": [
    "from gensim.models import Word2Vec\n",
    "from gensim.models.word2vec import FAST_VERSION\n",
    "\n",
    "corpus = [document.split() for document in documents]\n",
    "\n",
    "# initialize model\n",
    "w2v_model = Word2Vec(size=100,\n",
    "                     window=15,\n",
    "                     sample=0.0001,\n",
    "                     iter=200,\n",
    "                     negative=5, \n",
    "                     min_count=100,\n",
    "                     workers=-1, \n",
    "                     hs=0\n",
    ")\n",
    "\n",
    "w2v_model.build_vocab(corpus)\n",
    "\n",
    "w2v_model.train(corpus, \n",
    "                total_examples=w2v_model.corpus_count, \n",
    "                epochs=w2v_model.epochs)\n"
   ]
  },
  {
   "cell_type": "markdown",
   "metadata": {
    "slideshow": {
     "slide_type": "subslide"
    }
   },
   "source": [
    "Now, we can use the embeddings of the model"
   ]
  },
  {
   "cell_type": "code",
   "execution_count": 60,
   "metadata": {},
   "outputs": [
    {
     "data": {
      "text/plain": [
       "array([ 4.8546400e-03, -1.4327493e-03,  9.1873267e-04, -2.5443123e-03,\n",
       "       -3.9414167e-03, -1.5230225e-03, -2.1216949e-03,  9.5906004e-04,\n",
       "       -4.7519077e-03,  1.8372270e-03, -2.3460684e-03,  2.0625452e-03,\n",
       "        4.5630126e-03,  1.0871316e-03,  3.0135075e-03,  4.8537026e-03,\n",
       "       -4.5566674e-04, -4.9030469e-03,  1.6111378e-03,  2.3842263e-03,\n",
       "       -7.6960924e-04, -3.0595718e-03, -1.9958208e-03,  1.3386792e-03,\n",
       "       -2.7547716e-03,  4.3944218e-03, -1.3478342e-03, -3.2697483e-03,\n",
       "       -2.3716041e-03, -3.0164132e-03,  2.2254842e-03, -3.8527506e-03,\n",
       "       -4.9539991e-03,  6.9463247e-04,  1.9091720e-03, -4.5727027e-04,\n",
       "       -3.9925748e-03,  4.2467550e-03, -4.0459507e-03, -2.6428143e-03,\n",
       "        4.7718184e-03,  4.1489154e-03,  3.0665381e-03, -6.8244664e-04,\n",
       "       -3.1425054e-03,  9.5672999e-04,  3.4863157e-03,  3.8578920e-03,\n",
       "       -1.9977193e-03,  4.8923180e-03, -2.6220127e-03, -4.8777540e-03,\n",
       "        1.4871495e-03, -4.4299471e-03, -4.6825400e-03, -1.2769677e-03,\n",
       "       -1.0061354e-03, -4.9474151e-03,  2.0736540e-03, -6.6970737e-04,\n",
       "        2.1447025e-03,  4.6090730e-03, -1.3646000e-03,  1.1732245e-03,\n",
       "       -9.2338980e-04,  1.3016308e-04,  4.5263465e-03, -3.7501701e-03,\n",
       "       -3.7223115e-03,  3.2184063e-03,  4.3899929e-03, -5.1311386e-04,\n",
       "        1.3965108e-03, -1.4674028e-03, -2.0342965e-03, -4.4679209e-03,\n",
       "       -1.8022987e-03, -1.0506931e-03,  3.6522525e-03,  1.5272520e-03,\n",
       "       -1.3209375e-03, -1.7682080e-03, -9.5486140e-04, -1.5108387e-03,\n",
       "        4.0129662e-04, -2.6145785e-03,  1.5619689e-03, -2.9470856e-04,\n",
       "       -3.1001142e-03, -3.5217912e-03,  4.8410567e-03, -1.5598207e-03,\n",
       "       -7.7978306e-04, -2.8556040e-03, -5.6894438e-04, -3.3683502e-03,\n",
       "        1.6936073e-03, -4.8236144e-03,  9.1531198e-05, -1.6846106e-04],\n",
       "      dtype=float32)"
      ]
     },
     "execution_count": 60,
     "metadata": {},
     "output_type": "execute_result"
    }
   ],
   "source": [
    "w2v_model.wv['delivery']"
   ]
  },
  {
   "cell_type": "code",
   "execution_count": 61,
   "metadata": {},
   "outputs": [
    {
     "data": {
      "text/plain": [
       "[('clear', 0.34266629815101624),\n",
       " ('fast', 0.3159208297729492),\n",
       " ('genuine', 0.3109842538833618),\n",
       " ('Jan', 0.29935598373413086),\n",
       " ('blind', 0.2912609875202179),\n",
       " ('learned', 0.2893880307674408),\n",
       " ('services', 0.2849019765853882),\n",
       " ('hanging', 0.27297908067703247),\n",
       " ('product', 0.26602858304977417),\n",
       " ('models', 0.26145869493484497)]"
      ]
     },
     "execution_count": 61,
     "metadata": {},
     "output_type": "execute_result"
    }
   ],
   "source": [
    "w2v_model.wv.most_similar(['delivery'])"
   ]
  },
  {
   "cell_type": "code",
   "execution_count": 66,
   "metadata": {
    "scrolled": true,
    "slideshow": {
     "slide_type": "subslide"
    }
   },
   "outputs": [
    {
     "data": {
      "text/plain": [
       "[('act', 0.35530605912208557),\n",
       " ('Because', 0.33676496148109436),\n",
       " ('strange', 0.31482774019241333)]"
      ]
     },
     "execution_count": 66,
     "metadata": {},
     "output_type": "execute_result"
    }
   ],
   "source": [
    "# birthday - present + husband => birthday:present as husband:?\n",
    "w2v_model.wv.most_similar(positive=['dog', 'husband'], negative=['cat'], topn=3)"
   ]
  },
  {
   "cell_type": "code",
   "execution_count": 67,
   "metadata": {
    "slideshow": {
     "slide_type": "subslide"
    }
   },
   "outputs": [
    {
     "name": "stdout",
     "output_type": "stream",
     "text": [
      "-0.21957012540682005\n",
      "[('zero', 0.2897338271141052), ('filling', 0.2875811457633972), ('Here', 0.2875189781188965)]\n"
     ]
    }
   ],
   "source": [
    "word1 = \"Cheapest\"\n",
    "word2 = \"friendly\"\n",
    "\n",
    "# retrieve the actual vector\n",
    "# print(w2v_model.wv[word1])\n",
    "\n",
    "# compare\n",
    "print(w2v_model.wv.similarity(word1, word2))\n",
    "\n",
    "# get the 3 most similar words\n",
    "print(w2v_model.wv.most_similar(word1, topn=3))\n"
   ]
  },
  {
   "cell_type": "code",
   "execution_count": 69,
   "metadata": {},
   "outputs": [
    {
     "data": {
      "text/plain": [
       "(3376, 100)"
      ]
     },
     "execution_count": 69,
     "metadata": {},
     "output_type": "execute_result"
    }
   ],
   "source": [
    "corpus[1]"
   ]
  },
  {
   "cell_type": "markdown",
   "metadata": {
    "slideshow": {
     "slide_type": "subslide"
    }
   },
   "source": [
    "\n",
    "### Exercise\n",
    "Use `spacy` to restrict the words in the tweets to *content words*, i.e., nouns, verbs, and adjectives. Transform the words to lower case and add the POS with an underderscore. E.g.:\n",
    "\n",
    "`love_VERB old-fashioneds_NOUN`\n",
    "\n",
    "This also allows us to distinguish between homographs, i.e., words that are written the same, but belong to different word classes, e.g., *love* in \"I **love** old-fashioneds\" vs. \"He felt so sick, it must have been **love**\".\n",
    "\n",
    "\n",
    "Make sure to exclude sentences that contain none of the above.\n",
    "\n",
    "Write the resulting corpus to a variable called `word_corpus`."
   ]
  },
  {
   "cell_type": "code",
   "execution_count": null,
   "metadata": {},
   "outputs": [],
   "source": [
    "# Your code here\n"
   ]
  },
  {
   "cell_type": "markdown",
   "metadata": {},
   "source": [
    "Rerun the `Word2vec` model from above on the new data set and test the words out"
   ]
  },
  {
   "cell_type": "code",
   "execution_count": null,
   "metadata": {},
   "outputs": [],
   "source": [
    "# Your code here"
   ]
  },
  {
   "cell_type": "markdown",
   "metadata": {
    "slideshow": {
     "slide_type": "subslide"
    }
   },
   "source": [
    "## Exercise\n",
    "\n",
    "Train 4 more `Word2vec` models and average the resulting embedding matrices."
   ]
  },
  {
   "cell_type": "code",
   "execution_count": null,
   "metadata": {},
   "outputs": [],
   "source": [
    "# Your code here"
   ]
  },
  {
   "cell_type": "markdown",
   "metadata": {
    "slideshow": {
     "slide_type": "slide"
    }
   },
   "source": [
    "## Document embeddings with `Doc2Vec`"
   ]
  },
  {
   "cell_type": "code",
   "execution_count": 71,
   "metadata": {},
   "outputs": [
    {
     "data": {
      "text/html": [
       "<div>\n",
       "<style scoped>\n",
       "    .dataframe tbody tr th:only-of-type {\n",
       "        vertical-align: middle;\n",
       "    }\n",
       "\n",
       "    .dataframe tbody tr th {\n",
       "        vertical-align: top;\n",
       "    }\n",
       "\n",
       "    .dataframe thead th {\n",
       "        text-align: right;\n",
       "    }\n",
       "</style>\n",
       "<table border=\"1\" class=\"dataframe\">\n",
       "  <thead>\n",
       "    <tr style=\"text-align: right;\">\n",
       "      <th></th>\n",
       "      <th>score</th>\n",
       "      <th>category</th>\n",
       "      <th>uid</th>\n",
       "      <th>gender</th>\n",
       "      <th>age</th>\n",
       "      <th>text</th>\n",
       "    </tr>\n",
       "  </thead>\n",
       "  <tbody>\n",
       "    <tr>\n",
       "      <th>0</th>\n",
       "      <td>5</td>\n",
       "      <td>Car Rental</td>\n",
       "      <td>899881</td>\n",
       "      <td>F</td>\n",
       "      <td>50</td>\n",
       "      <td>Prices change daily and if you want to really ...</td>\n",
       "    </tr>\n",
       "    <tr>\n",
       "      <th>1</th>\n",
       "      <td>5</td>\n",
       "      <td>Fitness &amp; Nutrition</td>\n",
       "      <td>828184</td>\n",
       "      <td>M</td>\n",
       "      <td>32</td>\n",
       "      <td>and the fact that they will match other compan...</td>\n",
       "    </tr>\n",
       "    <tr>\n",
       "      <th>2</th>\n",
       "      <td>5</td>\n",
       "      <td>Electronic Payment</td>\n",
       "      <td>1698375</td>\n",
       "      <td>M</td>\n",
       "      <td>48</td>\n",
       "      <td>Used Paypal for my buying and selling for the ...</td>\n",
       "    </tr>\n",
       "    <tr>\n",
       "      <th>3</th>\n",
       "      <td>5</td>\n",
       "      <td>Gaming</td>\n",
       "      <td>3324079</td>\n",
       "      <td>M</td>\n",
       "      <td>29</td>\n",
       "      <td>I ' ve made two purchases on CJ ' s for Fallou...</td>\n",
       "    </tr>\n",
       "    <tr>\n",
       "      <th>4</th>\n",
       "      <td>4</td>\n",
       "      <td>Jewelry</td>\n",
       "      <td>719816</td>\n",
       "      <td>F</td>\n",
       "      <td>29</td>\n",
       "      <td>I was very happy with the diamond that I order...</td>\n",
       "    </tr>\n",
       "  </tbody>\n",
       "</table>\n",
       "</div>"
      ],
      "text/plain": [
       "   score             category      uid gender  age  \\\n",
       "0      5           Car Rental   899881      F   50   \n",
       "1      5  Fitness & Nutrition   828184      M   32   \n",
       "2      5   Electronic Payment  1698375      M   48   \n",
       "3      5               Gaming  3324079      M   29   \n",
       "4      4              Jewelry   719816      F   29   \n",
       "\n",
       "                                                text  \n",
       "0  Prices change daily and if you want to really ...  \n",
       "1  and the fact that they will match other compan...  \n",
       "2  Used Paypal for my buying and selling for the ...  \n",
       "3  I ' ve made two purchases on CJ ' s for Fallou...  \n",
       "4  I was very happy with the diamond that I order...  "
      ]
     },
     "execution_count": 71,
     "metadata": {},
     "output_type": "execute_result"
    }
   ],
   "source": [
    "df.head()"
   ]
  },
  {
   "cell_type": "code",
   "execution_count": 72,
   "metadata": {},
   "outputs": [
    {
     "name": "stdout",
     "output_type": "stream",
     "text": [
      "done\n"
     ]
    }
   ],
   "source": [
    "from gensim.models import Doc2Vec\n",
    "from gensim.models.doc2vec import FAST_VERSION\n",
    "from gensim.models.doc2vec import TaggedDocument\n",
    "\n",
    "corpus = []\n",
    "\n",
    "for row in df.iterrows():\n",
    "    label = row[1].score\n",
    "    text = row[1].text\n",
    "    corpus.append(TaggedDocument(words=text.split(), tags=[str(label)]))\n",
    "\n",
    "print('done')\n",
    "d2v_model = Doc2Vec(vector_size=100, \n",
    "                    window=15,\n",
    "                    hs=0,\n",
    "                    sample=0.000001,\n",
    "                    negative=5,\n",
    "                    min_count=100,\n",
    "                    workers=-1,\n",
    "                    epochs=500,\n",
    "                    dm=0, \n",
    "                    dbow_words=1)\n",
    "\n",
    "d2v_model.build_vocab(corpus)\n",
    "\n",
    "d2v_model.train(corpus, total_examples=d2v_model.corpus_count, epochs=d2v_model.epochs)"
   ]
  },
  {
   "cell_type": "markdown",
   "metadata": {
    "slideshow": {
     "slide_type": "subslide"
    }
   },
   "source": [
    "We can now look at the elements"
   ]
  },
  {
   "cell_type": "code",
   "execution_count": 73,
   "metadata": {},
   "outputs": [
    {
     "data": {
      "text/plain": [
       "{'5': Doctag(offset=0, word_count=4205492, doc_count=78827),\n",
       " '4': Doctag(offset=1, word_count=604853, doc_count=9164),\n",
       " '1': Doctag(offset=2, word_count=1205430, doc_count=7316),\n",
       " '2': Doctag(offset=3, word_count=301478, doc_count=2197),\n",
       " '3': Doctag(offset=4, word_count=254820, doc_count=2496)}"
      ]
     },
     "execution_count": 73,
     "metadata": {},
     "output_type": "execute_result"
    }
   ],
   "source": [
    "d2v_model.docvecs.doctags"
   ]
  },
  {
   "cell_type": "code",
   "execution_count": 75,
   "metadata": {},
   "outputs": [
    {
     "name": "stdout",
     "output_type": "stream",
     "text": [
      "[('4', 0.05546309053897858), ('3', 0.04905076324939728), ('2', -0.020994702354073524), ('5', -0.10378839075565338)]\n"
     ]
    }
   ],
   "source": [
    "target_doc = '1'\n",
    "\n",
    "similar_docs = d2v_model.docvecs.most_similar(target_doc, topn=5)\n",
    "print(similar_docs)"
   ]
  },
  {
   "cell_type": "markdown",
   "metadata": {
    "slideshow": {
     "slide_type": "subslide"
    }
   },
   "source": [
    "## Exercise\n",
    "\n",
    "What are the 10 most similar ***words*** to each category?"
   ]
  },
  {
   "cell_type": "code",
   "execution_count": 80,
   "metadata": {},
   "outputs": [
    {
     "data": {
      "text/plain": [
       "[('season', 0.33074963092803955),\n",
       " ('trip', 0.3259233236312866),\n",
       " ('term', 0.31779444217681885),\n",
       " ('include', 0.31765735149383545),\n",
       " ('preferred', 0.31474271416664124)]"
      ]
     },
     "execution_count": 80,
     "metadata": {},
     "output_type": "execute_result"
    }
   ],
   "source": [
    "# your code here\n",
    "d2v_model.wv.most_similar([d2v_model.docvecs['3']], topn=5)"
   ]
  },
  {
   "cell_type": "code",
   "execution_count": null,
   "metadata": {},
   "outputs": [],
   "source": []
  }
 ],
 "metadata": {
  "anaconda-cloud": {},
  "celltoolbar": "Slideshow",
  "kernelspec": {
   "display_name": "Python 3",
   "language": "python",
   "name": "python3"
  },
  "language_info": {
   "codemirror_mode": {
    "name": "ipython",
    "version": 3
   },
   "file_extension": ".py",
   "mimetype": "text/x-python",
   "name": "python",
   "nbconvert_exporter": "python",
   "pygments_lexer": "ipython3",
   "version": "3.6.8"
  },
  "livereveal": {
   "scroll": true,
   "start_slideshow_at": "selected",
   "transition": "none"
  }
 },
 "nbformat": 4,
 "nbformat_minor": 1
}
