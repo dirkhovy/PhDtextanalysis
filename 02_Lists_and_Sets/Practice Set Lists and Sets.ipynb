{
 "cells": [
  {
   "cell_type": "markdown",
   "metadata": {},
   "source": [
    "# Practice Set"
   ]
  },
  {
   "cell_type": "markdown",
   "metadata": {},
   "source": [
    "## Activity \n",
    "\n",
    "Victor Plum was killed in his studio with a knife by one of his heirs! Find the murderer!\n",
    "\n",
    "Hints:\n",
    "* The following people are Plum’s heirs: Diane, Eleanor, Kassandra, Jacob \n",
    "* The following people were in the studio: Eleanor, Jack, Diane\n",
    "* The following people own a knife: Jacob, Diane, Kassandra\n",
    "\n",
    "Use your knowledge of sets to solve this ghastly crime..."
   ]
  },
  {
   "cell_type": "code",
   "execution_count": null,
   "metadata": {},
   "outputs": [],
   "source": [
    "# your code here\n"
   ]
  },
  {
   "cell_type": "markdown",
   "metadata": {},
   "source": [
    "Given a list `italian_food`, retrieve the sublist that has all the values except the first two and the last two elements."
   ]
  },
  {
   "cell_type": "code",
   "execution_count": null,
   "metadata": {},
   "outputs": [],
   "source": [
    "italian_food = ['deep-dish pizza', 'pasta alfredo', 'gnocchi', 'pizzocheri', 'panzerotti', 'naan', 'cappuccino at 1pm']\n",
    "# your code here\n"
   ]
  },
  {
   "cell_type": "markdown",
   "metadata": {},
   "source": [
    "Read about the list functions `sorted()` and `reversed()` [here](https://docs.python.org/3/library/functions.html) and find the largest and the smallest value of a list."
   ]
  },
  {
   "cell_type": "code",
   "execution_count": null,
   "metadata": {},
   "outputs": [],
   "source": [
    "pretty_good_numbers = [42, 4, 2, 3, 9, 27, 113, 999, 18, 21, 1001, 911, 112]\n",
    "# your code here\n"
   ]
  },
  {
   "cell_type": "markdown",
   "metadata": {},
   "source": [
    "## Bloopers\n",
    "\n",
    "The following code snippets are not working. Try to find out what's wrong (hint: read the error messages) and correct it."
   ]
  },
  {
   "cell_type": "code",
   "execution_count": null,
   "metadata": {},
   "outputs": [],
   "source": [
    "shows = {'Game of Thrones', 'Breaking Bad', 'Rick & Morty', 'Archer'}\n",
    "print(shows[-1] == shows[len(shows)-1])"
   ]
  },
  {
   "cell_type": "code",
   "execution_count": null,
   "metadata": {},
   "outputs": [],
   "source": [
    "spice_girls = ['posh', 'ginger', 'scary', 'baby']\n",
    "spice_girls.add('sporty')\n",
    "print(spice_girls)"
   ]
  },
  {
   "cell_type": "code",
   "execution_count": null,
   "metadata": {},
   "outputs": [],
   "source": [
    "all_the_numbers_I_know = list(range(12))\n",
    "all_the_numbers_I_know.extend(43)\n",
    "print(all_the_numbers_I_know)"
   ]
  },
  {
   "cell_type": "markdown",
   "metadata": {},
   "source": [
    "## Read the code\n",
    "\n",
    "Read the code and explain to somebody else what it does."
   ]
  },
  {
   "cell_type": "code",
   "execution_count": null,
   "metadata": {},
   "outputs": [],
   "source": [
    "assorted_fruit = ['apple', 'pear', 'banana', 'spam', 'lichee', 'apple', 'spam', 'cherry', 'spam', 'melon', 'spam']\n",
    "reduced_fruit = list(set(assorted_fruit))\n",
    "print(len(assorted_fruit), len(reduced_fruit))\n",
    "reduced_fruit.remove('spam')\n",
    "print(sorted(reduced_fruit))"
   ]
  },
  {
   "cell_type": "code",
   "execution_count": null,
   "metadata": {},
   "outputs": [],
   "source": []
  }
 ],
 "metadata": {
  "kernelspec": {
   "display_name": "Python 3",
   "language": "python",
   "name": "python3"
  },
  "language_info": {
   "codemirror_mode": {
    "name": "ipython",
    "version": 3
   },
   "file_extension": ".py",
   "mimetype": "text/x-python",
   "name": "python",
   "nbconvert_exporter": "python",
   "pygments_lexer": "ipython3",
   "version": "3.6.8"
  }
 },
 "nbformat": 4,
 "nbformat_minor": 2
}
