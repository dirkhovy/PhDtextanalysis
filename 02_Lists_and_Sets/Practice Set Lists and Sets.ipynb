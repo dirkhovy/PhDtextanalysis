{
 "cells": [
  {
   "cell_type": "markdown",
   "metadata": {},
   "source": [
    "# Practice Set"
   ]
  },
  {
   "cell_type": "markdown",
   "metadata": {},
   "source": [
    "## Activity \n",
    "\n",
    "Victor Plum was killed in his studio with a knife by one of his heirs! Find the murderer!\n",
    "\n",
    "Hints:\n",
    "* The following people are Plum’s heirs: Diane, Eleanor, Kassandra, Jacob \n",
    "* The following people were in the studio: Eleanor, Jack, Diane\n",
    "* The following people own a knife: Jacob, Diane, Kassandra\n",
    "\n",
    "Use your knowledge of sets to solve this ghastly crime..."
   ]
  },
  {
   "cell_type": "code",
   "execution_count": 4,
   "metadata": {},
   "outputs": [
    {
     "name": "stdout",
     "output_type": "stream",
     "text": [
      "{'Diane'}\n"
     ]
    }
   ],
   "source": [
    "# your code here\n",
    "heirs = {'Diane', 'Eleanor', 'Kassandra', 'Jacob'}\n",
    "studio = {'Eleanor', 'Jack', 'Diane'}\n",
    "knife = {'Jacob', 'Diane', 'Kassandra'}\n",
    "murderer = heirs & studio & knife\n",
    "print(murderer)"
   ]
  },
  {
   "cell_type": "markdown",
   "metadata": {},
   "source": [
    "Given a list `italian_food`, retrieve the sublist that has all the values except the first two and the last two elements."
   ]
  },
  {
   "cell_type": "code",
   "execution_count": 5,
   "metadata": {},
   "outputs": [
    {
     "data": {
      "text/plain": [
       "['gnocchi', 'pizzocheri', 'panzerotti']"
      ]
     },
     "execution_count": 5,
     "metadata": {},
     "output_type": "execute_result"
    }
   ],
   "source": [
    "italian_food = ['deep-dish pizza', 'pasta alfredo', 'gnocchi', 'pizzocheri', 'panzerotti', 'naan', 'cappuccino at 1pm']\n",
    "# your code here\n",
    "italian_food[2:-2]"
   ]
  },
  {
   "cell_type": "markdown",
   "metadata": {},
   "source": [
    "Read about the list functions `sorted()` and `reversed()` [here](https://docs.python.org/3/library/functions.html) and find the largest and the smallest value of a list."
   ]
  },
  {
   "cell_type": "code",
   "execution_count": 16,
   "metadata": {},
   "outputs": [
    {
     "name": "stdout",
     "output_type": "stream",
     "text": [
      "[2, 3, 4, 9, 18, 21, 27, 42, 112, 113, 911, 999, 1001]\n",
      "[42, 4, 2, 3, 9, 27, 113, 999, 18, 21, 1001, 911, 112]\n",
      "[2, 3, 4, 9, 18, 21, 27, 42, 112, 113, 911, 999, 1001]\n",
      "[1, 2, 3, 5, 4, 7]\n"
     ]
    }
   ],
   "source": [
    "pretty_good_numbers = [42, 4, 2, 3, 9, 27, 113, 999, 18, 21, 1001, 911, 112]\n",
    "# your code here\n",
    "\n",
    "print(sorted(pretty_good_numbers))\n",
    "print(pretty_good_numbers)\n",
    "\n",
    "pretty_good_numbers.sort()\n",
    "print(pretty_good_numbers)\n",
    "\n",
    "\n",
    "input_list = [1,2,1,3,5,4,2,7]\n",
    "# output: [1,2,3,5,4,7] no duplicates, same order\n",
    "\n",
    "# after 3.6: dict.fromkeys(input_list).keys()\n",
    "input_list2 = list()\n",
    "input_set = set()\n",
    "\n",
    "for element in input_list:\n",
    "    if element not in input_set:\n",
    "        input_list2.append(element)\n",
    "        input_set.add(element)\n",
    "# for num in range(0, len(input_list)):\n",
    "#     if (input_list[num] in input_set) == False:\n",
    "#         input_list2.append(input_list[num])\n",
    "#         input_set.add(input_list[num])\n",
    "        \n",
    "print(input_list2)\n"
   ]
  },
  {
   "cell_type": "markdown",
   "metadata": {},
   "source": [
    "## Bloopers\n",
    "\n",
    "The following code snippets are not working. Try to find out what's wrong (hint: read the error messages) and correct it."
   ]
  },
  {
   "cell_type": "code",
   "execution_count": 18,
   "metadata": {},
   "outputs": [
    {
     "name": "stdout",
     "output_type": "stream",
     "text": [
      "True\n"
     ]
    }
   ],
   "source": [
    "shows = ['Game of Thrones', 'Breaking Bad', 'Rick & Morty', 'Archer']\n",
    "print(shows[-1] == shows[len(shows)-1])"
   ]
  },
  {
   "cell_type": "code",
   "execution_count": 21,
   "metadata": {},
   "outputs": [
    {
     "name": "stdout",
     "output_type": "stream",
     "text": [
      "{'sporty', 'scary', 'ginger', 'baby', 'posh'}\n"
     ]
    }
   ],
   "source": [
    "spice_girls = {'posh', 'ginger', 'scary', 'baby'}\n",
    "spice_girls.add('sporty')\n",
    "print(spice_girls)"
   ]
  },
  {
   "cell_type": "code",
   "execution_count": 24,
   "metadata": {},
   "outputs": [
    {
     "name": "stdout",
     "output_type": "stream",
     "text": [
      "[0, 1, 2, 3, 4, 5, 6, 7, 8, 9, 10, 11, 43]\n"
     ]
    }
   ],
   "source": [
    "all_the_numbers_I_know = list(range(12))\n",
    "# all_the_numbers_I_know.extend([43])\n",
    "all_the_numbers_I_know.append(43)\n",
    "\n",
    "print(all_the_numbers_I_know)"
   ]
  },
  {
   "cell_type": "markdown",
   "metadata": {},
   "source": [
    "## Read the code\n",
    "\n",
    "Read the code and explain to somebody else what it does."
   ]
  },
  {
   "cell_type": "code",
   "execution_count": 25,
   "metadata": {},
   "outputs": [
    {
     "name": "stdout",
     "output_type": "stream",
     "text": [
      "11 7\n",
      "['apple', 'banana', 'cherry', 'lichee', 'melon', 'pear']\n"
     ]
    }
   ],
   "source": [
    "assorted_fruit = ['apple', 'pear', 'banana', 'spam', 'lichee', 'apple', 'spam', 'cherry', 'spam', 'melon', 'spam']\n",
    "reduced_fruit = list(set(assorted_fruit))\n",
    "print(len(assorted_fruit), len(reduced_fruit))\n",
    "reduced_fruit.remove('spam')\n",
    "print(sorted(reduced_fruit))"
   ]
  },
  {
   "cell_type": "code",
   "execution_count": null,
   "metadata": {},
   "outputs": [],
   "source": [
    "Takes a list of food, removes duplicates and \"spam\" and orders the entries"
   ]
  }
 ],
 "metadata": {
  "kernelspec": {
   "display_name": "Python 3",
   "language": "python",
   "name": "python3"
  },
  "language_info": {
   "codemirror_mode": {
    "name": "ipython",
    "version": 3
   },
   "file_extension": ".py",
   "mimetype": "text/x-python",
   "name": "python",
   "nbconvert_exporter": "python",
   "pygments_lexer": "ipython3",
   "version": "3.6.8"
  }
 },
 "nbformat": 4,
 "nbformat_minor": 2
}
