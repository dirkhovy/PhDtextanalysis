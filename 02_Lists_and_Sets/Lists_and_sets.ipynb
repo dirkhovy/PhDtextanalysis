{
 "cells": [
  {
   "cell_type": "markdown",
   "metadata": {
    "slideshow": {
     "slide_type": "slide"
    }
   },
   "source": [
    "# Lists and Sets"
   ]
  },
  {
   "cell_type": "markdown",
   "metadata": {
    "slideshow": {
     "slide_type": "slide"
    }
   },
   "source": [
    "## *\"['da', 'da', 'da']\"* \n",
    "*(– Franz Lis[z]t)*"
   ]
  },
  {
   "cell_type": "markdown",
   "metadata": {
    "slideshow": {
     "slide_type": "notes"
    }
   },
   "source": [
    "# Built-in data types: Lists\n",
    "\n",
    "A list is one of the most versatile data structure in Python. It is a composite data structure, meaning that its basic parts are other data structures. At the same time it's simple, and it's easy to relate lists to how computers actually work.\n",
    "\n",
    "In many respects, strings can be thought of as lists of characters. "
   ]
  },
  {
   "cell_type": "markdown",
   "metadata": {
    "slideshow": {
     "slide_type": "slide"
    }
   },
   "source": [
    "# Lists\n",
    "\n",
    "* are enclosed within square brackets: `[]`\n",
    "* contain **elements** separated by commas\n",
    "* can contain *anything* as element. Even other lists...\n",
    "* are **mutable**: i.e., you can change an element without creating a new list\n",
    "* have an **index** (=position within the list) for each element \n",
    "* are **ordered**: there is a first, second, ..., last element"
   ]
  },
  {
   "cell_type": "code",
   "execution_count": 1,
   "metadata": {},
   "outputs": [
    {
     "name": "stdout",
     "output_type": "stream",
     "text": [
      "['bread', 42, [['eggs for breakfast', 'eggs for lunch', 'eggs for dinner']]]\n"
     ]
    }
   ],
   "source": [
    "things_I_like = ['bread',\n",
    "                 42,\n",
    "                 [\n",
    "                     ['eggs for breakfast', 'eggs for lunch', 'eggs for dinner']\n",
    "                 ]\n",
    "                ]\n",
    "\n",
    "print(things_I_like)"
   ]
  },
  {
   "cell_type": "markdown",
   "metadata": {
    "slideshow": {
     "slide_type": "subslide"
    }
   },
   "source": [
    "### Building a list\n",
    "\n",
    "There are several ways of creating a list.\n",
    "\n",
    "1. define the entire list\n",
    "2. start empty and append incrementally\n",
    "3. repeat one element\n",
    "4. define a range\n",
    "5. list comprehension (later)"
   ]
  },
  {
   "cell_type": "code",
   "execution_count": 3,
   "metadata": {},
   "outputs": [
    {
     "name": "stdout",
     "output_type": "stream",
     "text": [
      "['C', 'A', 'T', 'M', 'A', 'N']\n"
     ]
    }
   ],
   "source": [
    "catman_list = [\"C\", \"A\", \"T\", \"M\", \"A\", \"N\"]\n",
    "print(catman_list)"
   ]
  },
  {
   "cell_type": "markdown",
   "metadata": {
    "slideshow": {
     "slide_type": "subslide"
    }
   },
   "source": [
    "Incrementally constructing the list"
   ]
  },
  {
   "cell_type": "code",
   "execution_count": 4,
   "metadata": {},
   "outputs": [
    {
     "name": "stdout",
     "output_type": "stream",
     "text": [
      "['C', 'A']\n",
      "['C', 'A', 'T', 'M', 'A', 'N']\n"
     ]
    }
   ],
   "source": [
    "catman_list_incr = [] # or: list()\n",
    "catman_list_incr.append(\"C\")\n",
    "catman_list_incr.append(\"A\")\n",
    "print(catman_list_incr)\n",
    "catman_list_incr.append(\"T\")\n",
    "catman_list_incr.append(\"M\")\n",
    "catman_list_incr.append(\"A\")\n",
    "catman_list_incr.append(\"N\")\n",
    "print(catman_list_incr)"
   ]
  },
  {
   "cell_type": "markdown",
   "metadata": {
    "slideshow": {
     "slide_type": "subslide"
    }
   },
   "source": [
    "Repetititive lists"
   ]
  },
  {
   "cell_type": "code",
   "execution_count": 6,
   "metadata": {},
   "outputs": [
    {
     "name": "stdout",
     "output_type": "stream",
     "text": [
      "[1, 1, 1, 1, 1, 1, 1, 1, 1, 1]\n"
     ]
    }
   ],
   "source": [
    "lotsa_ones = [1] * 10\n",
    "print(lotsa_ones)"
   ]
  },
  {
   "cell_type": "markdown",
   "metadata": {
    "slideshow": {
     "slide_type": "subslide"
    }
   },
   "source": [
    "Ranges\n",
    "\n",
    "The `range()` function returns an **iterator**, starting from `0` (or a defined start) up to **but not including** the end number"
   ]
  },
  {
   "cell_type": "code",
   "execution_count": 11,
   "metadata": {},
   "outputs": [
    {
     "name": "stdout",
     "output_type": "stream",
     "text": [
      "range(0, 10)\n",
      "[1, 2, 3, 4, 5, 6, 7, 8, 9, 10]\n"
     ]
    }
   ],
   "source": [
    "print(range(10))\n",
    "print(list(range(1,11)))"
   ]
  },
  {
   "cell_type": "markdown",
   "metadata": {
    "slideshow": {
     "slide_type": "subslide"
    }
   },
   "source": [
    "### Activity\n",
    "\n",
    "* create a list of the Beatles' members and assign it to the variable `beatles`\n",
    "* create a list `let_it_be` that contains the lyrics \"Let it be\" 38 times\n",
    "* create a list with the numbers from 50 to 100 (both included!)"
   ]
  },
  {
   "cell_type": "code",
   "execution_count": 18,
   "metadata": {},
   "outputs": [],
   "source": [
    "# your code here\n",
    "beatles = ['john', 'paul', 'george', 'the other']\n",
    "let_it_be = ['Let it be'] * 38\n",
    "numbers = list(range(50, 101))"
   ]
  },
  {
   "cell_type": "markdown",
   "metadata": {
    "slideshow": {
     "slide_type": "subslide"
    }
   },
   "source": [
    "## Common list operations\n",
    "\n",
    "\n"
   ]
  },
  {
   "cell_type": "markdown",
   "metadata": {
    "slideshow": {
     "slide_type": "notes"
    }
   },
   "source": [
    "### Conceptual model of lists \n",
    "\n",
    "A list consists of a number of slots in which you put *references* to objects, such as numbers, strings, or even other lists.\n",
    "\n",
    "| Index | 0 | 1 | 2 | 3 | 4 | 5 |\n",
    "|:------|:--|:--|:--|:--|:--|:--|\n",
    "| Object| C | A | T | M | A | N |"
   ]
  },
  {
   "cell_type": "code",
   "execution_count": 51,
   "metadata": {},
   "outputs": [],
   "source": [
    "numbers = [1.3, 3, 5, 8]\n",
    "shows = ['Master Chef', 'Breaking Bad', 'Rick & Morty', 'Archer']"
   ]
  },
  {
   "cell_type": "markdown",
   "metadata": {
    "slideshow": {
     "slide_type": "subslide"
    }
   },
   "source": [
    "## Element Retrieval"
   ]
  },
  {
   "cell_type": "markdown",
   "metadata": {
    "slideshow": {
     "slide_type": "notes"
    }
   },
   "source": [
    "Subsets of lists can be retrieved using the **slice operators**."
   ]
  },
  {
   "cell_type": "markdown",
   "metadata": {
    "slideshow": {
     "slide_type": "-"
    }
   },
   "source": [
    "#### Single element retrieval\n",
    "\n",
    "We can retrieve any element simply by its position. \n",
    "\n",
    "NOTE: the first element is at position `0`! No, that does not make sense. Yes, it will be confusing. But that's ok."
   ]
  },
  {
   "cell_type": "code",
   "execution_count": 23,
   "metadata": {},
   "outputs": [
    {
     "name": "stdout",
     "output_type": "stream",
     "text": [
      "['Master Chef', 'Breaking Bad', 'Rick & Morty', 'Archer']\n",
      "Master Chef\n"
     ]
    }
   ],
   "source": [
    "print(shows)\n",
    "print(shows[0])"
   ]
  },
  {
   "cell_type": "markdown",
   "metadata": {
    "slideshow": {
     "slide_type": "subslide"
    }
   },
   "source": [
    "DOUBLE NOTE: the **last** element of *any* list has the index **`-1`**. The second to last has index `-2`, and so on. That does make a little sense, and it can be *very* handy."
   ]
  },
  {
   "cell_type": "code",
   "execution_count": 25,
   "metadata": {},
   "outputs": [
    {
     "name": "stdout",
     "output_type": "stream",
     "text": [
      "['Master Chef', 'Breaking Bad', 'Rick & Morty', 'Archer']\n",
      "Rick & Morty\n"
     ]
    }
   ],
   "source": [
    "print(shows)\n",
    "print(shows[-2])"
   ]
  },
  {
   "cell_type": "markdown",
   "metadata": {
    "slideshow": {
     "slide_type": "subslide"
    }
   },
   "source": [
    "### Activity\n",
    "\n",
    "- add your favorite show to `shows`\n",
    "- retrieve *Rick & Morty* from `shows` and print it\n",
    "- retrieve the third element (the number `5`) from `numbers` and print it"
   ]
  },
  {
   "cell_type": "code",
   "execution_count": 31,
   "metadata": {},
   "outputs": [
    {
     "name": "stdout",
     "output_type": "stream",
     "text": [
      "['Master Chef', 'Breaking Bad', 'Rick & Morty', 'Archer', 'Grey\\'s Anatomy, \"The real one\"', 'Grey\\'s Anatomy, \"The real one\"', 'Grey\\'s Anatomy, \"The real one\"']\n",
      "[1.3, 3, 5, 8]\n",
      "['Master Chef', 'Breaking Bad', 'Rick & Morty', 'Archer', 'Grey\\'s Anatomy, \"The real one\"', 'Grey\\'s Anatomy, \"The real one\"', 'Grey\\'s Anatomy, \"The real one\"', 'Grey\\'s Anatomy, \"The real one\"']\n",
      "Grey's Anatomy, \"The real one\"\n",
      "5\n"
     ]
    }
   ],
   "source": [
    "# your code here\n",
    "print(shows)\n",
    "print(numbers)\n",
    "\n",
    "shows.append(\"Grey's Anatomy, \\\"The real one\\\"\")\n",
    "print(shows)\n",
    "print(shows[-1])\n",
    "print(numbers[2])"
   ]
  },
  {
   "cell_type": "markdown",
   "metadata": {
    "slideshow": {
     "slide_type": "subslide"
    }
   },
   "source": [
    "### Remove specific element by value"
   ]
  },
  {
   "cell_type": "code",
   "execution_count": 36,
   "metadata": {},
   "outputs": [
    {
     "name": "stdout",
     "output_type": "stream",
     "text": [
      "['Norsemen', 'Master Chef', 'Breaking Bad', 'Rick & Morty', 'Archer', 'Grey\\'s Anatomy, \"The real one\"', 'Grey\\'s Anatomy, \"The real one\"', 'Grey\\'s Anatomy, \"The real one\"', 'Norsemen', 'Norsemen', 'Norsemen', 'Norsemen']\n",
      "['Master Chef', 'Breaking Bad', 'Rick & Morty', 'Archer', 'Grey\\'s Anatomy, \"The real one\"', 'Grey\\'s Anatomy, \"The real one\"', 'Norsemen', 'Norsemen', 'Norsemen', 'Norsemen']\n"
     ]
    }
   ],
   "source": [
    "shows.append(\"Norsemen\")\n",
    "shows = [\"Norsemen\"] + shows\n",
    "print(shows)\n",
    "shows.remove(\"Norsemen\")\n",
    "shows.remove('Grey\\'s Anatomy, \"The real one\"')\n",
    "\n",
    "print(shows)"
   ]
  },
  {
   "cell_type": "markdown",
   "metadata": {
    "slideshow": {
     "slide_type": "fragment"
    }
   },
   "source": [
    "Naturally, you need to know the element is in there, otherwise, we get an error:"
   ]
  },
  {
   "cell_type": "markdown",
   "metadata": {
    "slideshow": {
     "slide_type": "subslide"
    }
   },
   "source": [
    "#### Slices\n",
    "\n",
    "We can retrieve a **sublist** by defining a range of list indices, separated by a colon `[<START>: <END>]`\n",
    "\n",
    "NOTE: the `<END>` element is **not** included."
   ]
  },
  {
   "cell_type": "markdown",
   "metadata": {},
   "source": [
    "Getting the three first elements"
   ]
  },
  {
   "cell_type": "code",
   "execution_count": 54,
   "metadata": {},
   "outputs": [
    {
     "name": "stdout",
     "output_type": "stream",
     "text": [
      "['Master Chef', 'Breaking Bad', 'Rick & Morty']\n",
      "['Master Chef', 'Breaking Bad', 'Rick & Morty']\n"
     ]
    }
   ],
   "source": [
    "print(shows[0:3])\n",
    "# Alternative syntax if starting at 0:\n",
    "print(shows[:3])"
   ]
  },
  {
   "cell_type": "markdown",
   "metadata": {
    "slideshow": {
     "slide_type": "fragment"
    }
   },
   "source": [
    "Getting everything *but* the last element"
   ]
  },
  {
   "cell_type": "code",
   "execution_count": 55,
   "metadata": {},
   "outputs": [
    {
     "name": "stdout",
     "output_type": "stream",
     "text": [
      "['Master Chef', 'Breaking Bad', 'Rick & Morty']\n"
     ]
    }
   ],
   "source": [
    "print(shows[:-1])"
   ]
  },
  {
   "cell_type": "markdown",
   "metadata": {},
   "source": [
    "Getting the last three elements"
   ]
  },
  {
   "cell_type": "code",
   "execution_count": 58,
   "metadata": {},
   "outputs": [
    {
     "name": "stdout",
     "output_type": "stream",
     "text": [
      "['M', 'A', 'N']\n",
      "['M', 'A', 'N']\n"
     ]
    }
   ],
   "source": [
    "print(catman_list[-3:])\n",
    "# Alternative syntax if you know where to start\n",
    "print(catman_list[3:])"
   ]
  },
  {
   "cell_type": "markdown",
   "metadata": {
    "slideshow": {
     "slide_type": "subslide"
    }
   },
   "source": [
    "### Appending\n",
    "\n",
    "To add a single element to the end of a list, use `append()`, as before"
   ]
  },
  {
   "cell_type": "code",
   "execution_count": 52,
   "metadata": {},
   "outputs": [
    {
     "name": "stdout",
     "output_type": "stream",
     "text": [
      "list before we append: [1.3, 3, 5, 8]\n",
      "[1.3, 3, 5, 8, 11]\n"
     ]
    }
   ],
   "source": [
    "print(\"list before we append: {}\".format(numbers))\n",
    "numbers.append(11)\n",
    "print(numbers)"
   ]
  },
  {
   "cell_type": "markdown",
   "metadata": {
    "slideshow": {
     "slide_type": "subslide"
    }
   },
   "source": [
    "### Extending\n",
    "\n",
    "If we want to add more than one element, we can use `extend()`"
   ]
  },
  {
   "cell_type": "code",
   "execution_count": 48,
   "metadata": {},
   "outputs": [
    {
     "name": "stdout",
     "output_type": "stream",
     "text": [
      "['season 1', 'season2', 'season3']\n",
      "['season 1', 'season2', 'season3', 'season 4', 'season5', 'season6']\n"
     ]
    }
   ],
   "source": [
    "himym = ['season 1', 'season2', 'season3']\n",
    "print(himym)\n",
    "new_seasons = ['season 4', 'season5', 'season6']\n",
    "himym.extend(new_seasons)\n",
    "print(himym)"
   ]
  },
  {
   "cell_type": "markdown",
   "metadata": {
    "slideshow": {
     "slide_type": "subslide"
    }
   },
   "source": [
    "You can reach the same effect by concatenating lists with `+`"
   ]
  },
  {
   "cell_type": "code",
   "execution_count": 60,
   "metadata": {},
   "outputs": [
    {
     "name": "stdout",
     "output_type": "stream",
     "text": [
      "[1.3, 3, 5, 8, 11, 'C', 'A', 'T', 'M', 'A', 'N']\n"
     ]
    }
   ],
   "source": [
    "mixed_members = numbers + catman_list\n",
    "print(mixed_members)"
   ]
  },
  {
   "cell_type": "markdown",
   "metadata": {
    "slideshow": {
     "slide_type": "subslide"
    }
   },
   "source": [
    "## Activity\n",
    "\n",
    "* retrieve seasons 3 thru 5 from `himym`"
   ]
  },
  {
   "cell_type": "code",
   "execution_count": 61,
   "metadata": {},
   "outputs": [
    {
     "name": "stdout",
     "output_type": "stream",
     "text": [
      "['season3', 'season 4', 'season5']\n"
     ]
    }
   ],
   "source": [
    "# your code here\n",
    "print(himym[2:5])"
   ]
  },
  {
   "cell_type": "markdown",
   "metadata": {
    "slideshow": {
     "slide_type": "subslide"
    }
   },
   "source": [
    "### Removing and returning the last element"
   ]
  },
  {
   "cell_type": "code",
   "execution_count": 45,
   "metadata": {},
   "outputs": [
    {
     "name": "stdout",
     "output_type": "stream",
     "text": [
      "['Master Chef', 'Breaking Bad', 'Rick & Morty', 'Norsemen', 'Norsemen', 'Norsemen']\n",
      "Norsemen\n",
      "['Master Chef', 'Breaking Bad', 'Rick & Morty', 'Norsemen', 'Norsemen']\n"
     ]
    },
    {
     "ename": "IndexError",
     "evalue": "pop from empty list",
     "output_type": "error",
     "traceback": [
      "\u001b[0;31m---------------------------------------------------------------------------\u001b[0m",
      "\u001b[0;31mIndexError\u001b[0m                                Traceback (most recent call last)",
      "\u001b[0;32m<ipython-input-45-d2d1432826a8>\u001b[0m in \u001b[0;36m<module>\u001b[0;34m\u001b[0m\n\u001b[1;32m      3\u001b[0m \u001b[0mprint\u001b[0m\u001b[0;34m(\u001b[0m\u001b[0mshows\u001b[0m\u001b[0;34m)\u001b[0m\u001b[0;34m\u001b[0m\u001b[0;34m\u001b[0m\u001b[0m\n\u001b[1;32m      4\u001b[0m \u001b[0mL\u001b[0m \u001b[0;34m=\u001b[0m \u001b[0;34m[\u001b[0m\u001b[0;34m]\u001b[0m\u001b[0;34m\u001b[0m\u001b[0;34m\u001b[0m\u001b[0m\n\u001b[0;32m----> 5\u001b[0;31m \u001b[0mL\u001b[0m\u001b[0;34m.\u001b[0m\u001b[0mpop\u001b[0m\u001b[0;34m(\u001b[0m\u001b[0;34m)\u001b[0m\u001b[0;34m\u001b[0m\u001b[0;34m\u001b[0m\u001b[0m\n\u001b[0m",
      "\u001b[0;31mIndexError\u001b[0m: pop from empty list"
     ]
    }
   ],
   "source": [
    "print(shows)\n",
    "print(shows.pop())\n",
    "print(shows)\n",
    "L = []\n",
    "L.pop()"
   ]
  },
  {
   "cell_type": "markdown",
   "metadata": {},
   "source": [
    "You can also remove the `n`th element, by using `n` as an argument to `pop()`"
   ]
  },
  {
   "cell_type": "code",
   "execution_count": 62,
   "metadata": {},
   "outputs": [
    {
     "name": "stdout",
     "output_type": "stream",
     "text": [
      "['Master Chef', 'Breaking Bad', 'Rick & Morty', 'Archer']\n"
     ]
    },
    {
     "ename": "ValueError",
     "evalue": "'Grey\\'s Anatomy, \"The real one\"' is not in list",
     "output_type": "error",
     "traceback": [
      "\u001b[0;31m---------------------------------------------------------------------------\u001b[0m",
      "\u001b[0;31mValueError\u001b[0m                                Traceback (most recent call last)",
      "\u001b[0;32m<ipython-input-62-40d14ae9200f>\u001b[0m in \u001b[0;36m<module>\u001b[0;34m\u001b[0m\n\u001b[1;32m      1\u001b[0m \u001b[0mprint\u001b[0m\u001b[0;34m(\u001b[0m\u001b[0mshows\u001b[0m\u001b[0;34m)\u001b[0m\u001b[0;34m\u001b[0m\u001b[0;34m\u001b[0m\u001b[0m\n\u001b[0;32m----> 2\u001b[0;31m \u001b[0mprint\u001b[0m\u001b[0;34m(\u001b[0m\u001b[0mshows\u001b[0m\u001b[0;34m.\u001b[0m\u001b[0mpop\u001b[0m\u001b[0;34m(\u001b[0m\u001b[0mshows\u001b[0m\u001b[0;34m.\u001b[0m\u001b[0mindex\u001b[0m\u001b[0;34m(\u001b[0m\u001b[0;34m'Grey\\'s Anatomy, \"The real one\"'\u001b[0m\u001b[0;34m)\u001b[0m\u001b[0;34m)\u001b[0m\u001b[0;34m)\u001b[0m\u001b[0;34m\u001b[0m\u001b[0;34m\u001b[0m\u001b[0m\n\u001b[0m\u001b[1;32m      3\u001b[0m \u001b[0mshows\u001b[0m\u001b[0;34m.\u001b[0m\u001b[0mremove\u001b[0m\u001b[0;34m(\u001b[0m\u001b[0mshows\u001b[0m\u001b[0;34m[\u001b[0m\u001b[0;36m3\u001b[0m\u001b[0;34m]\u001b[0m\u001b[0;34m)\u001b[0m\u001b[0;34m\u001b[0m\u001b[0;34m\u001b[0m\u001b[0m\n\u001b[1;32m      4\u001b[0m \u001b[0mprint\u001b[0m\u001b[0;34m(\u001b[0m\u001b[0mshows\u001b[0m\u001b[0;34m)\u001b[0m\u001b[0;34m\u001b[0m\u001b[0;34m\u001b[0m\u001b[0m\n",
      "\u001b[0;31mValueError\u001b[0m: 'Grey\\'s Anatomy, \"The real one\"' is not in list"
     ]
    }
   ],
   "source": [
    "print(shows)\n",
    "print(shows.pop(shows.index('Grey\\'s Anatomy, \"The real one\"')))\n",
    "shows.remove(shows[3])\n",
    "print(shows)"
   ]
  },
  {
   "cell_type": "markdown",
   "metadata": {
    "slideshow": {
     "slide_type": "subslide"
    }
   },
   "source": [
    "## Activity\n",
    "\n",
    "* Discuss with your neighbor: If you were to implement a stack of cards as a list, how would you draw the last (top) card put on it?\n",
    "* If it was a queue, how would you retrieve the last person to enter it?"
   ]
  },
  {
   "cell_type": "code",
   "execution_count": 35,
   "metadata": {},
   "outputs": [
    {
     "ename": "ValueError",
     "evalue": "list.remove(x): x not in list",
     "output_type": "error",
     "traceback": [
      "\u001b[0;31m---------------------------------------------------------------------------\u001b[0m",
      "\u001b[0;31mValueError\u001b[0m                                Traceback (most recent call last)",
      "\u001b[0;32m<ipython-input-35-dfa138b050bd>\u001b[0m in \u001b[0;36m<module>\u001b[0;34m\u001b[0m\n\u001b[0;32m----> 1\u001b[0;31m \u001b[0mshows\u001b[0m\u001b[0;34m.\u001b[0m\u001b[0mremove\u001b[0m\u001b[0;34m(\u001b[0m\u001b[0;34m'Hanna Montana'\u001b[0m\u001b[0;34m)\u001b[0m\u001b[0;34m\u001b[0m\u001b[0;34m\u001b[0m\u001b[0m\n\u001b[0m",
      "\u001b[0;31mValueError\u001b[0m: list.remove(x): x not in list"
     ]
    }
   ],
   "source": [
    "shows.remove('Hanna Montana')"
   ]
  },
  {
   "cell_type": "markdown",
   "metadata": {
    "slideshow": {
     "slide_type": "subslide"
    }
   },
   "source": [
    "### Checking for elements\n",
    "\n",
    "To see whether an element is contained in a list, we can use the keyword `in`"
   ]
  },
  {
   "cell_type": "code",
   "execution_count": 37,
   "metadata": {},
   "outputs": [
    {
     "name": "stdout",
     "output_type": "stream",
     "text": [
      "True\n",
      "False\n"
     ]
    }
   ],
   "source": [
    "print('Breaking Bad' in shows)\n",
    "print('Good Eats' in shows)"
   ]
  },
  {
   "cell_type": "markdown",
   "metadata": {
    "slideshow": {
     "slide_type": "subslide"
    }
   },
   "source": [
    "### Finding the index of an element"
   ]
  },
  {
   "cell_type": "code",
   "execution_count": 63,
   "metadata": {},
   "outputs": [
    {
     "ename": "ValueError",
     "evalue": "'Norsemen' is not in list",
     "output_type": "error",
     "traceback": [
      "\u001b[0;31m---------------------------------------------------------------------------\u001b[0m",
      "\u001b[0;31mValueError\u001b[0m                                Traceback (most recent call last)",
      "\u001b[0;32m<ipython-input-63-f393d53ff574>\u001b[0m in \u001b[0;36m<module>\u001b[0;34m\u001b[0m\n\u001b[0;32m----> 1\u001b[0;31m \u001b[0mprint\u001b[0m\u001b[0;34m(\u001b[0m\u001b[0mshows\u001b[0m\u001b[0;34m,\u001b[0m \u001b[0mshows\u001b[0m\u001b[0;34m.\u001b[0m\u001b[0mindex\u001b[0m\u001b[0;34m(\u001b[0m\u001b[0;34m'Norsemen'\u001b[0m\u001b[0;34m)\u001b[0m\u001b[0;34m)\u001b[0m\u001b[0;34m\u001b[0m\u001b[0;34m\u001b[0m\u001b[0m\n\u001b[0m",
      "\u001b[0;31mValueError\u001b[0m: 'Norsemen' is not in list"
     ]
    }
   ],
   "source": [
    "print(shows, shows.index('Norsemen'))"
   ]
  },
  {
   "cell_type": "markdown",
   "metadata": {
    "slideshow": {
     "slide_type": "fragment"
    }
   },
   "source": [
    "If an element is not in a list, we get an error"
   ]
  },
  {
   "cell_type": "code",
   "execution_count": 64,
   "metadata": {},
   "outputs": [
    {
     "ename": "ValueError",
     "evalue": "'Vikings' is not in list",
     "output_type": "error",
     "traceback": [
      "\u001b[0;31m---------------------------------------------------------------------------\u001b[0m",
      "\u001b[0;31mValueError\u001b[0m                                Traceback (most recent call last)",
      "\u001b[0;32m<ipython-input-64-ffaeae59c1e9>\u001b[0m in \u001b[0;36m<module>\u001b[0;34m\u001b[0m\n\u001b[0;32m----> 1\u001b[0;31m \u001b[0mprint\u001b[0m\u001b[0;34m(\u001b[0m\u001b[0mshows\u001b[0m\u001b[0;34m.\u001b[0m\u001b[0mindex\u001b[0m\u001b[0;34m(\u001b[0m\u001b[0;34m'Vikings'\u001b[0m\u001b[0;34m)\u001b[0m\u001b[0;34m)\u001b[0m\u001b[0;34m\u001b[0m\u001b[0;34m\u001b[0m\u001b[0m\n\u001b[0m",
      "\u001b[0;31mValueError\u001b[0m: 'Vikings' is not in list"
     ]
    }
   ],
   "source": [
    "print(shows.index('Vikings'))"
   ]
  },
  {
   "cell_type": "markdown",
   "metadata": {
    "slideshow": {
     "slide_type": "subslide"
    }
   },
   "source": [
    "### Length of list\n",
    "\n",
    "We have already seen the function `len()`, but it also works for lists:"
   ]
  },
  {
   "cell_type": "code",
   "execution_count": 65,
   "metadata": {},
   "outputs": [
    {
     "name": "stdout",
     "output_type": "stream",
     "text": [
      "5\n"
     ]
    }
   ],
   "source": [
    "print(len(numbers))"
   ]
  },
  {
   "cell_type": "markdown",
   "metadata": {
    "collapsed": true,
    "slideshow": {
     "slide_type": "subslide"
    }
   },
   "source": [
    "### Converting between strings and lists\n",
    "\n",
    "Python treats strings as list of characters, and that can be very handy: everything we can do with lists, we can do with strings!\n",
    "\n",
    "In addition, we can convert back and forth between the two.\n",
    "\n",
    "To create a list from a string, use `split()` and define the split character"
   ]
  },
  {
   "cell_type": "code",
   "execution_count": 69,
   "metadata": {
    "slideshow": {
     "slide_type": "fragment"
    }
   },
   "outputs": [
    {
     "name": "stdout",
     "output_type": "stream",
     "text": [
      "['My', 'hovercraft', 'is', 'full', 'of', 'eels']\n"
     ]
    }
   ],
   "source": [
    "wise_words = \"My hovercraft is full of eels\"\n",
    "wise_list = wise_words.split()\n",
    "print(wise_list)"
   ]
  },
  {
   "cell_type": "markdown",
   "metadata": {
    "slideshow": {
     "slide_type": "subslide"
    }
   },
   "source": [
    "To join a list (of strings) into a string, use `join()`. It has a funny syntax, since the joining character comes first"
   ]
  },
  {
   "cell_type": "code",
   "execution_count": 73,
   "metadata": {},
   "outputs": [
    {
     "name": "stdout",
     "output_type": "stream",
     "text": [
      "Apple|Orange|Pear\n",
      "Apple|Orange|Pear\n"
     ]
    }
   ],
   "source": [
    "fruits = [\"Apple\", \"Orange\", \"Pear\"]\n",
    "joining_char = '|'\n",
    "print(joining_char.join(fruits))\n",
    "\n",
    "# Alternative syntax\n",
    "print(str.join(joining_char, fruits))"
   ]
  },
  {
   "cell_type": "markdown",
   "metadata": {
    "slideshow": {
     "slide_type": "subslide"
    }
   },
   "source": [
    "## Activity\n",
    "\n",
    "* split the string below on commas and write the result to a list\n",
    "* re-assemble the list as string by joining the elements with the pipe symbol `|`"
   ]
  },
  {
   "cell_type": "code",
   "execution_count": 79,
   "metadata": {},
   "outputs": [
    {
     "name": "stdout",
     "output_type": "stream",
     "text": [
      "learn to juggle|learn to use chainsaws|learn about one-hand-clapping\n"
     ]
    }
   ],
   "source": [
    "lessons = \"learn to juggle,learn to use chainsaws,learn about one-hand-clapping\"\n",
    "# your code here\n",
    "list_of_lessons = lessons.split(',')\n",
    "print('|'.join(list_of_lessons))"
   ]
  },
  {
   "cell_type": "markdown",
   "metadata": {
    "collapsed": true,
    "slideshow": {
     "slide_type": "slide"
    }
   },
   "source": [
    "## Sets\n",
    "\n",
    "Sets are collections of elements like lists, but with with some different properties, examined pictorially below. "
   ]
  },
  {
   "cell_type": "markdown",
   "metadata": {
    "slideshow": {
     "slide_type": "subslide"
    }
   },
   "source": [
    "### Sets are unordered\n",
    "\n",
    "<img src=\"sets_are_unordered.png\">"
   ]
  },
  {
   "cell_type": "markdown",
   "metadata": {
    "slideshow": {
     "slide_type": "subslide"
    }
   },
   "source": [
    "### Sets contain no duplicates\n",
    "\n",
    "<img src=\"sets_contain_no_dups.png\">"
   ]
  },
  {
   "cell_type": "markdown",
   "metadata": {
    "slideshow": {
     "slide_type": "subslide"
    }
   },
   "source": [
    "### Membership test is fast\n",
    "\n",
    "<img src=\"membership_test_is_fast.png\">"
   ]
  },
  {
   "cell_type": "markdown",
   "metadata": {
    "slideshow": {
     "slide_type": "subslide"
    }
   },
   "source": [
    "### Initialization\n",
    "\n",
    "Sets can be instantiated empy with `set()`, by putting elements in curly braces `{}`, or by casting a list as `set`"
   ]
  },
  {
   "cell_type": "code",
   "execution_count": 82,
   "metadata": {},
   "outputs": [
    {
     "name": "stdout",
     "output_type": "stream",
     "text": [
      "['a', 'good', 'sentence', 'is', 'a', 'sentence', 'with', 'good', 'words'] {'sentence', 'a', 'good', 'is', 'words', 'with'} {'w', 't', 'h', 'o', 'd', 'g', 'a', 'r', 'n', 'e', 'i', 'c', ' ', 's'}\n"
     ]
    }
   ],
   "source": [
    "empty_set = set()\n",
    "primes = {2, 3, 5, 7, 11, 13}\n",
    "up_to_ten = set([1, 2, 3, 4] + [4, 5, 6, 7, 8, 9, 10])\n",
    "\n",
    "sentence = 'a good sentence is a sentence with good words'\n",
    "tokens = sentence.split()\n",
    "types = set(tokens)\n",
    "print(tokens, types, set(sentence))"
   ]
  },
  {
   "cell_type": "markdown",
   "metadata": {
    "slideshow": {
     "slide_type": "fragment"
    }
   },
   "source": [
    "Casting a list as set is also a great way of getting rid of duplicates:"
   ]
  },
  {
   "cell_type": "code",
   "execution_count": 83,
   "metadata": {},
   "outputs": [
    {
     "name": "stdout",
     "output_type": "stream",
     "text": [
      "7 5 {'Roast squirrel', 'Salad', 'Pizza', 'Burger', 'Pasta'}\n"
     ]
    }
   ],
   "source": [
    "lunches_this_week = ['Pizza', 'Burger', 'Pasta', 'Pizza', 'Roast squirrel', 'Pasta', 'Salad']\n",
    "unique_lunches = set(lunches_this_week)\n",
    "print(len(lunches_this_week), len(unique_lunches), unique_lunches)"
   ]
  },
  {
   "cell_type": "markdown",
   "metadata": {
    "slideshow": {
     "slide_type": "subslide"
    }
   },
   "source": [
    "## Set operations"
   ]
  },
  {
   "cell_type": "markdown",
   "metadata": {},
   "source": [
    "<img src=\"set_ops.png\"/>"
   ]
  },
  {
   "cell_type": "markdown",
   "metadata": {
    "slideshow": {
     "slide_type": "subslide"
    }
   },
   "source": [
    "### Intersection\n",
    "Common elements in two sets"
   ]
  },
  {
   "cell_type": "code",
   "execution_count": 85,
   "metadata": {},
   "outputs": [
    {
     "name": "stdout",
     "output_type": "stream",
     "text": [
      "{2, 3, 5, 7, 11, 13} {1, 2, 3, 4, 5, 6, 7, 8, 9, 10}\n",
      "{2, 3, 5, 7}\n",
      "{2, 3, 5, 7}\n"
     ]
    }
   ],
   "source": [
    "print(primes, up_to_ten)\n",
    "print(primes & up_to_ten)\n",
    "# Alternative syntax: \n",
    "print(primes.intersection(up_to_ten))"
   ]
  },
  {
   "cell_type": "markdown",
   "metadata": {
    "slideshow": {
     "slide_type": "subslide"
    }
   },
   "source": [
    "### Difference \n",
    "Removing elements in one set from the other"
   ]
  },
  {
   "cell_type": "code",
   "execution_count": 88,
   "metadata": {},
   "outputs": [
    {
     "name": "stdout",
     "output_type": "stream",
     "text": [
      "{1, 2, 3, 4, 5, 6, 7, 8, 9, 10} {2, 3, 5, 7, 11, 13}\n",
      "{1, 4, 6, 8, 9, 10}\n",
      "{1, 4, 6, 8, 9, 10}\n"
     ]
    }
   ],
   "source": [
    "print(up_to_ten, primes)\n",
    "print(up_to_ten - primes)\n",
    "# Alternative syntax: \n",
    "print(up_to_ten.difference(primes))"
   ]
  },
  {
   "cell_type": "markdown",
   "metadata": {
    "slideshow": {
     "slide_type": "subslide"
    }
   },
   "source": [
    "### Union\n",
    "Combine elements that are in either set"
   ]
  },
  {
   "cell_type": "code",
   "execution_count": 89,
   "metadata": {},
   "outputs": [
    {
     "name": "stdout",
     "output_type": "stream",
     "text": [
      "{2, 3, 5, 7, 11, 13} {1, 2, 3, 4, 5, 6, 7, 8, 9, 10}\n",
      "{1, 2, 3, 4, 5, 6, 7, 8, 9, 10, 11, 13}\n",
      "{1, 2, 3, 4, 5, 6, 7, 8, 9, 10, 11, 13}\n"
     ]
    }
   ],
   "source": [
    "print(primes, up_to_ten)\n",
    "print(primes | up_to_ten)\n",
    "# Alternative syntax: \n",
    "print(primes.union(up_to_ten))"
   ]
  },
  {
   "cell_type": "markdown",
   "metadata": {
    "slideshow": {
     "slide_type": "subslide"
    }
   },
   "source": [
    "### Subsets\n",
    "Checking if all elements of one set are contained in another"
   ]
  },
  {
   "cell_type": "code",
   "execution_count": 90,
   "metadata": {
    "slideshow": {
     "slide_type": "-"
    }
   },
   "outputs": [
    {
     "name": "stdout",
     "output_type": "stream",
     "text": [
      "True\n"
     ]
    }
   ],
   "source": [
    "print(primes.issubset(up_to_ten.union(primes)))"
   ]
  },
  {
   "cell_type": "markdown",
   "metadata": {
    "slideshow": {
     "slide_type": "subslide"
    }
   },
   "source": [
    "### Activity\n",
    "\n",
    "Given the sets of flying animals, birds and mammals,\n",
    "- retrieve the set of flightless birds and \n",
    "- the set of flying mammals.\n",
    "\n",
    "Use set operations like `.intersection`, `.union` or `.difference`\n",
    "\n",
    "BONUS: Try to do it in one single line."
   ]
  },
  {
   "cell_type": "code",
   "execution_count": null,
   "metadata": {},
   "outputs": [],
   "source": [
    "fly = {\"bat\",\"crow\",\"eagle\",\"sparrow\",\"finch\"}\n",
    "bird = {\"crow\",\"eagle\",\"sparrow\",\"finch\",\"penguin\",\"ostrich\"}\n",
    "mammal = {\"bat\",\"possum\",\"cow\",\"whale\"}\n",
    "\n",
    "#your code here\n"
   ]
  },
  {
   "cell_type": "markdown",
   "metadata": {
    "slideshow": {
     "slide_type": "subslide"
    }
   },
   "source": [
    "### Modifying elements"
   ]
  },
  {
   "cell_type": "code",
   "execution_count": null,
   "metadata": {},
   "outputs": [],
   "source": [
    "print(primes)\n",
    "primes.add(17)\n",
    "print(primes)"
   ]
  },
  {
   "cell_type": "code",
   "execution_count": null,
   "metadata": {},
   "outputs": [],
   "source": [
    "print(up_to_ten)\n",
    "up_to_ten.remove(10)\n",
    "print(up_to_ten)"
   ]
  },
  {
   "cell_type": "code",
   "execution_count": null,
   "metadata": {},
   "outputs": [],
   "source": [
    "print(up_to_ten.pop())"
   ]
  },
  {
   "cell_type": "markdown",
   "metadata": {
    "slideshow": {
     "slide_type": "subslide"
    }
   },
   "source": [
    "### Variables $\\neq$ values\n",
    "\n",
    "While people ofte refer to an assignment as *saving* a value in a variable, in Python, the ***value*** leads an existence independent from the ***variable***, which is merely a *reference* to the value. It is therefore possible to have more than one variable referencing the same value. "
   ]
  },
  {
   "cell_type": "markdown",
   "metadata": {
    "slideshow": {
     "slide_type": "subslide"
    }
   },
   "source": [
    "E.g.: Kaj and Pia like the same kinds of dishes. "
   ]
  },
  {
   "cell_type": "code",
   "execution_count": null,
   "metadata": {},
   "outputs": [],
   "source": [
    "kajs_favorite_dishes = [\"falafel\"]\n",
    "pias_favorite_dishes = kajs_favorite_dishes.copy()\n",
    "print(kajs_favorite_dishes, pias_favorite_dishes)"
   ]
  },
  {
   "cell_type": "markdown",
   "metadata": {
    "slideshow": {
     "slide_type": "fragment"
    }
   },
   "source": [
    "At some point Pia's taste evolves radically:"
   ]
  },
  {
   "cell_type": "code",
   "execution_count": null,
   "metadata": {},
   "outputs": [],
   "source": [
    "pias_favorite_dishes.append(\"squirrel\")\n",
    "print(pias_favorite_dishes)"
   ]
  },
  {
   "cell_type": "markdown",
   "metadata": {
    "slideshow": {
     "slide_type": "fragment"
    }
   },
   "source": [
    "Now Kaj has a problem…"
   ]
  },
  {
   "cell_type": "code",
   "execution_count": null,
   "metadata": {},
   "outputs": [],
   "source": [
    "print(kajs_favorite_dishes)"
   ]
  },
  {
   "cell_type": "markdown",
   "metadata": {},
   "source": [
    "Solution: use `copy()` when you create a new list based on an existing one."
   ]
  },
  {
   "cell_type": "code",
   "execution_count": null,
   "metadata": {},
   "outputs": [],
   "source": [
    "pias_favorite_dishes = kajs_favorite_dishes.copy()"
   ]
  }
 ],
 "metadata": {
  "anaconda-cloud": {},
  "celltoolbar": "Slideshow",
  "kernelspec": {
   "display_name": "Python 3",
   "language": "python",
   "name": "python3"
  },
  "language_info": {
   "codemirror_mode": {
    "name": "ipython",
    "version": 3
   },
   "file_extension": ".py",
   "mimetype": "text/x-python",
   "name": "python",
   "nbconvert_exporter": "python",
   "pygments_lexer": "ipython3",
   "version": "3.6.8"
  },
  "livereveal": {
   "scroll": true,
   "start_slideshow_at": "selected",
   "transition": "none"
  }
 },
 "nbformat": 4,
 "nbformat_minor": 1
}
